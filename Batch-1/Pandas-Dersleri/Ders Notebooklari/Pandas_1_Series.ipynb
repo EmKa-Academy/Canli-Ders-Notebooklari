{
  "nbformat": 4,
  "nbformat_minor": 0,
  "metadata": {
    "colab": {
      "provenance": []
    },
    "kernelspec": {
      "name": "python3",
      "display_name": "Python 3"
    },
    "language_info": {
      "name": "python"
    }
  },
  "cells": [
    {
      "cell_type": "markdown",
      "source": [
        "# Pandas Nedir ?"
      ],
      "metadata": {
        "id": "L0J-71lWTi6P"
      }
    },
    {
      "cell_type": "code",
      "execution_count": null,
      "metadata": {
        "id": "DeMfnyTYThJd"
      },
      "outputs": [],
      "source": [
        "# Pandas açık kaynaklı ve ücretsiz veri(bilgi) işleme, manipüle etme, temizleme vb. işlemleri yapabileceğimiz oldukça efektik bir kütüphanedir.\n",
        "# Pandas kütüphanesi NumPy kütüphanesi üzerine kurulmuş bir kütüphanedir.\n",
        "# Pandas elimizdeki veriyi(bilgiyi) şekillendirip işlememize ve veriden ANLAMLI SONUÇLAR çıkarmamıza olanak sağlar.\n",
        "# Pandas kütüphanesinin temel elemanları Series ve DataFrame'dir.\n",
        "# Series ve DataFrame nesnelerini excel tabloları gibi düşünebiliriz."
      ]
    },
    {
      "cell_type": "markdown",
      "source": [
        "# Pandas'ı Import Etme"
      ],
      "metadata": {
        "id": "tKzCkD_AWF60"
      }
    },
    {
      "cell_type": "code",
      "source": [
        "# !pip install pandas"
      ],
      "metadata": {
        "colab": {
          "base_uri": "https://localhost:8080/"
        },
        "id": "RENsN8erWIAl",
        "outputId": "5f1282c5-509f-44ae-8021-593a380c247c"
      },
      "execution_count": 1,
      "outputs": [
        {
          "output_type": "stream",
          "name": "stdout",
          "text": [
            "Looking in indexes: https://pypi.org/simple, https://us-python.pkg.dev/colab-wheels/public/simple/\n",
            "Requirement already satisfied: pandas in /usr/local/lib/python3.9/dist-packages (1.4.4)\n",
            "Requirement already satisfied: numpy>=1.18.5 in /usr/local/lib/python3.9/dist-packages (from pandas) (1.22.4)\n",
            "Requirement already satisfied: pytz>=2020.1 in /usr/local/lib/python3.9/dist-packages (from pandas) (2022.7.1)\n",
            "Requirement already satisfied: python-dateutil>=2.8.1 in /usr/local/lib/python3.9/dist-packages (from pandas) (2.8.2)\n",
            "Requirement already satisfied: six>=1.5 in /usr/local/lib/python3.9/dist-packages (from python-dateutil>=2.8.1->pandas) (1.16.0)\n"
          ]
        }
      ]
    },
    {
      "cell_type": "markdown",
      "source": [
        "# Series Oluşturma"
      ],
      "metadata": {
        "id": "2PS2EdaMWDU_"
      }
    },
    {
      "cell_type": "code",
      "source": [
        "# import pandas\n",
        "import pandas as pd"
      ],
      "metadata": {
        "id": "m1F33YgJUhBu"
      },
      "execution_count": 2,
      "outputs": []
    },
    {
      "cell_type": "code",
      "source": [
        "my_data = ['Emincan' , 'Alper' , 'Burak' , 'Dilara' , 'Zeynep']\n",
        "my_data"
      ],
      "metadata": {
        "colab": {
          "base_uri": "https://localhost:8080/"
        },
        "id": "I_xEfX3mTkHd",
        "outputId": "bb686be1-e3aa-4e2e-901d-69f45e5dd3f2"
      },
      "execution_count": 3,
      "outputs": [
        {
          "output_type": "execute_result",
          "data": {
            "text/plain": [
              "['Emincan', 'Alper', 'Burak', 'Dilara', 'Zeynep']"
            ]
          },
          "metadata": {},
          "execution_count": 3
        }
      ]
    },
    {
      "cell_type": "code",
      "source": [
        "# pd.Series() fonksiyonu ile elimizdeki verileri Series haline getirebiliriz."
      ],
      "metadata": {
        "id": "yFOc85eYW53V"
      },
      "execution_count": null,
      "outputs": []
    },
    {
      "cell_type": "code",
      "source": [
        "pd.Series(my_data)"
      ],
      "metadata": {
        "colab": {
          "base_uri": "https://localhost:8080/"
        },
        "id": "_K0TN-VVXCwL",
        "outputId": "ee3fa616-5d97-4024-a1bc-2bbd41a875d8"
      },
      "execution_count": 4,
      "outputs": [
        {
          "output_type": "execute_result",
          "data": {
            "text/plain": [
              "0    Emincan\n",
              "1      Alper\n",
              "2      Burak\n",
              "3     Dilara\n",
              "4     Zeynep\n",
              "dtype: object"
            ]
          },
          "metadata": {},
          "execution_count": 4
        }
      ]
    },
    {
      "cell_type": "code",
      "source": [
        "my_data = [1923 , 1776 , 1876]\n",
        "my_idx = ['Türkiye' , 'USA' , 'Canada' ]"
      ],
      "metadata": {
        "id": "8FCSeC-zXaTR"
      },
      "execution_count": 5,
      "outputs": []
    },
    {
      "cell_type": "code",
      "source": [
        "pd.Series(my_data, my_idx)"
      ],
      "metadata": {
        "colab": {
          "base_uri": "https://localhost:8080/"
        },
        "id": "3MlwSIOfYMqT",
        "outputId": "3df4c27b-ec32-4626-c9bb-15ba4c9a005b"
      },
      "execution_count": 8,
      "outputs": [
        {
          "output_type": "execute_result",
          "data": {
            "text/plain": [
              "Türkiye    1923\n",
              "USA        1776\n",
              "Canada     1876\n",
              "dtype: int64"
            ]
          },
          "metadata": {},
          "execution_count": 8
        }
      ]
    },
    {
      "cell_type": "code",
      "source": [
        "pd.Series(data= my_data, index= my_idx)"
      ],
      "metadata": {
        "colab": {
          "base_uri": "https://localhost:8080/"
        },
        "id": "AvcmlRFUYNyU",
        "outputId": "082f24c4-1f1c-4028-d83c-ef0e34244e08"
      },
      "execution_count": 12,
      "outputs": [
        {
          "output_type": "execute_result",
          "data": {
            "text/plain": [
              "Türkiye    1923\n",
              "USA        1776\n",
              "Canada     1876\n",
              "dtype: int64"
            ]
          },
          "metadata": {},
          "execution_count": 12
        }
      ]
    },
    {
      "cell_type": "code",
      "source": [
        "# pd.Series() fonksiyonu içerisine dictionary de alabilir. Dictionary'nin keyleri index, value'ları değer olur."
      ],
      "metadata": {
        "id": "4aFLVk__YiR1"
      },
      "execution_count": null,
      "outputs": []
    },
    {
      "cell_type": "code",
      "source": [
        "my_dict = {\n",
        "    'Emincan' : 26,\n",
        "    'Kaan' : 23,\n",
        "    'Ayşe' : 21,\n",
        "    'Deniz' : 29\n",
        "    }"
      ],
      "metadata": {
        "id": "_x8UgSLDYyHJ"
      },
      "execution_count": 10,
      "outputs": []
    },
    {
      "cell_type": "code",
      "source": [
        "my_dict"
      ],
      "metadata": {
        "colab": {
          "base_uri": "https://localhost:8080/"
        },
        "id": "45EaZeYQZBxF",
        "outputId": "c14f1aee-3e5d-4bfa-b47d-0341dcc277d2"
      },
      "execution_count": 13,
      "outputs": [
        {
          "output_type": "execute_result",
          "data": {
            "text/plain": [
              "{'Emincan': 26, 'Kaan': 23, 'Ayşe': 21, 'Deniz': 29}"
            ]
          },
          "metadata": {},
          "execution_count": 13
        }
      ]
    },
    {
      "cell_type": "code",
      "source": [
        "pd.Series(data = my_dict)"
      ],
      "metadata": {
        "colab": {
          "base_uri": "https://localhost:8080/"
        },
        "id": "3IvkAi9DZPDs",
        "outputId": "c9d7c386-b04d-4eee-9042-1b18015b3c0e"
      },
      "execution_count": 14,
      "outputs": [
        {
          "output_type": "execute_result",
          "data": {
            "text/plain": [
              "Emincan    26\n",
              "Kaan       23\n",
              "Ayşe       21\n",
              "Deniz      29\n",
              "dtype: int64"
            ]
          },
          "metadata": {},
          "execution_count": 14
        }
      ]
    },
    {
      "cell_type": "code",
      "source": [
        "# Soru : İstanbul 15.4 , İzmir 4.3 , Ankara 5.6 , Bursa 3 şeklinde seri oluşturun. Hem liste göndererek, \n",
        "# hem de dictionary göndererek iki yöntemle de yapın."
      ],
      "metadata": {
        "id": "zPD8iwJjZVul"
      },
      "execution_count": null,
      "outputs": []
    },
    {
      "cell_type": "code",
      "source": [
        "my_data = [15.4 , 4.3, 5.6, 3]\n",
        "my_idx = ['İstanbul' , 'İzmir' , 'Ankara' , 'Bursa']\n",
        "pd.Series(my_data , my_idx)"
      ],
      "metadata": {
        "colab": {
          "base_uri": "https://localhost:8080/"
        },
        "id": "c9f_FsuYamWX",
        "outputId": "d3ad80df-4bc5-4ed8-872b-34db00466f79"
      },
      "execution_count": 15,
      "outputs": [
        {
          "output_type": "execute_result",
          "data": {
            "text/plain": [
              "İstanbul    15.4\n",
              "İzmir        4.3\n",
              "Ankara       5.6\n",
              "Bursa        3.0\n",
              "dtype: float64"
            ]
          },
          "metadata": {},
          "execution_count": 15
        }
      ]
    },
    {
      "cell_type": "code",
      "source": [
        "my_dict = {\n",
        "    'İstanbul' : 15.4,\n",
        "    'İzmir' : 4.3,\n",
        "    'Ankara': 5.6,\n",
        "    'Bursa' : 3\n",
        "}\n",
        "pd.Series(my_dict)"
      ],
      "metadata": {
        "colab": {
          "base_uri": "https://localhost:8080/"
        },
        "id": "J7IjVnqNatut",
        "outputId": "5fb525e7-ae95-4138-9ca1-8b3227082639"
      },
      "execution_count": 16,
      "outputs": [
        {
          "output_type": "execute_result",
          "data": {
            "text/plain": [
              "İstanbul    15.4\n",
              "İzmir        4.3\n",
              "Ankara       5.6\n",
              "Bursa        3.0\n",
              "dtype: float64"
            ]
          },
          "metadata": {},
          "execution_count": 16
        }
      ]
    },
    {
      "cell_type": "markdown",
      "source": [
        "# Serilerde İşlemler"
      ],
      "metadata": {
        "id": "TZ-5GzNia3Q9"
      }
    },
    {
      "cell_type": "code",
      "source": [
        "q1 = {'Japan': 80, 'China' : 450 , 'Turkey': 150 , 'India' : 200 }\n",
        "q2 = {'Japan': 90, 'China' : 420 , 'Turkey': 230 , 'India' : 195 }"
      ],
      "metadata": {
        "id": "V11ohvACa2OT"
      },
      "execution_count": 17,
      "outputs": []
    },
    {
      "cell_type": "code",
      "source": [
        "sales_q1 = pd.Series(q1)\n",
        "sales_q2 = pd.Series(q2)"
      ],
      "metadata": {
        "id": "nIqOxilfbVoE"
      },
      "execution_count": 20,
      "outputs": []
    },
    {
      "cell_type": "code",
      "source": [
        "sales_q1"
      ],
      "metadata": {
        "colab": {
          "base_uri": "https://localhost:8080/"
        },
        "id": "95YlLmcHbeVU",
        "outputId": "246b5bf1-2723-474a-d336-9bd435e4c00e"
      },
      "execution_count": 19,
      "outputs": [
        {
          "output_type": "execute_result",
          "data": {
            "text/plain": [
              "Japan      80\n",
              "China     450\n",
              "Turkey    150\n",
              "India     200\n",
              "dtype: int64"
            ]
          },
          "metadata": {},
          "execution_count": 19
        }
      ]
    },
    {
      "cell_type": "code",
      "source": [
        "sales_q2"
      ],
      "metadata": {
        "colab": {
          "base_uri": "https://localhost:8080/"
        },
        "id": "KtFX9fogbfLs",
        "outputId": "19b8c5c8-7ad7-4fa2-ba07-0f822912e618"
      },
      "execution_count": 21,
      "outputs": [
        {
          "output_type": "execute_result",
          "data": {
            "text/plain": [
              "Japan      90\n",
              "China     420\n",
              "Turkey    230\n",
              "India     195\n",
              "dtype: int64"
            ]
          },
          "metadata": {},
          "execution_count": 21
        }
      ]
    },
    {
      "cell_type": "code",
      "source": [
        "sales_total = sales_q1 + sales_q2\n",
        "sales_total"
      ],
      "metadata": {
        "colab": {
          "base_uri": "https://localhost:8080/"
        },
        "id": "ui0XGEAPbmrc",
        "outputId": "8ef716f9-3958-49af-94cd-b3ea61f2017d"
      },
      "execution_count": 23,
      "outputs": [
        {
          "output_type": "execute_result",
          "data": {
            "text/plain": [
              "Japan     170\n",
              "China     870\n",
              "Turkey    380\n",
              "India     395\n",
              "dtype: int64"
            ]
          },
          "metadata": {},
          "execution_count": 23
        }
      ]
    },
    {
      "cell_type": "code",
      "source": [
        "sales_total.index # .index attribute'ı ile bakabiliriz"
      ],
      "metadata": {
        "colab": {
          "base_uri": "https://localhost:8080/"
        },
        "id": "_CtVzOl0b0Qk",
        "outputId": "be80b818-1b0d-45d1-a182-6d737885cf15"
      },
      "execution_count": 24,
      "outputs": [
        {
          "output_type": "execute_result",
          "data": {
            "text/plain": [
              "Index(['Japan', 'China', 'Turkey', 'India'], dtype='object')"
            ]
          },
          "metadata": {},
          "execution_count": 24
        }
      ]
    },
    {
      "cell_type": "code",
      "source": [
        "sales_total.keys() # .keys() metoduyla da indexlerine bakabiliriz."
      ],
      "metadata": {
        "colab": {
          "base_uri": "https://localhost:8080/"
        },
        "id": "nU1QJ7PucKKw",
        "outputId": "8caea31d-ee21-4d0a-d318-ca56eeddfea1"
      },
      "execution_count": 25,
      "outputs": [
        {
          "output_type": "execute_result",
          "data": {
            "text/plain": [
              "Index(['Japan', 'China', 'Turkey', 'India'], dtype='object')"
            ]
          },
          "metadata": {},
          "execution_count": 25
        }
      ]
    },
    {
      "cell_type": "code",
      "source": [
        "sales_total.values # .values attribute'ı ile serimizin değerlerine bakabiliriz."
      ],
      "metadata": {
        "colab": {
          "base_uri": "https://localhost:8080/"
        },
        "id": "5QnCKQ-bfkf7",
        "outputId": "67d956a2-83e0-4b0b-e20f-441d544d7d5d"
      },
      "execution_count": 26,
      "outputs": [
        {
          "output_type": "execute_result",
          "data": {
            "text/plain": [
              "array([170, 870, 380, 395])"
            ]
          },
          "metadata": {},
          "execution_count": 26
        }
      ]
    },
    {
      "cell_type": "code",
      "source": [
        "sales_total"
      ],
      "metadata": {
        "colab": {
          "base_uri": "https://localhost:8080/"
        },
        "id": "62sVWFshfu00",
        "outputId": "4df902d6-b7f9-452c-8116-a4799b73dd5c"
      },
      "execution_count": 27,
      "outputs": [
        {
          "output_type": "execute_result",
          "data": {
            "text/plain": [
              "Japan     170\n",
              "China     870\n",
              "Turkey    380\n",
              "India     395\n",
              "dtype: int64"
            ]
          },
          "metadata": {},
          "execution_count": 27
        }
      ]
    },
    {
      "cell_type": "code",
      "source": [
        "sales_total * 2"
      ],
      "metadata": {
        "colab": {
          "base_uri": "https://localhost:8080/"
        },
        "id": "NdQoRQaJf6YT",
        "outputId": "926bb802-5193-4cee-d40e-8c73bd4e9949"
      },
      "execution_count": 28,
      "outputs": [
        {
          "output_type": "execute_result",
          "data": {
            "text/plain": [
              "Japan      340\n",
              "China     1740\n",
              "Turkey     760\n",
              "India      790\n",
              "dtype: int64"
            ]
          },
          "metadata": {},
          "execution_count": 28
        }
      ]
    },
    {
      "cell_type": "code",
      "source": [
        "sales_total / 10"
      ],
      "metadata": {
        "colab": {
          "base_uri": "https://localhost:8080/"
        },
        "id": "eMjNAKA4f-Q7",
        "outputId": "5ce2ba2a-2a92-4fa5-c99a-0c9358d126ee"
      },
      "execution_count": 29,
      "outputs": [
        {
          "output_type": "execute_result",
          "data": {
            "text/plain": [
              "Japan     17.0\n",
              "China     87.0\n",
              "Turkey    38.0\n",
              "India     39.5\n",
              "dtype: float64"
            ]
          },
          "metadata": {},
          "execution_count": 29
        }
      ]
    },
    {
      "cell_type": "code",
      "source": [
        "sales_q2 - sales_q1"
      ],
      "metadata": {
        "colab": {
          "base_uri": "https://localhost:8080/"
        },
        "id": "krFFv86agCpy",
        "outputId": "321f23c2-77b3-4141-fbfe-ab1cbcaed046"
      },
      "execution_count": 31,
      "outputs": [
        {
          "output_type": "execute_result",
          "data": {
            "text/plain": [
              "Japan     10\n",
              "China    -30\n",
              "Turkey    80\n",
              "India     -5\n",
              "dtype: int64"
            ]
          },
          "metadata": {},
          "execution_count": 31
        }
      ]
    },
    {
      "cell_type": "code",
      "source": [
        "q1 = {'Japan': 80, 'China' : 450 , 'India': 150 , 'USA' : 200 }\n",
        "q2 = {'Brazil': 90, 'China' : 420 , 'India': 230 , 'USA' : 195 }"
      ],
      "metadata": {
        "id": "0Fhyh-dvgMez"
      },
      "execution_count": 32,
      "outputs": []
    },
    {
      "cell_type": "code",
      "source": [
        "sales_q1 = pd.Series(q1)\n",
        "sales_q2 = pd.Series(q2)"
      ],
      "metadata": {
        "id": "WE2NrBPYgpEg"
      },
      "execution_count": 33,
      "outputs": []
    },
    {
      "cell_type": "code",
      "source": [
        "sales_q1"
      ],
      "metadata": {
        "colab": {
          "base_uri": "https://localhost:8080/"
        },
        "id": "GQOb2ZwOgwUE",
        "outputId": "2aacbaee-6fa2-4399-d7f6-69f6aa63bcc3"
      },
      "execution_count": 34,
      "outputs": [
        {
          "output_type": "execute_result",
          "data": {
            "text/plain": [
              "Japan     80\n",
              "China    450\n",
              "India    150\n",
              "USA      200\n",
              "dtype: int64"
            ]
          },
          "metadata": {},
          "execution_count": 34
        }
      ]
    },
    {
      "cell_type": "code",
      "source": [
        "sales_q2"
      ],
      "metadata": {
        "colab": {
          "base_uri": "https://localhost:8080/"
        },
        "id": "Ds6y67LXgxWL",
        "outputId": "053ac73c-d9d5-4d16-a753-92e1dfc80bb4"
      },
      "execution_count": 35,
      "outputs": [
        {
          "output_type": "execute_result",
          "data": {
            "text/plain": [
              "Brazil     90\n",
              "China     420\n",
              "India     230\n",
              "USA       195\n",
              "dtype: int64"
            ]
          },
          "metadata": {},
          "execution_count": 35
        }
      ]
    },
    {
      "cell_type": "code",
      "source": [
        "sales_q1 + sales_q2"
      ],
      "metadata": {
        "colab": {
          "base_uri": "https://localhost:8080/"
        },
        "id": "jqgdWo5pgyHj",
        "outputId": "f1d7d4fd-a24d-45bd-a16e-0825b05e1ef1"
      },
      "execution_count": 36,
      "outputs": [
        {
          "output_type": "execute_result",
          "data": {
            "text/plain": [
              "Brazil      NaN\n",
              "China     870.0\n",
              "India     380.0\n",
              "Japan       NaN\n",
              "USA       395.0\n",
              "dtype: float64"
            ]
          },
          "metadata": {},
          "execution_count": 36
        }
      ]
    },
    {
      "cell_type": "code",
      "source": [
        "sales_q1.add(sales_q2 , fill_value = 0)"
      ],
      "metadata": {
        "colab": {
          "base_uri": "https://localhost:8080/"
        },
        "id": "zRCzex22g5bT",
        "outputId": "da8c88ce-fa87-4eb7-cdeb-28f99278619f"
      },
      "execution_count": 38,
      "outputs": [
        {
          "output_type": "execute_result",
          "data": {
            "text/plain": [
              "Brazil     90.0\n",
              "China     870.0\n",
              "India     380.0\n",
              "Japan      80.0\n",
              "USA       395.0\n",
              "dtype: float64"
            ]
          },
          "metadata": {},
          "execution_count": 38
        }
      ]
    },
    {
      "cell_type": "code",
      "source": [
        "sales_q1"
      ],
      "metadata": {
        "colab": {
          "base_uri": "https://localhost:8080/"
        },
        "id": "oerMkXAshSA8",
        "outputId": "8160876f-b3ab-468a-bffe-d85a20585877"
      },
      "execution_count": 39,
      "outputs": [
        {
          "output_type": "execute_result",
          "data": {
            "text/plain": [
              "Japan     80\n",
              "China    450\n",
              "India    150\n",
              "USA      200\n",
              "dtype: int64"
            ]
          },
          "metadata": {},
          "execution_count": 39
        }
      ]
    },
    {
      "cell_type": "code",
      "source": [
        "sales_q1.dtype # .dtype attribute'ı ile serimizin içindeki verilerin tipini çekebiliriz."
      ],
      "metadata": {
        "colab": {
          "base_uri": "https://localhost:8080/"
        },
        "id": "jAAVcBrRhoXb",
        "outputId": "aa0c9e98-cd03-4e7b-ff46-316c9b1cef50"
      },
      "execution_count": 40,
      "outputs": [
        {
          "output_type": "execute_result",
          "data": {
            "text/plain": [
              "dtype('int64')"
            ]
          },
          "metadata": {},
          "execution_count": 40
        }
      ]
    },
    {
      "cell_type": "code",
      "source": [
        "# Soru : \n",
        "# Fenerbahce 51 , Galatasaray 60 , Besiktas 48 , Trabzonspor 41 şeklinde league_2022 adında bir seri oluşturun.\n",
        "# Fenerbahce 73 , Galatasaray 68 , Besiktas 59 , Trabzonspor 81 şeklinde league_2021 adında bir seri oluşturun.\n",
        "# Fenerbahce 82 , Galatasaray 84 , Besiktas 84 , Trabzonspor 71 şeklinde league_2020 adında bir seri oluşturun.\n",
        "\n",
        "# Bu 4 takımın son 3 yılda topladığı toplam puanları karşılaştırabileceğiniz yeni bir seri oluşturun"
      ],
      "metadata": {
        "id": "vdakvnx1hsaz"
      },
      "execution_count": null,
      "outputs": []
    },
    {
      "cell_type": "code",
      "source": [
        "league_2022 = pd.Series(data= {'Fenerbahce' : 51 , 'Galatasaray' : 60 , 'Besiktas' : 48 , 'Trabzonspor' : 41} )\n",
        "league_2021 = pd.Series(data= {'Fenerbahce' : 73 , 'Galatasaray' : 68 , 'Besiktas' : 59 , 'Trabzonspor' : 81} )\n",
        "league_2020 = pd.Series(data= {'Fenerbahce' : 82 , 'Galatasaray' : 84 , 'Besiktas' : 84 , 'Trabzonspor' : 71} )"
      ],
      "metadata": {
        "id": "q9MbE0o5i1KR"
      },
      "execution_count": 41,
      "outputs": []
    },
    {
      "cell_type": "code",
      "source": [
        "league_2022 + league_2021 + league_2020"
      ],
      "metadata": {
        "colab": {
          "base_uri": "https://localhost:8080/"
        },
        "id": "o5HEoQ2HjLwz",
        "outputId": "6048f9e1-e922-495e-86aa-757a6cf3145c"
      },
      "execution_count": 43,
      "outputs": [
        {
          "output_type": "execute_result",
          "data": {
            "text/plain": [
              "Fenerbahce     206\n",
              "Galatasaray    212\n",
              "Besiktas       191\n",
              "Trabzonspor    193\n",
              "dtype: int64"
            ]
          },
          "metadata": {},
          "execution_count": 43
        }
      ]
    },
    {
      "cell_type": "code",
      "source": [
        "# Done"
      ],
      "metadata": {
        "id": "w5amOQSTjNQi"
      },
      "execution_count": null,
      "outputs": []
    }
  ]
}