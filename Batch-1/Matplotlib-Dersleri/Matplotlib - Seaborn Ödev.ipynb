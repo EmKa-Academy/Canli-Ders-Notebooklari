{
 "cells": [
  {
   "cell_type": "code",
   "execution_count": null,
   "id": "9be258ad",
   "metadata": {},
   "outputs": [],
   "source": [
    "import seaborn as sns\n",
    "import matplotlib.pyplot as plt\n",
    "\n",
    "tips = sns.load_dataset(\"tips\")\n",
    "tips"
   ]
  },
  {
   "cell_type": "markdown",
   "id": "0ea47b4e",
   "metadata": {},
   "source": [
    "Grafiklerin her birinde xlabel, ylabel ve title olsun. Başkası grafiğe baktığında anlayabilsin, grafikler kendini açıklayıcı olsun.\n",
    "\n",
    "Renklendirmeler ve marker seçimleri uyumlu olsun.\n",
    "\n",
    "Parametreler için seaborn'un kendi sitesinden faydalanabilirsiniz."
   ]
  },
  {
   "cell_type": "code",
   "execution_count": null,
   "id": "93e9da67",
   "metadata": {},
   "outputs": [],
   "source": [
    "# Soru: Sigara içen ve içmeyen müşterilerin fatura tutarlarının dağılımını gösteren bir histogram oluşturun."
   ]
  },
  {
   "cell_type": "code",
   "execution_count": null,
   "id": "a60724ef",
   "metadata": {},
   "outputs": [],
   "source": [
    "# Soru: Veri setindeki \"total_bill\" değişkeninin dağılımını gösteren bir histogram oluşturun."
   ]
  },
  {
   "cell_type": "code",
   "execution_count": null,
   "id": "fef616be",
   "metadata": {},
   "outputs": [],
   "source": [
    "# Soru: Veri setindeki \"total_bill\" ve \"tip\" değişkenleri arasındaki ilişkiyi gösteren bir \n",
    "# scatterplot oluşturun. Ayrıca, \"time\" değişkenini kullanarak noktaları renklendirin."
   ]
  },
  {
   "cell_type": "code",
   "execution_count": null,
   "id": "317c9614",
   "metadata": {},
   "outputs": [],
   "source": [
    "# Soru: Veri setindeki \"day\" ve \"total_bill\" değişkenlerini kullanarak, \n",
    "# her gün için ortalama toplam fatura tutarını gösteren bir barplot oluşturun."
   ]
  },
  {
   "cell_type": "code",
   "execution_count": null,
   "id": "756afa17",
   "metadata": {},
   "outputs": [],
   "source": [
    "# Soru: \"tips\" veri setinde, her günün bahşiş oranını (yüzde olarak) hesaplayın \n",
    "# ve bunları gösteren bir line plot oluşturun."
   ]
  },
  {
   "cell_type": "code",
   "execution_count": null,
   "id": "58548ca5",
   "metadata": {},
   "outputs": [],
   "source": [
    "# Soru: \"tips\" veri setinde, her gün için fatura tutarının ve bahşiş miktarının ortalamasını hesaplayarak, \n",
    "# iki değişken arasındaki ilişkiyi gösteren bir scatterplot oluşturun."
   ]
  },
  {
   "cell_type": "code",
   "execution_count": null,
   "id": "e3026f50",
   "metadata": {},
   "outputs": [],
   "source": [
    "# Soru: Sigara içen ve içmeyen müşterilerin, farklı günlerde ödedikleri toplam\n",
    "# bahşiş miktarını gösteren bir bar plot oluşturun."
   ]
  },
  {
   "cell_type": "code",
   "execution_count": null,
   "id": "84559026",
   "metadata": {},
   "outputs": [],
   "source": [
    "# Soru: Sigara içen ve içmeyen müşterilerin ödedikleri bahşiş miktarlarının\n",
    "# dağılımını gösteren bir boxplot oluşturun."
   ]
  },
  {
   "cell_type": "code",
   "execution_count": null,
   "id": "e3ef6014",
   "metadata": {},
   "outputs": [],
   "source": [
    "# Soru: Yukarıdan seçeceğiniz 4 farklı plotu, subplot kullanarak çizdirin."
   ]
  },
  {
   "cell_type": "code",
   "execution_count": null,
   "id": "0b94f106",
   "metadata": {},
   "outputs": [],
   "source": []
  }
 ],
 "metadata": {
  "kernelspec": {
   "display_name": "Python 3 (ipykernel)",
   "language": "python",
   "name": "python3"
  },
  "language_info": {
   "codemirror_mode": {
    "name": "ipython",
    "version": 3
   },
   "file_extension": ".py",
   "mimetype": "text/x-python",
   "name": "python",
   "nbconvert_exporter": "python",
   "pygments_lexer": "ipython3",
   "version": "3.9.13"
  }
 },
 "nbformat": 4,
 "nbformat_minor": 5
}
