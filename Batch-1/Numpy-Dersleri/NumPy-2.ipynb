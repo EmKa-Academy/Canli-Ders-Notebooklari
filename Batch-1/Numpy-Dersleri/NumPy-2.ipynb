{
  "nbformat": 4,
  "nbformat_minor": 0,
  "metadata": {
    "colab": {
      "provenance": []
    },
    "kernelspec": {
      "name": "python3",
      "display_name": "Python 3"
    },
    "language_info": {
      "name": "python"
    }
  },
  "cells": [
    {
      "cell_type": "markdown",
      "source": [
        "# Hatırlatmalar"
      ],
      "metadata": {
        "id": "vT_aNL62A8cU"
      }
    },
    {
      "cell_type": "code",
      "execution_count": 11,
      "metadata": {
        "id": "OQtgPz3JAtnE"
      },
      "outputs": [],
      "source": [
        "import numpy as np"
      ]
    },
    {
      "cell_type": "code",
      "source": [
        "np.array([[1,2,3,4] , [5,6,7,8] , [10,20,30,40]])"
      ],
      "metadata": {
        "colab": {
          "base_uri": "https://localhost:8080/"
        },
        "id": "h_Cns6gZA9Wp",
        "outputId": "c65a8291-8672-4891-bde4-343f87bf0c47"
      },
      "execution_count": 12,
      "outputs": [
        {
          "output_type": "execute_result",
          "data": {
            "text/plain": [
              "array([[ 1,  2,  3,  4],\n",
              "       [ 5,  6,  7,  8],\n",
              "       [10, 20, 30, 40]])"
            ]
          },
          "metadata": {},
          "execution_count": 12
        }
      ]
    },
    {
      "cell_type": "code",
      "source": [
        "np.arange(30)"
      ],
      "metadata": {
        "colab": {
          "base_uri": "https://localhost:8080/"
        },
        "id": "bOaZVDgoBMFJ",
        "outputId": "bb9b7547-1e1a-45d2-c966-3c58788caaee"
      },
      "execution_count": 13,
      "outputs": [
        {
          "output_type": "execute_result",
          "data": {
            "text/plain": [
              "array([ 0,  1,  2,  3,  4,  5,  6,  7,  8,  9, 10, 11, 12, 13, 14, 15, 16,\n",
              "       17, 18, 19, 20, 21, 22, 23, 24, 25, 26, 27, 28, 29])"
            ]
          },
          "metadata": {},
          "execution_count": 13
        }
      ]
    },
    {
      "cell_type": "code",
      "source": [
        "np.arange(10,100,10)"
      ],
      "metadata": {
        "colab": {
          "base_uri": "https://localhost:8080/"
        },
        "id": "UgU-5G3BBWFB",
        "outputId": "7f2fd563-8153-4fc0-b198-42c71c989463"
      },
      "execution_count": 14,
      "outputs": [
        {
          "output_type": "execute_result",
          "data": {
            "text/plain": [
              "array([10, 20, 30, 40, 50, 60, 70, 80, 90])"
            ]
          },
          "metadata": {},
          "execution_count": 14
        }
      ]
    },
    {
      "cell_type": "code",
      "source": [
        "np.linspace(10,100,6)"
      ],
      "metadata": {
        "colab": {
          "base_uri": "https://localhost:8080/"
        },
        "id": "ck62PjzYBa0o",
        "outputId": "862ede7a-6221-44bf-e0b1-ebb4a5c5c0fc"
      },
      "execution_count": 15,
      "outputs": [
        {
          "output_type": "execute_result",
          "data": {
            "text/plain": [
              "array([ 10.,  28.,  46.,  64.,  82., 100.])"
            ]
          },
          "metadata": {},
          "execution_count": 15
        }
      ]
    },
    {
      "cell_type": "code",
      "source": [
        "np.logspace(1,3, 20 )"
      ],
      "metadata": {
        "colab": {
          "base_uri": "https://localhost:8080/"
        },
        "id": "iUl4FYBQBkSI",
        "outputId": "1f2c04f0-b996-4beb-fda2-fedf26c208a0"
      },
      "execution_count": null,
      "outputs": [
        {
          "output_type": "execute_result",
          "data": {
            "text/plain": [
              "array([  10.        ,   12.74274986,   16.23776739,   20.69138081,\n",
              "         26.36650899,   33.59818286,   42.81332399,   54.55594781,\n",
              "         69.51927962,   88.58667904,  112.88378917,  143.84498883,\n",
              "        183.29807108,  233.57214691,  297.63514416,  379.26901907,\n",
              "        483.29302386,  615.84821107,  784.75997035, 1000.        ])"
            ]
          },
          "metadata": {},
          "execution_count": 9
        }
      ]
    },
    {
      "cell_type": "code",
      "source": [
        "np.zeros(4)"
      ],
      "metadata": {
        "id": "GddHxhN4B-O5",
        "colab": {
          "base_uri": "https://localhost:8080/"
        },
        "outputId": "a0b312c6-c946-480c-f96b-32b893bf51be"
      },
      "execution_count": 16,
      "outputs": [
        {
          "output_type": "execute_result",
          "data": {
            "text/plain": [
              "array([0., 0., 0., 0.])"
            ]
          },
          "metadata": {},
          "execution_count": 16
        }
      ]
    },
    {
      "cell_type": "code",
      "source": [
        "np.zeros((2,5))"
      ],
      "metadata": {
        "colab": {
          "base_uri": "https://localhost:8080/"
        },
        "id": "n26Phq1YInY5",
        "outputId": "b5c9e08d-f6f9-49ac-93e7-cfab0d0f12bf"
      },
      "execution_count": 17,
      "outputs": [
        {
          "output_type": "execute_result",
          "data": {
            "text/plain": [
              "array([[0., 0., 0., 0., 0.],\n",
              "       [0., 0., 0., 0., 0.]])"
            ]
          },
          "metadata": {},
          "execution_count": 17
        }
      ]
    },
    {
      "cell_type": "code",
      "source": [
        "np.ones((3,4) , dtype = int)"
      ],
      "metadata": {
        "colab": {
          "base_uri": "https://localhost:8080/"
        },
        "id": "z6mOmloGIp8R",
        "outputId": "f034a9db-8e10-46d8-a6e7-d56831334831"
      },
      "execution_count": 19,
      "outputs": [
        {
          "output_type": "execute_result",
          "data": {
            "text/plain": [
              "array([[1, 1, 1, 1],\n",
              "       [1, 1, 1, 1],\n",
              "       [1, 1, 1, 1]])"
            ]
          },
          "metadata": {},
          "execution_count": 19
        }
      ]
    },
    {
      "cell_type": "code",
      "source": [
        "np.eye(3 , dtype = int)"
      ],
      "metadata": {
        "colab": {
          "base_uri": "https://localhost:8080/"
        },
        "id": "2VE3j6bQIuSA",
        "outputId": "c14bf760-14d7-4386-e6fb-4203698faeab"
      },
      "execution_count": 21,
      "outputs": [
        {
          "output_type": "execute_result",
          "data": {
            "text/plain": [
              "array([[1, 0, 0],\n",
              "       [0, 1, 0],\n",
              "       [0, 0, 1]])"
            ]
          },
          "metadata": {},
          "execution_count": 21
        }
      ]
    },
    {
      "cell_type": "code",
      "source": [
        "np.identity(3 , dtype = int)"
      ],
      "metadata": {
        "colab": {
          "base_uri": "https://localhost:8080/"
        },
        "id": "he0cOY0PIzZp",
        "outputId": "7896e8b7-73af-4af3-8f94-3d2be2cb184e"
      },
      "execution_count": 22,
      "outputs": [
        {
          "output_type": "execute_result",
          "data": {
            "text/plain": [
              "array([[1, 0, 0],\n",
              "       [0, 1, 0],\n",
              "       [0, 0, 1]])"
            ]
          },
          "metadata": {},
          "execution_count": 22
        }
      ]
    },
    {
      "cell_type": "code",
      "source": [
        "np.random.rand(3)"
      ],
      "metadata": {
        "colab": {
          "base_uri": "https://localhost:8080/"
        },
        "id": "MJVYE0l9I5Dx",
        "outputId": "f754ae86-f283-4003-9e3a-b7c71bca19fe"
      },
      "execution_count": 25,
      "outputs": [
        {
          "output_type": "execute_result",
          "data": {
            "text/plain": [
              "array([0.84086621, 0.47648258, 0.27192055])"
            ]
          },
          "metadata": {},
          "execution_count": 25
        }
      ]
    },
    {
      "cell_type": "code",
      "source": [
        "np.random.rand(6)"
      ],
      "metadata": {
        "colab": {
          "base_uri": "https://localhost:8080/"
        },
        "id": "kYxm8A2FI82h",
        "outputId": "9416b6d9-2e6c-4534-bc4a-5da5be88fe32"
      },
      "execution_count": 28,
      "outputs": [
        {
          "output_type": "execute_result",
          "data": {
            "text/plain": [
              "array([0.34194699, 0.99843491, 0.59517062, 0.09526653, 0.45393759,\n",
              "       0.70238821])"
            ]
          },
          "metadata": {},
          "execution_count": 28
        }
      ]
    },
    {
      "cell_type": "code",
      "source": [
        "np.random.randint(10,20)"
      ],
      "metadata": {
        "colab": {
          "base_uri": "https://localhost:8080/"
        },
        "id": "o64BNC6XJBvB",
        "outputId": "2d42f5c7-dec3-4517-b704-459121442ad1"
      },
      "execution_count": 30,
      "outputs": [
        {
          "output_type": "execute_result",
          "data": {
            "text/plain": [
              "12"
            ]
          },
          "metadata": {},
          "execution_count": 30
        }
      ]
    },
    {
      "cell_type": "code",
      "source": [
        "np.random.randint(10,20 , 3)"
      ],
      "metadata": {
        "colab": {
          "base_uri": "https://localhost:8080/"
        },
        "id": "PkvBJrcfJIjQ",
        "outputId": "19e04f96-6c12-4d71-d3e8-37010d47055e"
      },
      "execution_count": 31,
      "outputs": [
        {
          "output_type": "execute_result",
          "data": {
            "text/plain": [
              "array([17, 19, 15])"
            ]
          },
          "metadata": {},
          "execution_count": 31
        }
      ]
    },
    {
      "cell_type": "code",
      "source": [
        "arr2d = np.array([[1,2,3] , [4,5,6] , [10,20,30]])\n",
        "arr2d"
      ],
      "metadata": {
        "colab": {
          "base_uri": "https://localhost:8080/"
        },
        "id": "uRh73jlTJMJp",
        "outputId": "9818dade-a18c-47f6-ffc1-eaafaa021d12"
      },
      "execution_count": 33,
      "outputs": [
        {
          "output_type": "execute_result",
          "data": {
            "text/plain": [
              "array([[ 1,  2,  3],\n",
              "       [ 4,  5,  6],\n",
              "       [10, 20, 30]])"
            ]
          },
          "metadata": {},
          "execution_count": 33
        }
      ]
    },
    {
      "cell_type": "code",
      "source": [
        "arr2d.ndim"
      ],
      "metadata": {
        "colab": {
          "base_uri": "https://localhost:8080/"
        },
        "id": "Z4dW55CiJSSx",
        "outputId": "594300d5-8b34-4951-ebfb-00b6a92a2b8a"
      },
      "execution_count": 34,
      "outputs": [
        {
          "output_type": "execute_result",
          "data": {
            "text/plain": [
              "2"
            ]
          },
          "metadata": {},
          "execution_count": 34
        }
      ]
    },
    {
      "cell_type": "code",
      "source": [
        "arr2d.shape"
      ],
      "metadata": {
        "colab": {
          "base_uri": "https://localhost:8080/"
        },
        "id": "IIWrJpR2JWso",
        "outputId": "8207bf24-dae6-4f85-ce6d-e549f3226634"
      },
      "execution_count": 35,
      "outputs": [
        {
          "output_type": "execute_result",
          "data": {
            "text/plain": [
              "(3, 3)"
            ]
          },
          "metadata": {},
          "execution_count": 35
        }
      ]
    },
    {
      "cell_type": "code",
      "source": [
        "arr2d[0][-1]"
      ],
      "metadata": {
        "colab": {
          "base_uri": "https://localhost:8080/"
        },
        "id": "m0v7fQ_pJZ5h",
        "outputId": "d8ade403-2abd-465e-e408-21e543793527"
      },
      "execution_count": 37,
      "outputs": [
        {
          "output_type": "execute_result",
          "data": {
            "text/plain": [
              "3"
            ]
          },
          "metadata": {},
          "execution_count": 37
        }
      ]
    },
    {
      "cell_type": "code",
      "source": [
        "arr2d"
      ],
      "metadata": {
        "colab": {
          "base_uri": "https://localhost:8080/"
        },
        "id": "dlYiQK0XJfSo",
        "outputId": "ddd80432-6901-4ea8-f2cf-7d22d0b64273"
      },
      "execution_count": 38,
      "outputs": [
        {
          "output_type": "execute_result",
          "data": {
            "text/plain": [
              "array([[ 1,  2,  3],\n",
              "       [ 4,  5,  6],\n",
              "       [10, 20, 30]])"
            ]
          },
          "metadata": {},
          "execution_count": 38
        }
      ]
    },
    {
      "cell_type": "code",
      "source": [
        "arr2d.max()"
      ],
      "metadata": {
        "colab": {
          "base_uri": "https://localhost:8080/"
        },
        "id": "Lfzm1QD9JlZA",
        "outputId": "dd7418e9-e7e5-4ca0-f180-60bd03fa38f3"
      },
      "execution_count": 39,
      "outputs": [
        {
          "output_type": "execute_result",
          "data": {
            "text/plain": [
              "30"
            ]
          },
          "metadata": {},
          "execution_count": 39
        }
      ]
    },
    {
      "cell_type": "code",
      "source": [
        "arr2d.argmax()"
      ],
      "metadata": {
        "colab": {
          "base_uri": "https://localhost:8080/"
        },
        "id": "LP4ZdGGuJnd4",
        "outputId": "d357d5cb-b723-4bb3-931d-8eeaea27106f"
      },
      "execution_count": 40,
      "outputs": [
        {
          "output_type": "execute_result",
          "data": {
            "text/plain": [
              "8"
            ]
          },
          "metadata": {},
          "execution_count": 40
        }
      ]
    },
    {
      "cell_type": "code",
      "source": [
        "arr = np.arange(10)\n",
        "arr"
      ],
      "metadata": {
        "colab": {
          "base_uri": "https://localhost:8080/"
        },
        "id": "5nzF2nOGJt3o",
        "outputId": "251d314f-ed6c-40cb-c5aa-460f2f65db66"
      },
      "execution_count": 42,
      "outputs": [
        {
          "output_type": "execute_result",
          "data": {
            "text/plain": [
              "array([0, 1, 2, 3, 4, 5, 6, 7, 8, 9])"
            ]
          },
          "metadata": {},
          "execution_count": 42
        }
      ]
    },
    {
      "cell_type": "code",
      "source": [
        "arr[2:6] = 500"
      ],
      "metadata": {
        "id": "7v5ytZogJ1XR"
      },
      "execution_count": 45,
      "outputs": []
    },
    {
      "cell_type": "code",
      "source": [
        "arr"
      ],
      "metadata": {
        "colab": {
          "base_uri": "https://localhost:8080/"
        },
        "id": "JON-djCIJ-TQ",
        "outputId": "37290fb6-aee6-4a1a-9873-ff1b018781f8"
      },
      "execution_count": 46,
      "outputs": [
        {
          "output_type": "execute_result",
          "data": {
            "text/plain": [
              "array([  0,   1, 500, 500, 500, 500,   6,   7,   8,   9])"
            ]
          },
          "metadata": {},
          "execution_count": 46
        }
      ]
    },
    {
      "cell_type": "code",
      "source": [
        "arr.dtype"
      ],
      "metadata": {
        "colab": {
          "base_uri": "https://localhost:8080/"
        },
        "id": "k_ZWCDMTKCPQ",
        "outputId": "f2314202-b536-4e74-cb50-29c6ab4d7639"
      },
      "execution_count": 47,
      "outputs": [
        {
          "output_type": "execute_result",
          "data": {
            "text/plain": [
              "dtype('int64')"
            ]
          },
          "metadata": {},
          "execution_count": 47
        }
      ]
    },
    {
      "cell_type": "code",
      "source": [
        "arr = arr.astype('float')"
      ],
      "metadata": {
        "id": "rxwNi_TXKHOw"
      },
      "execution_count": 49,
      "outputs": []
    },
    {
      "cell_type": "code",
      "source": [
        "arr"
      ],
      "metadata": {
        "colab": {
          "base_uri": "https://localhost:8080/"
        },
        "id": "zj_l-Ql-KMXZ",
        "outputId": "f73faf95-2f45-4f81-8859-86a4fc01026a"
      },
      "execution_count": 50,
      "outputs": [
        {
          "output_type": "execute_result",
          "data": {
            "text/plain": [
              "array([  0.,   1., 500., 500., 500., 500.,   6.,   7.,   8.,   9.])"
            ]
          },
          "metadata": {},
          "execution_count": 50
        }
      ]
    },
    {
      "cell_type": "markdown",
      "source": [
        "# Bir Arrayin Shape'ini kontrol etmek"
      ],
      "metadata": {
        "id": "wJ7Ma05PKUrU"
      }
    },
    {
      "cell_type": "code",
      "source": [
        "# Bir array'in shapeini kontrol etmek için .shape attribute'u kullanılır.\n",
        "# Bir arrayin shape'i her boyuttaki öğelerinin sayısına eşittir"
      ],
      "metadata": {
        "id": "HcGOddrcKSz4"
      },
      "execution_count": 51,
      "outputs": []
    },
    {
      "cell_type": "code",
      "source": [
        "arr2d"
      ],
      "metadata": {
        "colab": {
          "base_uri": "https://localhost:8080/"
        },
        "id": "y7bMN068Kfjx",
        "outputId": "11772e17-b02d-4c10-aac7-18de7f6c36ac"
      },
      "execution_count": 52,
      "outputs": [
        {
          "output_type": "execute_result",
          "data": {
            "text/plain": [
              "array([[ 1,  2,  3],\n",
              "       [ 4,  5,  6],\n",
              "       [10, 20, 30]])"
            ]
          },
          "metadata": {},
          "execution_count": 52
        }
      ]
    },
    {
      "cell_type": "code",
      "source": [
        "arr2d.shape"
      ],
      "metadata": {
        "colab": {
          "base_uri": "https://localhost:8080/"
        },
        "id": "3IcrvZZ7KgJQ",
        "outputId": "7339c814-e2b3-43b7-9b8c-884864ef69aa"
      },
      "execution_count": 53,
      "outputs": [
        {
          "output_type": "execute_result",
          "data": {
            "text/plain": [
              "(3, 3)"
            ]
          },
          "metadata": {},
          "execution_count": 53
        }
      ]
    },
    {
      "cell_type": "code",
      "source": [
        "arr3d = np.array([[ [1,2,3] ,[4,5,6] , [10,25,35] ,[40,50,60]] , [[10,20,30] , [5,10,20] ,[11,22,33] ,[44,55,66] ]])\n",
        "arr3d"
      ],
      "metadata": {
        "colab": {
          "base_uri": "https://localhost:8080/"
        },
        "id": "22c2fCBYKkm5",
        "outputId": "4a188add-3a7e-4ef2-fa89-b0383d310818"
      },
      "execution_count": 55,
      "outputs": [
        {
          "output_type": "execute_result",
          "data": {
            "text/plain": [
              "array([[[ 1,  2,  3],\n",
              "        [ 4,  5,  6],\n",
              "        [10, 25, 35],\n",
              "        [40, 50, 60]],\n",
              "\n",
              "       [[10, 20, 30],\n",
              "        [ 5, 10, 20],\n",
              "        [11, 22, 33],\n",
              "        [44, 55, 66]]])"
            ]
          },
          "metadata": {},
          "execution_count": 55
        }
      ]
    },
    {
      "cell_type": "code",
      "source": [
        "arr3d.ndim"
      ],
      "metadata": {
        "colab": {
          "base_uri": "https://localhost:8080/"
        },
        "id": "6rtpFsO_K-Ih",
        "outputId": "fb2409d4-8771-4bd7-c3b0-1b21ff48f3cd"
      },
      "execution_count": 56,
      "outputs": [
        {
          "output_type": "execute_result",
          "data": {
            "text/plain": [
              "3"
            ]
          },
          "metadata": {},
          "execution_count": 56
        }
      ]
    },
    {
      "cell_type": "code",
      "source": [
        "arr3d.shape"
      ],
      "metadata": {
        "colab": {
          "base_uri": "https://localhost:8080/"
        },
        "id": "vDFhofOyLLrJ",
        "outputId": "8937827b-16a9-45c1-f970-cc6f0c6872cb"
      },
      "execution_count": 57,
      "outputs": [
        {
          "output_type": "execute_result",
          "data": {
            "text/plain": [
              "(2, 4, 3)"
            ]
          },
          "metadata": {},
          "execution_count": 57
        }
      ]
    },
    {
      "cell_type": "markdown",
      "source": [
        "# Bir Array'i Reshape(Yeniden Şekillendirme) Etme"
      ],
      "metadata": {
        "id": "ic-OP0RdLYEA"
      }
    },
    {
      "cell_type": "code",
      "source": [
        "# .reshape() metodu arrayin şeklini değiştirmeye yarar.\n",
        "# .reshape() yaparken toplam eleman sayısını sabit tutmaya dikkat edilmeli."
      ],
      "metadata": {
        "id": "HTOtnnCQLWXx"
      },
      "execution_count": 58,
      "outputs": []
    },
    {
      "cell_type": "code",
      "source": [
        "arr3d"
      ],
      "metadata": {
        "colab": {
          "base_uri": "https://localhost:8080/"
        },
        "id": "6qXpjY3sLl7B",
        "outputId": "6b80f6f3-ef70-4baa-f887-76721695d42d"
      },
      "execution_count": 59,
      "outputs": [
        {
          "output_type": "execute_result",
          "data": {
            "text/plain": [
              "array([[[ 1,  2,  3],\n",
              "        [ 4,  5,  6],\n",
              "        [10, 25, 35],\n",
              "        [40, 50, 60]],\n",
              "\n",
              "       [[10, 20, 30],\n",
              "        [ 5, 10, 20],\n",
              "        [11, 22, 33],\n",
              "        [44, 55, 66]]])"
            ]
          },
          "metadata": {},
          "execution_count": 59
        }
      ]
    },
    {
      "cell_type": "code",
      "source": [
        "arr3d.shape"
      ],
      "metadata": {
        "colab": {
          "base_uri": "https://localhost:8080/"
        },
        "id": "E15xE-T4LnvR",
        "outputId": "67e40c5b-80f5-48bf-94c0-f036617880f9"
      },
      "execution_count": 60,
      "outputs": [
        {
          "output_type": "execute_result",
          "data": {
            "text/plain": [
              "(2, 4, 3)"
            ]
          },
          "metadata": {},
          "execution_count": 60
        }
      ]
    },
    {
      "cell_type": "code",
      "source": [
        "arr2d = arr3d.reshape(2,12)\n",
        "arr2d"
      ],
      "metadata": {
        "colab": {
          "base_uri": "https://localhost:8080/"
        },
        "id": "-XS_IcjiLrfJ",
        "outputId": "535a61ec-f12f-4501-f637-9dbcfae8caa1"
      },
      "execution_count": 64,
      "outputs": [
        {
          "output_type": "execute_result",
          "data": {
            "text/plain": [
              "array([[ 1,  2,  3,  4,  5,  6, 10, 25, 35, 40, 50, 60],\n",
              "       [10, 20, 30,  5, 10, 20, 11, 22, 33, 44, 55, 66]])"
            ]
          },
          "metadata": {},
          "execution_count": 64
        }
      ]
    },
    {
      "cell_type": "code",
      "source": [
        "arr = np.arange(20)\n",
        "arr"
      ],
      "metadata": {
        "colab": {
          "base_uri": "https://localhost:8080/"
        },
        "id": "__XBK1vYLzzI",
        "outputId": "b3c2f963-2528-48c8-e732-9cb5c3bddba4"
      },
      "execution_count": 65,
      "outputs": [
        {
          "output_type": "execute_result",
          "data": {
            "text/plain": [
              "array([ 0,  1,  2,  3,  4,  5,  6,  7,  8,  9, 10, 11, 12, 13, 14, 15, 16,\n",
              "       17, 18, 19])"
            ]
          },
          "metadata": {},
          "execution_count": 65
        }
      ]
    },
    {
      "cell_type": "code",
      "source": [
        "arr2d = arr.reshape(4,5)\n",
        "arr2d"
      ],
      "metadata": {
        "colab": {
          "base_uri": "https://localhost:8080/"
        },
        "id": "zBvXs_wnMCpx",
        "outputId": "2605a0fa-1837-4b86-ab75-f5a6ac37eeed"
      },
      "execution_count": 66,
      "outputs": [
        {
          "output_type": "execute_result",
          "data": {
            "text/plain": [
              "array([[ 0,  1,  2,  3,  4],\n",
              "       [ 5,  6,  7,  8,  9],\n",
              "       [10, 11, 12, 13, 14],\n",
              "       [15, 16, 17, 18, 19]])"
            ]
          },
          "metadata": {},
          "execution_count": 66
        }
      ]
    },
    {
      "cell_type": "code",
      "source": [
        "arr3d = np.arange(30).reshape(2,3,5)\n",
        "arr3d"
      ],
      "metadata": {
        "colab": {
          "base_uri": "https://localhost:8080/"
        },
        "id": "BKg604uGMIYI",
        "outputId": "e3f0ee54-a7ed-460c-c081-d235ba325412"
      },
      "execution_count": 67,
      "outputs": [
        {
          "output_type": "execute_result",
          "data": {
            "text/plain": [
              "array([[[ 0,  1,  2,  3,  4],\n",
              "        [ 5,  6,  7,  8,  9],\n",
              "        [10, 11, 12, 13, 14]],\n",
              "\n",
              "       [[15, 16, 17, 18, 19],\n",
              "        [20, 21, 22, 23, 24],\n",
              "        [25, 26, 27, 28, 29]]])"
            ]
          },
          "metadata": {},
          "execution_count": 67
        }
      ]
    },
    {
      "cell_type": "code",
      "source": [
        "# Bilinmeyet Boyut !\n",
        "# .reshape() methodu kullanılırken hesaplamak istemediğimiz boyut yerine -1 yazıp otomatik hesaplattırabiliriz."
      ],
      "metadata": {
        "id": "D6NFMB4GMRoZ"
      },
      "execution_count": 68,
      "outputs": []
    },
    {
      "cell_type": "code",
      "source": [
        "arr3d = np.arange(120).reshape(5,2,-1)\n",
        "arr3d"
      ],
      "metadata": {
        "colab": {
          "base_uri": "https://localhost:8080/"
        },
        "id": "ms1ejnaDMc_p",
        "outputId": "4802d611-6442-404e-ea25-a8f3f0c64136"
      },
      "execution_count": 69,
      "outputs": [
        {
          "output_type": "execute_result",
          "data": {
            "text/plain": [
              "array([[[  0,   1,   2,   3,   4,   5,   6,   7,   8,   9,  10,  11],\n",
              "        [ 12,  13,  14,  15,  16,  17,  18,  19,  20,  21,  22,  23]],\n",
              "\n",
              "       [[ 24,  25,  26,  27,  28,  29,  30,  31,  32,  33,  34,  35],\n",
              "        [ 36,  37,  38,  39,  40,  41,  42,  43,  44,  45,  46,  47]],\n",
              "\n",
              "       [[ 48,  49,  50,  51,  52,  53,  54,  55,  56,  57,  58,  59],\n",
              "        [ 60,  61,  62,  63,  64,  65,  66,  67,  68,  69,  70,  71]],\n",
              "\n",
              "       [[ 72,  73,  74,  75,  76,  77,  78,  79,  80,  81,  82,  83],\n",
              "        [ 84,  85,  86,  87,  88,  89,  90,  91,  92,  93,  94,  95]],\n",
              "\n",
              "       [[ 96,  97,  98,  99, 100, 101, 102, 103, 104, 105, 106, 107],\n",
              "        [108, 109, 110, 111, 112, 113, 114, 115, 116, 117, 118, 119]]])"
            ]
          },
          "metadata": {},
          "execution_count": 69
        }
      ]
    },
    {
      "cell_type": "code",
      "source": [
        "# 0-59(59 dahil toplam 60 sayı) arasındaki tam sayılardan oluşan bir array oluşturun. \n",
        "# Ardından bu array'in shape'ini değiştirerek istediğiniz shape'lerde 3 boyutlu bir array elde edin. Daha sonrasında boyutuna ve shapeine bakın."
      ],
      "metadata": {
        "id": "57iOY3WsMqDi"
      },
      "execution_count": null,
      "outputs": []
    },
    {
      "cell_type": "code",
      "source": [
        "arr = np.arange(60).reshape(2,-1,5)\n",
        "arr"
      ],
      "metadata": {
        "colab": {
          "base_uri": "https://localhost:8080/"
        },
        "id": "W-Hl8tvMNZhi",
        "outputId": "f7d1002e-318e-43cf-beb3-9cd8d2322a8e"
      },
      "execution_count": 71,
      "outputs": [
        {
          "output_type": "execute_result",
          "data": {
            "text/plain": [
              "array([[[ 0,  1,  2,  3,  4],\n",
              "        [ 5,  6,  7,  8,  9],\n",
              "        [10, 11, 12, 13, 14],\n",
              "        [15, 16, 17, 18, 19],\n",
              "        [20, 21, 22, 23, 24],\n",
              "        [25, 26, 27, 28, 29]],\n",
              "\n",
              "       [[30, 31, 32, 33, 34],\n",
              "        [35, 36, 37, 38, 39],\n",
              "        [40, 41, 42, 43, 44],\n",
              "        [45, 46, 47, 48, 49],\n",
              "        [50, 51, 52, 53, 54],\n",
              "        [55, 56, 57, 58, 59]]])"
            ]
          },
          "metadata": {},
          "execution_count": 71
        }
      ]
    },
    {
      "cell_type": "code",
      "source": [
        "arr.ndim"
      ],
      "metadata": {
        "colab": {
          "base_uri": "https://localhost:8080/"
        },
        "id": "eYusMj2JNbqJ",
        "outputId": "62364551-d0c0-4d6a-fd1f-466321e5a5ed"
      },
      "execution_count": 72,
      "outputs": [
        {
          "output_type": "execute_result",
          "data": {
            "text/plain": [
              "3"
            ]
          },
          "metadata": {},
          "execution_count": 72
        }
      ]
    },
    {
      "cell_type": "code",
      "source": [
        "arr.shape"
      ],
      "metadata": {
        "colab": {
          "base_uri": "https://localhost:8080/"
        },
        "id": "pYbJUj_VNjCq",
        "outputId": "f5c10c7a-5ec1-48f7-ead7-d4e132f4b14e"
      },
      "execution_count": 73,
      "outputs": [
        {
          "output_type": "execute_result",
          "data": {
            "text/plain": [
              "(2, 6, 5)"
            ]
          },
          "metadata": {},
          "execution_count": 73
        }
      ]
    },
    {
      "cell_type": "markdown",
      "source": [
        "# Arrayleri Düzleştirme(Flatten)"
      ],
      "metadata": {
        "id": "DD6pqathNnqi"
      }
    },
    {
      "cell_type": "code",
      "source": [
        "# Düzleştirme işlemi(Flatten) çok boyutlu bir array'i 1 boyutlu hale döndürmeye denir.\n",
        "# Basitçe .reshape(-1) metoduyla yapılır."
      ],
      "metadata": {
        "id": "5mj4rLkENkDQ"
      },
      "execution_count": null,
      "outputs": []
    },
    {
      "cell_type": "code",
      "source": [
        "arr2d = np.arange(40).reshape(8,5)\n",
        "arr2d"
      ],
      "metadata": {
        "colab": {
          "base_uri": "https://localhost:8080/"
        },
        "id": "_eUbxLEaOCDj",
        "outputId": "b1627e96-6295-471c-c400-d33e393350a6"
      },
      "execution_count": 74,
      "outputs": [
        {
          "output_type": "execute_result",
          "data": {
            "text/plain": [
              "array([[ 0,  1,  2,  3,  4],\n",
              "       [ 5,  6,  7,  8,  9],\n",
              "       [10, 11, 12, 13, 14],\n",
              "       [15, 16, 17, 18, 19],\n",
              "       [20, 21, 22, 23, 24],\n",
              "       [25, 26, 27, 28, 29],\n",
              "       [30, 31, 32, 33, 34],\n",
              "       [35, 36, 37, 38, 39]])"
            ]
          },
          "metadata": {},
          "execution_count": 74
        }
      ]
    },
    {
      "cell_type": "code",
      "source": [
        "arr2d.shape"
      ],
      "metadata": {
        "colab": {
          "base_uri": "https://localhost:8080/"
        },
        "id": "cNYReW39ONkt",
        "outputId": "d2c6f184-2bc5-46fe-861b-e693a8459c04"
      },
      "execution_count": 75,
      "outputs": [
        {
          "output_type": "execute_result",
          "data": {
            "text/plain": [
              "(8, 5)"
            ]
          },
          "metadata": {},
          "execution_count": 75
        }
      ]
    },
    {
      "cell_type": "code",
      "source": [
        "arr = arr2d.reshape(-1)\n",
        "arr"
      ],
      "metadata": {
        "colab": {
          "base_uri": "https://localhost:8080/"
        },
        "id": "Oj-Ykz3WOGdh",
        "outputId": "eec753c5-233d-413d-e1ec-a2b1f5f9d814"
      },
      "execution_count": 77,
      "outputs": [
        {
          "output_type": "execute_result",
          "data": {
            "text/plain": [
              "array([ 0,  1,  2,  3,  4,  5,  6,  7,  8,  9, 10, 11, 12, 13, 14, 15, 16,\n",
              "       17, 18, 19, 20, 21, 22, 23, 24, 25, 26, 27, 28, 29, 30, 31, 32, 33,\n",
              "       34, 35, 36, 37, 38, 39])"
            ]
          },
          "metadata": {},
          "execution_count": 77
        }
      ]
    },
    {
      "cell_type": "code",
      "source": [
        "arr3d = np.arange(60).reshape(-1,5,4)\n",
        "arr3d"
      ],
      "metadata": {
        "colab": {
          "base_uri": "https://localhost:8080/"
        },
        "id": "I4Iw0cQ5OP4a",
        "outputId": "de208094-2b67-4e3f-b02f-6b7b771d4969"
      },
      "execution_count": 78,
      "outputs": [
        {
          "output_type": "execute_result",
          "data": {
            "text/plain": [
              "array([[[ 0,  1,  2,  3],\n",
              "        [ 4,  5,  6,  7],\n",
              "        [ 8,  9, 10, 11],\n",
              "        [12, 13, 14, 15],\n",
              "        [16, 17, 18, 19]],\n",
              "\n",
              "       [[20, 21, 22, 23],\n",
              "        [24, 25, 26, 27],\n",
              "        [28, 29, 30, 31],\n",
              "        [32, 33, 34, 35],\n",
              "        [36, 37, 38, 39]],\n",
              "\n",
              "       [[40, 41, 42, 43],\n",
              "        [44, 45, 46, 47],\n",
              "        [48, 49, 50, 51],\n",
              "        [52, 53, 54, 55],\n",
              "        [56, 57, 58, 59]]])"
            ]
          },
          "metadata": {},
          "execution_count": 78
        }
      ]
    },
    {
      "cell_type": "code",
      "source": [
        "arr3d.reshape(-1)"
      ],
      "metadata": {
        "colab": {
          "base_uri": "https://localhost:8080/"
        },
        "id": "im0wB-e2OZKR",
        "outputId": "8384c48a-784d-4043-e41a-31d0178f3d9f"
      },
      "execution_count": 82,
      "outputs": [
        {
          "output_type": "execute_result",
          "data": {
            "text/plain": [
              "array([ 0,  1,  2,  3,  4,  5,  6,  7,  8,  9, 10, 11, 12, 13, 14, 15, 16,\n",
              "       17, 18, 19, 20, 21, 22, 23, 24, 25, 26, 27, 28, 29, 30, 31, 32, 33,\n",
              "       34, 35, 36, 37, 38, 39, 40, 41, 42, 43, 44, 45, 46, 47, 48, 49, 50,\n",
              "       51, 52, 53, 54, 55, 56, 57, 58, 59])"
            ]
          },
          "metadata": {},
          "execution_count": 82
        }
      ]
    },
    {
      "cell_type": "code",
      "source": [
        "# Soru : 30 elemanlı ve 3 boyutlu bir array oluşturun. Ardından bu array'i düzleştirin ve boyutunu, shapeini kontrol edin."
      ],
      "metadata": {
        "id": "N7ITSaMrOb2I"
      },
      "execution_count": null,
      "outputs": []
    },
    {
      "cell_type": "code",
      "source": [
        "arr3d = np.random.randint(1,100,30).reshape(2,-1,3)\n",
        "arr3d"
      ],
      "metadata": {
        "colab": {
          "base_uri": "https://localhost:8080/"
        },
        "id": "DLX1PZAfPByC",
        "outputId": "5ebf6302-b903-4798-d28f-c8bfe2632b5a"
      },
      "execution_count": 83,
      "outputs": [
        {
          "output_type": "execute_result",
          "data": {
            "text/plain": [
              "array([[[97, 74, 54],\n",
              "        [86, 28, 25],\n",
              "        [ 4, 22, 66],\n",
              "        [50, 88, 95],\n",
              "        [47, 67, 11]],\n",
              "\n",
              "       [[17,  2, 18],\n",
              "        [ 8, 28, 20],\n",
              "        [39,  4, 84],\n",
              "        [56, 29, 98],\n",
              "        [93, 84, 26]]])"
            ]
          },
          "metadata": {},
          "execution_count": 83
        }
      ]
    },
    {
      "cell_type": "code",
      "source": [
        "arr3d.reshape(-1)"
      ],
      "metadata": {
        "colab": {
          "base_uri": "https://localhost:8080/"
        },
        "id": "RMNmZuDTPKKK",
        "outputId": "b82ea08e-ea6f-46f1-fcd2-dbda828c6df1"
      },
      "execution_count": 84,
      "outputs": [
        {
          "output_type": "execute_result",
          "data": {
            "text/plain": [
              "array([97, 74, 54, 86, 28, 25,  4, 22, 66, 50, 88, 95, 47, 67, 11, 17,  2,\n",
              "       18,  8, 28, 20, 39,  4, 84, 56, 29, 98, 93, 84, 26])"
            ]
          },
          "metadata": {},
          "execution_count": 84
        }
      ]
    },
    {
      "cell_type": "markdown",
      "source": [
        "# Çok Boyutlu Arraylerde Iteration(Yineleme)"
      ],
      "metadata": {
        "id": "NKYe43ruPSIg"
      }
    },
    {
      "cell_type": "code",
      "source": [
        "arr1d = np.arange(10)\n",
        "arr1d"
      ],
      "metadata": {
        "colab": {
          "base_uri": "https://localhost:8080/"
        },
        "id": "I5oxlkyVPMog",
        "outputId": "1084b0ef-c5b6-4697-9922-2eca76ee6912"
      },
      "execution_count": 85,
      "outputs": [
        {
          "output_type": "execute_result",
          "data": {
            "text/plain": [
              "array([0, 1, 2, 3, 4, 5, 6, 7, 8, 9])"
            ]
          },
          "metadata": {},
          "execution_count": 85
        }
      ]
    },
    {
      "cell_type": "code",
      "source": [
        "for x in arr1d:\n",
        "  print(x)"
      ],
      "metadata": {
        "colab": {
          "base_uri": "https://localhost:8080/"
        },
        "id": "ZK7rDsz7PZVh",
        "outputId": "e7b1e100-b271-4520-c50f-8213b2b94408"
      },
      "execution_count": 86,
      "outputs": [
        {
          "output_type": "stream",
          "name": "stdout",
          "text": [
            "0\n",
            "1\n",
            "2\n",
            "3\n",
            "4\n",
            "5\n",
            "6\n",
            "7\n",
            "8\n",
            "9\n"
          ]
        }
      ]
    },
    {
      "cell_type": "code",
      "source": [
        "arr2d = np.arange(20).reshape(4,5)\n",
        "arr2d"
      ],
      "metadata": {
        "colab": {
          "base_uri": "https://localhost:8080/"
        },
        "id": "ntj0Yw2HPgGx",
        "outputId": "23516c6d-038f-4b13-bf01-c43d6e58a744"
      },
      "execution_count": 89,
      "outputs": [
        {
          "output_type": "execute_result",
          "data": {
            "text/plain": [
              "array([[ 0,  1,  2,  3,  4],\n",
              "       [ 5,  6,  7,  8,  9],\n",
              "       [10, 11, 12, 13, 14],\n",
              "       [15, 16, 17, 18, 19]])"
            ]
          },
          "metadata": {},
          "execution_count": 89
        }
      ]
    },
    {
      "cell_type": "code",
      "source": [
        "for x in arr2d:\n",
        "  print(x)"
      ],
      "metadata": {
        "colab": {
          "base_uri": "https://localhost:8080/"
        },
        "id": "DLCgFiOQPke5",
        "outputId": "fa4db458-3b36-4a2d-ab5d-53734b5be306"
      },
      "execution_count": 90,
      "outputs": [
        {
          "output_type": "stream",
          "name": "stdout",
          "text": [
            "[0 1 2 3 4]\n",
            "[5 6 7 8 9]\n",
            "[10 11 12 13 14]\n",
            "[15 16 17 18 19]\n"
          ]
        }
      ]
    },
    {
      "cell_type": "code",
      "source": [
        "for x in arr2d:\n",
        "  for y in x:\n",
        "    print(y)"
      ],
      "metadata": {
        "colab": {
          "base_uri": "https://localhost:8080/"
        },
        "id": "iA4jxoqzP1gA",
        "outputId": "60692252-9ef2-4009-f79a-447e277cbe07"
      },
      "execution_count": 91,
      "outputs": [
        {
          "output_type": "stream",
          "name": "stdout",
          "text": [
            "0\n",
            "1\n",
            "2\n",
            "3\n",
            "4\n",
            "5\n",
            "6\n",
            "7\n",
            "8\n",
            "9\n",
            "10\n",
            "11\n",
            "12\n",
            "13\n",
            "14\n",
            "15\n",
            "16\n",
            "17\n",
            "18\n",
            "19\n"
          ]
        }
      ]
    },
    {
      "cell_type": "code",
      "source": [
        "arr3d = np.arange(30).reshape(-1,3,5)\n",
        "arr3d"
      ],
      "metadata": {
        "colab": {
          "base_uri": "https://localhost:8080/"
        },
        "id": "2SNqQrElQA2Q",
        "outputId": "aa89bbe4-1012-480e-e05e-d08934a695ab"
      },
      "execution_count": 92,
      "outputs": [
        {
          "output_type": "execute_result",
          "data": {
            "text/plain": [
              "array([[[ 0,  1,  2,  3,  4],\n",
              "        [ 5,  6,  7,  8,  9],\n",
              "        [10, 11, 12, 13, 14]],\n",
              "\n",
              "       [[15, 16, 17, 18, 19],\n",
              "        [20, 21, 22, 23, 24],\n",
              "        [25, 26, 27, 28, 29]]])"
            ]
          },
          "metadata": {},
          "execution_count": 92
        }
      ]
    },
    {
      "cell_type": "code",
      "source": [
        "for x in arr3d:\n",
        "  for y in x:\n",
        "    for z in y:\n",
        "      print(z)"
      ],
      "metadata": {
        "colab": {
          "base_uri": "https://localhost:8080/"
        },
        "id": "scdJ9oRnQGgQ",
        "outputId": "46f947a2-ef5d-4326-b949-fde88e4b031a"
      },
      "execution_count": 93,
      "outputs": [
        {
          "output_type": "stream",
          "name": "stdout",
          "text": [
            "0\n",
            "1\n",
            "2\n",
            "3\n",
            "4\n",
            "5\n",
            "6\n",
            "7\n",
            "8\n",
            "9\n",
            "10\n",
            "11\n",
            "12\n",
            "13\n",
            "14\n",
            "15\n",
            "16\n",
            "17\n",
            "18\n",
            "19\n",
            "20\n",
            "21\n",
            "22\n",
            "23\n",
            "24\n",
            "25\n",
            "26\n",
            "27\n",
            "28\n",
            "29\n"
          ]
        }
      ]
    },
    {
      "cell_type": "markdown",
      "source": [
        "# Çok Boyutlu Arraylerde nditer() Kullanımı"
      ],
      "metadata": {
        "id": "1vCiUk4mQbmV"
      }
    },
    {
      "cell_type": "code",
      "source": [
        "# For döngüsü arrayin boyutu kadar sayıda kullanılırsa ancak array'in bütün elemanlarına tek tek erişebiliriz.\n",
        "# Çok boyutlu arraylerde nditer() fonksiyonu bunun için geliştirilmiştir.\n",
        "# For döngüsüne çok daha efektif ve hızlı bir şekilde tüm elemanları dönmenizi sağlar."
      ],
      "metadata": {
        "id": "tpzIPDEKQW9h"
      },
      "execution_count": 94,
      "outputs": []
    },
    {
      "cell_type": "code",
      "source": [
        "arr3d"
      ],
      "metadata": {
        "colab": {
          "base_uri": "https://localhost:8080/"
        },
        "id": "4F-v9VblQzXX",
        "outputId": "0f091af5-2bbe-465f-afbe-15e90d249a4c"
      },
      "execution_count": 95,
      "outputs": [
        {
          "output_type": "execute_result",
          "data": {
            "text/plain": [
              "array([[[ 0,  1,  2,  3,  4],\n",
              "        [ 5,  6,  7,  8,  9],\n",
              "        [10, 11, 12, 13, 14]],\n",
              "\n",
              "       [[15, 16, 17, 18, 19],\n",
              "        [20, 21, 22, 23, 24],\n",
              "        [25, 26, 27, 28, 29]]])"
            ]
          },
          "metadata": {},
          "execution_count": 95
        }
      ]
    },
    {
      "cell_type": "code",
      "source": [
        "for x in np.nditer(arr3d):\n",
        "  print(x)"
      ],
      "metadata": {
        "colab": {
          "base_uri": "https://localhost:8080/"
        },
        "id": "djo0R5kwQ5XZ",
        "outputId": "0df55d96-7368-4b7b-9a89-211d550059ae"
      },
      "execution_count": 97,
      "outputs": [
        {
          "output_type": "stream",
          "name": "stdout",
          "text": [
            "0\n",
            "1\n",
            "2\n",
            "3\n",
            "4\n",
            "5\n",
            "6\n",
            "7\n",
            "8\n",
            "9\n",
            "10\n",
            "11\n",
            "12\n",
            "13\n",
            "14\n",
            "15\n",
            "16\n",
            "17\n",
            "18\n",
            "19\n",
            "20\n",
            "21\n",
            "22\n",
            "23\n",
            "24\n",
            "25\n",
            "26\n",
            "27\n",
            "28\n",
            "29\n"
          ]
        }
      ]
    },
    {
      "cell_type": "code",
      "source": [
        "# Soru : 0'dan 119'a kadar(119 dahil) toplamda 120 elemanlı bir array oluşturun. Ardından bu array'in shape'ini ayarlayarak 3 boyutlu hale getirin. \n",
        "# Devamında da içindeki bütün elemanları tek tek dönün."
      ],
      "metadata": {
        "id": "-0LAH8QcQ-Ep"
      },
      "execution_count": null,
      "outputs": []
    },
    {
      "cell_type": "code",
      "source": [
        "arr3d = np.arange(120).reshape(2,-1,5)\n",
        "arr3d"
      ],
      "metadata": {
        "colab": {
          "base_uri": "https://localhost:8080/"
        },
        "id": "m0QX9lPRRwnw",
        "outputId": "03ad0084-2d26-46d7-d6df-a649d2b90537"
      },
      "execution_count": 98,
      "outputs": [
        {
          "output_type": "execute_result",
          "data": {
            "text/plain": [
              "array([[[  0,   1,   2,   3,   4],\n",
              "        [  5,   6,   7,   8,   9],\n",
              "        [ 10,  11,  12,  13,  14],\n",
              "        [ 15,  16,  17,  18,  19],\n",
              "        [ 20,  21,  22,  23,  24],\n",
              "        [ 25,  26,  27,  28,  29],\n",
              "        [ 30,  31,  32,  33,  34],\n",
              "        [ 35,  36,  37,  38,  39],\n",
              "        [ 40,  41,  42,  43,  44],\n",
              "        [ 45,  46,  47,  48,  49],\n",
              "        [ 50,  51,  52,  53,  54],\n",
              "        [ 55,  56,  57,  58,  59]],\n",
              "\n",
              "       [[ 60,  61,  62,  63,  64],\n",
              "        [ 65,  66,  67,  68,  69],\n",
              "        [ 70,  71,  72,  73,  74],\n",
              "        [ 75,  76,  77,  78,  79],\n",
              "        [ 80,  81,  82,  83,  84],\n",
              "        [ 85,  86,  87,  88,  89],\n",
              "        [ 90,  91,  92,  93,  94],\n",
              "        [ 95,  96,  97,  98,  99],\n",
              "        [100, 101, 102, 103, 104],\n",
              "        [105, 106, 107, 108, 109],\n",
              "        [110, 111, 112, 113, 114],\n",
              "        [115, 116, 117, 118, 119]]])"
            ]
          },
          "metadata": {},
          "execution_count": 98
        }
      ]
    },
    {
      "cell_type": "code",
      "source": [
        "for x in np.nditer(arr3d):\n",
        "  print(x)"
      ],
      "metadata": {
        "colab": {
          "base_uri": "https://localhost:8080/"
        },
        "id": "zeXfebWZR5Pb",
        "outputId": "bc918443-bc2b-43e4-95ec-92215982ac4e"
      },
      "execution_count": 99,
      "outputs": [
        {
          "output_type": "stream",
          "name": "stdout",
          "text": [
            "0\n",
            "1\n",
            "2\n",
            "3\n",
            "4\n",
            "5\n",
            "6\n",
            "7\n",
            "8\n",
            "9\n",
            "10\n",
            "11\n",
            "12\n",
            "13\n",
            "14\n",
            "15\n",
            "16\n",
            "17\n",
            "18\n",
            "19\n",
            "20\n",
            "21\n",
            "22\n",
            "23\n",
            "24\n",
            "25\n",
            "26\n",
            "27\n",
            "28\n",
            "29\n",
            "30\n",
            "31\n",
            "32\n",
            "33\n",
            "34\n",
            "35\n",
            "36\n",
            "37\n",
            "38\n",
            "39\n",
            "40\n",
            "41\n",
            "42\n",
            "43\n",
            "44\n",
            "45\n",
            "46\n",
            "47\n",
            "48\n",
            "49\n",
            "50\n",
            "51\n",
            "52\n",
            "53\n",
            "54\n",
            "55\n",
            "56\n",
            "57\n",
            "58\n",
            "59\n",
            "60\n",
            "61\n",
            "62\n",
            "63\n",
            "64\n",
            "65\n",
            "66\n",
            "67\n",
            "68\n",
            "69\n",
            "70\n",
            "71\n",
            "72\n",
            "73\n",
            "74\n",
            "75\n",
            "76\n",
            "77\n",
            "78\n",
            "79\n",
            "80\n",
            "81\n",
            "82\n",
            "83\n",
            "84\n",
            "85\n",
            "86\n",
            "87\n",
            "88\n",
            "89\n",
            "90\n",
            "91\n",
            "92\n",
            "93\n",
            "94\n",
            "95\n",
            "96\n",
            "97\n",
            "98\n",
            "99\n",
            "100\n",
            "101\n",
            "102\n",
            "103\n",
            "104\n",
            "105\n",
            "106\n",
            "107\n",
            "108\n",
            "109\n",
            "110\n",
            "111\n",
            "112\n",
            "113\n",
            "114\n",
            "115\n",
            "116\n",
            "117\n",
            "118\n",
            "119\n"
          ]
        }
      ]
    },
    {
      "cell_type": "markdown",
      "source": [
        "# Array Elemanları Arasında 4 İşlem"
      ],
      "metadata": {
        "id": "gyfEQMcPSAiS"
      }
    },
    {
      "cell_type": "code",
      "source": [
        "arr1 = np.array([10,20,50,100])\n",
        "arr2 = np.array([5,7,9,4])"
      ],
      "metadata": {
        "id": "kaqRZ90gR82J"
      },
      "execution_count": 116,
      "outputs": []
    },
    {
      "cell_type": "code",
      "source": [
        "arr1"
      ],
      "metadata": {
        "colab": {
          "base_uri": "https://localhost:8080/"
        },
        "id": "wy5RL0i8SMap",
        "outputId": "8ade73b1-4755-44a8-f679-2f478df0aa85"
      },
      "execution_count": 101,
      "outputs": [
        {
          "output_type": "execute_result",
          "data": {
            "text/plain": [
              "array([ 10,  20,  50, 100])"
            ]
          },
          "metadata": {},
          "execution_count": 101
        }
      ]
    },
    {
      "cell_type": "code",
      "source": [
        "arr2"
      ],
      "metadata": {
        "colab": {
          "base_uri": "https://localhost:8080/"
        },
        "id": "O35OvwGgSMtx",
        "outputId": "7b50032f-e84b-4228-c328-3f76b50f92ce"
      },
      "execution_count": 102,
      "outputs": [
        {
          "output_type": "execute_result",
          "data": {
            "text/plain": [
              "array([ 5,  7,  9, -1])"
            ]
          },
          "metadata": {},
          "execution_count": 102
        }
      ]
    },
    {
      "cell_type": "code",
      "source": [
        "arr1 + arr2"
      ],
      "metadata": {
        "colab": {
          "base_uri": "https://localhost:8080/"
        },
        "id": "VXI3h9DZSNU6",
        "outputId": "7a085b6d-6933-4650-ad96-4adb47836921"
      },
      "execution_count": 117,
      "outputs": [
        {
          "output_type": "execute_result",
          "data": {
            "text/plain": [
              "array([ 15,  27,  59, 104])"
            ]
          },
          "metadata": {},
          "execution_count": 117
        }
      ]
    },
    {
      "cell_type": "code",
      "source": [
        "arr1.__add__(arr2)"
      ],
      "metadata": {
        "colab": {
          "base_uri": "https://localhost:8080/"
        },
        "id": "Sy-qx0vXSR5A",
        "outputId": "06ad120f-3963-42ea-cb1f-ff009ff901b4"
      },
      "execution_count": 104,
      "outputs": [
        {
          "output_type": "execute_result",
          "data": {
            "text/plain": [
              "array([15, 27, 59, 99])"
            ]
          },
          "metadata": {},
          "execution_count": 104
        }
      ]
    },
    {
      "cell_type": "code",
      "source": [
        "arr1 - arr2"
      ],
      "metadata": {
        "colab": {
          "base_uri": "https://localhost:8080/"
        },
        "id": "EaGNI3_aSciK",
        "outputId": "8e944b18-6207-4de0-f42b-d26d1154bb83"
      },
      "execution_count": 105,
      "outputs": [
        {
          "output_type": "execute_result",
          "data": {
            "text/plain": [
              "array([  5,  13,  41, 101])"
            ]
          },
          "metadata": {},
          "execution_count": 105
        }
      ]
    },
    {
      "cell_type": "code",
      "source": [
        "arr1.__sub__(arr2)"
      ],
      "metadata": {
        "colab": {
          "base_uri": "https://localhost:8080/"
        },
        "id": "Ve_eTu3jSgEZ",
        "outputId": "4ffbebc2-1adb-46cd-e531-25434cae0f5d"
      },
      "execution_count": 106,
      "outputs": [
        {
          "output_type": "execute_result",
          "data": {
            "text/plain": [
              "array([  5,  13,  41, 101])"
            ]
          },
          "metadata": {},
          "execution_count": 106
        }
      ]
    },
    {
      "cell_type": "code",
      "source": [
        "arr1 * arr2"
      ],
      "metadata": {
        "colab": {
          "base_uri": "https://localhost:8080/"
        },
        "id": "GTLiZXyuSsBx",
        "outputId": "bb96a078-d005-468d-a146-2ea2adc622a1"
      },
      "execution_count": 107,
      "outputs": [
        {
          "output_type": "execute_result",
          "data": {
            "text/plain": [
              "array([  50,  140,  450, -100])"
            ]
          },
          "metadata": {},
          "execution_count": 107
        }
      ]
    },
    {
      "cell_type": "code",
      "source": [
        "arr1 ** arr2"
      ],
      "metadata": {
        "colab": {
          "base_uri": "https://localhost:8080/"
        },
        "id": "-dJ9NipdSuTx",
        "outputId": "480cfd40-7d7e-4f0a-a0a2-4a0051170577"
      },
      "execution_count": 110,
      "outputs": [
        {
          "output_type": "execute_result",
          "data": {
            "text/plain": [
              "array([          100000,       1280000000, 1953125000000000,\n",
              "              100000000])"
            ]
          },
          "metadata": {},
          "execution_count": 110
        }
      ]
    },
    {
      "cell_type": "code",
      "source": [
        "arr1 / arr2 "
      ],
      "metadata": {
        "colab": {
          "base_uri": "https://localhost:8080/"
        },
        "id": "MB5OA6NGSxXS",
        "outputId": "ca2969d8-53de-4860-ef49-63e39d7640db"
      },
      "execution_count": 111,
      "outputs": [
        {
          "output_type": "execute_result",
          "data": {
            "text/plain": [
              "array([ 2.        ,  2.85714286,  5.55555556, 25.        ])"
            ]
          },
          "metadata": {},
          "execution_count": 111
        }
      ]
    },
    {
      "cell_type": "code",
      "source": [
        "arr1 // arr2"
      ],
      "metadata": {
        "colab": {
          "base_uri": "https://localhost:8080/"
        },
        "id": "xqRNmv1YS5Hp",
        "outputId": "c1afaed5-2aa7-4106-d78b-56db3224c970"
      },
      "execution_count": 112,
      "outputs": [
        {
          "output_type": "execute_result",
          "data": {
            "text/plain": [
              "array([ 2,  2,  5, 25])"
            ]
          },
          "metadata": {},
          "execution_count": 112
        }
      ]
    },
    {
      "cell_type": "markdown",
      "source": [
        "# Bir Arrayin Toplamına/Ortalamasına/Varyansına/Standart Sapmasına Bakma"
      ],
      "metadata": {
        "id": "ZDkS99ijTFaP"
      }
    },
    {
      "cell_type": "code",
      "source": [
        "arr = np.random.randint(0,10, 10)\n",
        "arr"
      ],
      "metadata": {
        "colab": {
          "base_uri": "https://localhost:8080/"
        },
        "id": "zx4HhtPKTBjy",
        "outputId": "9ada6d39-8332-4d82-d3ed-776a7810c449"
      },
      "execution_count": 113,
      "outputs": [
        {
          "output_type": "execute_result",
          "data": {
            "text/plain": [
              "array([0, 2, 9, 5, 5, 6, 9, 0, 2, 0])"
            ]
          },
          "metadata": {},
          "execution_count": 113
        }
      ]
    },
    {
      "cell_type": "code",
      "source": [
        "arr.sum()"
      ],
      "metadata": {
        "colab": {
          "base_uri": "https://localhost:8080/"
        },
        "id": "LB6AegJCTUMh",
        "outputId": "17ce8738-2d5b-4c49-8164-81c040359d5c"
      },
      "execution_count": 118,
      "outputs": [
        {
          "output_type": "execute_result",
          "data": {
            "text/plain": [
              "38"
            ]
          },
          "metadata": {},
          "execution_count": 118
        }
      ]
    },
    {
      "cell_type": "code",
      "source": [
        "arr.mean()"
      ],
      "metadata": {
        "colab": {
          "base_uri": "https://localhost:8080/"
        },
        "id": "JXR7MxTBTz_x",
        "outputId": "5ab2382d-affd-4428-8395-994bcbb39560"
      },
      "execution_count": 119,
      "outputs": [
        {
          "output_type": "execute_result",
          "data": {
            "text/plain": [
              "3.8"
            ]
          },
          "metadata": {},
          "execution_count": 119
        }
      ]
    },
    {
      "cell_type": "code",
      "source": [
        "arr.var()"
      ],
      "metadata": {
        "colab": {
          "base_uri": "https://localhost:8080/"
        },
        "id": "WBz2xOZ6T3UB",
        "outputId": "1d771c8e-52de-4640-c201-273563c54563"
      },
      "execution_count": 123,
      "outputs": [
        {
          "output_type": "execute_result",
          "data": {
            "text/plain": [
              "11.16"
            ]
          },
          "metadata": {},
          "execution_count": 123
        }
      ]
    },
    {
      "cell_type": "code",
      "source": [
        "arr.std()"
      ],
      "metadata": {
        "colab": {
          "base_uri": "https://localhost:8080/"
        },
        "id": "LZKGOwZ_UC_Z",
        "outputId": "2c567b0e-0eba-4c0f-c5d2-442b02ae6a3f"
      },
      "execution_count": 121,
      "outputs": [
        {
          "output_type": "execute_result",
          "data": {
            "text/plain": [
              "3.340658617698013"
            ]
          },
          "metadata": {},
          "execution_count": 121
        }
      ]
    },
    {
      "cell_type": "code",
      "source": [
        "arr"
      ],
      "metadata": {
        "colab": {
          "base_uri": "https://localhost:8080/"
        },
        "id": "q5g8kCcyUJCx",
        "outputId": "3ad00fb5-229c-41c4-cb73-846bc6c2b23c"
      },
      "execution_count": 124,
      "outputs": [
        {
          "output_type": "execute_result",
          "data": {
            "text/plain": [
              "array([0, 2, 9, 5, 5, 6, 9, 0, 2, 0])"
            ]
          },
          "metadata": {},
          "execution_count": 124
        }
      ]
    },
    {
      "cell_type": "code",
      "source": [
        "np.sqrt(arr)"
      ],
      "metadata": {
        "colab": {
          "base_uri": "https://localhost:8080/"
        },
        "id": "eVd1mRWYUV5h",
        "outputId": "f4891125-3847-4e28-b6c8-431e90f9611f"
      },
      "execution_count": 125,
      "outputs": [
        {
          "output_type": "execute_result",
          "data": {
            "text/plain": [
              "array([0.        , 1.41421356, 3.        , 2.23606798, 2.23606798,\n",
              "       2.44948974, 3.        , 0.        , 1.41421356, 0.        ])"
            ]
          },
          "metadata": {},
          "execution_count": 125
        }
      ]
    },
    {
      "cell_type": "code",
      "source": [
        "np.sin(arr)"
      ],
      "metadata": {
        "colab": {
          "base_uri": "https://localhost:8080/"
        },
        "id": "w6W22_fxUZ8h",
        "outputId": "b9cf2cd6-ddd8-4c82-98cc-02c19a141972"
      },
      "execution_count": 126,
      "outputs": [
        {
          "output_type": "execute_result",
          "data": {
            "text/plain": [
              "array([ 0.        ,  0.90929743,  0.41211849, -0.95892427, -0.95892427,\n",
              "       -0.2794155 ,  0.41211849,  0.        ,  0.90929743,  0.        ])"
            ]
          },
          "metadata": {},
          "execution_count": 126
        }
      ]
    },
    {
      "cell_type": "code",
      "source": [
        "# Soru : 0-100(100 dahil) arası rastgele 10 tam sayıdan oluşan bir array oluşturun ve oluşturulan arrayin sum/mean/max/var/std değerlerini inceleyin."
      ],
      "metadata": {
        "id": "o8UImnl7UdLa"
      },
      "execution_count": null,
      "outputs": []
    },
    {
      "cell_type": "code",
      "source": [
        "arr = np.random.randint(0,101 , 10)\n",
        "print(arr.sum())\n",
        "print(arr.mean())\n",
        "print(arr.var())\n",
        "print(arr.std())"
      ],
      "metadata": {
        "colab": {
          "base_uri": "https://localhost:8080/"
        },
        "id": "Uj5w_cenVJdG",
        "outputId": "c3224d70-eaee-4a6d-be6b-10d250bf5494"
      },
      "execution_count": 127,
      "outputs": [
        {
          "output_type": "stream",
          "name": "stdout",
          "text": [
            "507\n",
            "50.7\n",
            "783.2099999999999\n",
            "27.98588930157482\n"
          ]
        }
      ]
    },
    {
      "cell_type": "markdown",
      "source": [
        "# NumPy Arraylerini Birleştirme (Concatenate)"
      ],
      "metadata": {
        "id": "VEoTC0Z2VVQC"
      }
    },
    {
      "cell_type": "code",
      "source": [
        "# Numpy Arraylerini birleştirme işlemi .concatenate() fonksiyonu ile yapılır. Fonksiyonun içine liste halinde birleştirilecek arrayler verilir.\n",
        "# np.concatenate([arr1,arr2] , axis = 1)"
      ],
      "metadata": {
        "id": "By88EMCmVS7Z"
      },
      "execution_count": null,
      "outputs": []
    },
    {
      "cell_type": "code",
      "source": [
        "arr1 = np.array([10,20,30,70])\n",
        "arr2 = np.array([100,200,600,900])"
      ],
      "metadata": {
        "id": "Bp0cXi8LV1Rs"
      },
      "execution_count": 128,
      "outputs": []
    },
    {
      "cell_type": "code",
      "source": [
        "arr1"
      ],
      "metadata": {
        "colab": {
          "base_uri": "https://localhost:8080/"
        },
        "id": "8jjV-LchV6_P",
        "outputId": "9da7c1ad-204b-4ed0-bd09-209585882809"
      },
      "execution_count": 129,
      "outputs": [
        {
          "output_type": "execute_result",
          "data": {
            "text/plain": [
              "array([10, 20, 30, 70])"
            ]
          },
          "metadata": {},
          "execution_count": 129
        }
      ]
    },
    {
      "cell_type": "code",
      "source": [
        "arr2"
      ],
      "metadata": {
        "colab": {
          "base_uri": "https://localhost:8080/"
        },
        "id": "V56a5IEKV9gZ",
        "outputId": "1bc4c66e-0d6b-4c73-a6da-1c1e9a1de5ce"
      },
      "execution_count": 130,
      "outputs": [
        {
          "output_type": "execute_result",
          "data": {
            "text/plain": [
              "array([100, 200, 600, 900])"
            ]
          },
          "metadata": {},
          "execution_count": 130
        }
      ]
    },
    {
      "cell_type": "code",
      "source": [
        "np.concatenate([arr1,arr2] , axis = 0 )"
      ],
      "metadata": {
        "colab": {
          "base_uri": "https://localhost:8080/"
        },
        "id": "p5puxdrQV-Hp",
        "outputId": "6e1dc666-3214-49b7-ce5f-5e89285a0ebe"
      },
      "execution_count": 131,
      "outputs": [
        {
          "output_type": "execute_result",
          "data": {
            "text/plain": [
              "array([ 10,  20,  30,  70, 100, 200, 600, 900])"
            ]
          },
          "metadata": {},
          "execution_count": 131
        }
      ]
    },
    {
      "cell_type": "code",
      "source": [
        "arr1 = np.array([[1,2,3] , [5,6,7]])\n",
        "arr2 = np.array([[100,200,300] , [700,800,900]])"
      ],
      "metadata": {
        "id": "uL5H20NpWLOR"
      },
      "execution_count": 133,
      "outputs": []
    },
    {
      "cell_type": "code",
      "source": [
        "arr1"
      ],
      "metadata": {
        "colab": {
          "base_uri": "https://localhost:8080/"
        },
        "id": "yfS2xL3QWnPx",
        "outputId": "397ddd64-63aa-4876-957c-a4fa8966c544"
      },
      "execution_count": 134,
      "outputs": [
        {
          "output_type": "execute_result",
          "data": {
            "text/plain": [
              "array([[1, 2, 3],\n",
              "       [5, 6, 7]])"
            ]
          },
          "metadata": {},
          "execution_count": 134
        }
      ]
    },
    {
      "cell_type": "code",
      "source": [
        "arr2"
      ],
      "metadata": {
        "colab": {
          "base_uri": "https://localhost:8080/"
        },
        "id": "DhStJ2pfWSsZ",
        "outputId": "d35fa255-840b-4dfc-9e2b-b7fd818aaf23"
      },
      "execution_count": 135,
      "outputs": [
        {
          "output_type": "execute_result",
          "data": {
            "text/plain": [
              "array([[100, 200, 300],\n",
              "       [700, 800, 900]])"
            ]
          },
          "metadata": {},
          "execution_count": 135
        }
      ]
    },
    {
      "cell_type": "code",
      "source": [
        "np.concatenate([arr1,arr2] , axis = 0)"
      ],
      "metadata": {
        "colab": {
          "base_uri": "https://localhost:8080/"
        },
        "id": "Hbrq4uGiWo1h",
        "outputId": "50b12d2e-4203-4987-9052-30ba6a3044ba"
      },
      "execution_count": 139,
      "outputs": [
        {
          "output_type": "execute_result",
          "data": {
            "text/plain": [
              "array([[  1,   2,   3],\n",
              "       [  5,   6,   7],\n",
              "       [100, 200, 300],\n",
              "       [700, 800, 900]])"
            ]
          },
          "metadata": {},
          "execution_count": 139
        }
      ]
    },
    {
      "cell_type": "code",
      "source": [
        "np.concatenate([arr1,arr2] , axis = 1)"
      ],
      "metadata": {
        "colab": {
          "base_uri": "https://localhost:8080/"
        },
        "id": "oOnQUQL7Ww2h",
        "outputId": "73ee2955-1502-4d75-893b-a8ccfe17f83c"
      },
      "execution_count": 137,
      "outputs": [
        {
          "output_type": "execute_result",
          "data": {
            "text/plain": [
              "array([[  1,   2,   3, 100, 200, 300],\n",
              "       [  5,   6,   7, 700, 800, 900]])"
            ]
          },
          "metadata": {},
          "execution_count": 137
        }
      ]
    },
    {
      "cell_type": "markdown",
      "source": [
        "# Arrayleri Stackleme(Yığınlama) İşlemleri"
      ],
      "metadata": {
        "id": "4dJX91HKW7lE"
      }
    },
    {
      "cell_type": "code",
      "source": [
        "# Concatenate işleminin hemen hemen aynısıdır tek farkı yeni bir boyut(eksen) üzerinde yığınlamalar yapmasıdır."
      ],
      "metadata": {
        "id": "YO6ZGDgKW2jq"
      },
      "execution_count": 140,
      "outputs": []
    },
    {
      "cell_type": "code",
      "source": [
        "arr1"
      ],
      "metadata": {
        "colab": {
          "base_uri": "https://localhost:8080/"
        },
        "id": "aoofZEyDXe5m",
        "outputId": "9f094bd4-5455-4178-e9c5-2190abeeb2ed"
      },
      "execution_count": 141,
      "outputs": [
        {
          "output_type": "execute_result",
          "data": {
            "text/plain": [
              "array([[1, 2, 3],\n",
              "       [5, 6, 7]])"
            ]
          },
          "metadata": {},
          "execution_count": 141
        }
      ]
    },
    {
      "cell_type": "code",
      "source": [
        "arr2"
      ],
      "metadata": {
        "colab": {
          "base_uri": "https://localhost:8080/"
        },
        "id": "B1zqanK2XhVK",
        "outputId": "6348644e-d2c1-4a58-fc2a-c50787250354"
      },
      "execution_count": 142,
      "outputs": [
        {
          "output_type": "execute_result",
          "data": {
            "text/plain": [
              "array([[100, 200, 300],\n",
              "       [700, 800, 900]])"
            ]
          },
          "metadata": {},
          "execution_count": 142
        }
      ]
    },
    {
      "cell_type": "code",
      "source": [
        "np.concatenate([arr1,arr2] , axis = 0)"
      ],
      "metadata": {
        "colab": {
          "base_uri": "https://localhost:8080/"
        },
        "id": "Ry37Ar3WXhwq",
        "outputId": "00ab990a-d773-41d1-b772-e5ac6ad8be6c"
      },
      "execution_count": 143,
      "outputs": [
        {
          "output_type": "execute_result",
          "data": {
            "text/plain": [
              "array([[  1,   2,   3],\n",
              "       [  5,   6,   7],\n",
              "       [100, 200, 300],\n",
              "       [700, 800, 900]])"
            ]
          },
          "metadata": {},
          "execution_count": 143
        }
      ]
    },
    {
      "cell_type": "code",
      "source": [
        "np.stack([arr1,arr2] , axis = 0)"
      ],
      "metadata": {
        "colab": {
          "base_uri": "https://localhost:8080/"
        },
        "id": "0yHVT-IDXszZ",
        "outputId": "c3f5ab79-1e75-47b4-8adc-ac3e505070da"
      },
      "execution_count": 144,
      "outputs": [
        {
          "output_type": "execute_result",
          "data": {
            "text/plain": [
              "array([[[  1,   2,   3],\n",
              "        [  5,   6,   7]],\n",
              "\n",
              "       [[100, 200, 300],\n",
              "        [700, 800, 900]]])"
            ]
          },
          "metadata": {},
          "execution_count": 144
        }
      ]
    },
    {
      "cell_type": "code",
      "source": [
        "# np.hstack() --> Satır boyunca yığınlama\n",
        "# np.vstack() --> Sütun boyunca yığınlama"
      ],
      "metadata": {
        "id": "2oCZx1GKXx0J"
      },
      "execution_count": null,
      "outputs": []
    },
    {
      "cell_type": "markdown",
      "source": [
        "# NumPy Arraylerinde Arama"
      ],
      "metadata": {
        "id": "6JaNxO-rYVyr"
      }
    },
    {
      "cell_type": "code",
      "source": [
        "# Aradığımız değerlerin bulunduğu indexleri döndürmek için np.where() fonksiyonunu kullanarız.\n",
        "# np.where() içerisine argüman olarak condition(şart) alır."
      ],
      "metadata": {
        "id": "IO_FDpWlYXzp"
      },
      "execution_count": null,
      "outputs": []
    },
    {
      "cell_type": "code",
      "source": [
        "arr = np.array([1,2,5,6,7,7,9,2,2,2])\n",
        "arr"
      ],
      "metadata": {
        "colab": {
          "base_uri": "https://localhost:8080/"
        },
        "id": "VYOPc8L2YoXe",
        "outputId": "faf26e67-ffc7-4a02-cb41-d57277104445"
      },
      "execution_count": 146,
      "outputs": [
        {
          "output_type": "execute_result",
          "data": {
            "text/plain": [
              "array([1, 2, 5, 6, 7, 7, 9, 2, 2, 2])"
            ]
          },
          "metadata": {},
          "execution_count": 146
        }
      ]
    },
    {
      "cell_type": "code",
      "source": [
        "np.where(arr == 9) # Arrayimizin kaçıncı indeksindeki elemanlar 9'dur ?"
      ],
      "metadata": {
        "colab": {
          "base_uri": "https://localhost:8080/"
        },
        "id": "hVvf34rhYtYJ",
        "outputId": "160ef24d-2793-4c55-9476-d9e6b6233cce"
      },
      "execution_count": 147,
      "outputs": [
        {
          "output_type": "execute_result",
          "data": {
            "text/plain": [
              "(array([6]),)"
            ]
          },
          "metadata": {},
          "execution_count": 147
        }
      ]
    },
    {
      "cell_type": "code",
      "source": [
        "np.where(arr == 2)"
      ],
      "metadata": {
        "colab": {
          "base_uri": "https://localhost:8080/"
        },
        "id": "5QBzzX_MY6OE",
        "outputId": "6d952d34-aeef-4ee9-c222-848e02843ceb"
      },
      "execution_count": 148,
      "outputs": [
        {
          "output_type": "execute_result",
          "data": {
            "text/plain": [
              "(array([1, 7, 8, 9]),)"
            ]
          },
          "metadata": {},
          "execution_count": 148
        }
      ]
    },
    {
      "cell_type": "code",
      "source": [
        "np.where(arr%2 != 0 ) # Tek elemanların indeksleri"
      ],
      "metadata": {
        "colab": {
          "base_uri": "https://localhost:8080/"
        },
        "id": "ZjzI8E0hZCvh",
        "outputId": "da8e3d89-c35a-4a86-f9a2-79ec20c43adf"
      },
      "execution_count": 149,
      "outputs": [
        {
          "output_type": "execute_result",
          "data": {
            "text/plain": [
              "(array([0, 2, 4, 5, 6]),)"
            ]
          },
          "metadata": {},
          "execution_count": 149
        }
      ]
    },
    {
      "cell_type": "markdown",
      "source": [
        "# NumPy'da Random Kütüphanesi"
      ],
      "metadata": {
        "id": "WpdlIZEYZkd4"
      }
    },
    {
      "cell_type": "code",
      "source": [
        "# Random diye ayrı bir kütüphane olmasının yanı sıra NumPy kütüphanesinin içinde random adında bir modül de bulunur.\n",
        "# NumPy'ın içindeki random modülü normal random kütüphanesinden daha kapsamlıdır."
      ],
      "metadata": {
        "id": "F3NMxpTqZfUx"
      },
      "execution_count": 150,
      "outputs": []
    },
    {
      "cell_type": "code",
      "source": [
        "# from numpy import random as rd\n",
        "import numpy as np"
      ],
      "metadata": {
        "id": "oU5ol3sYZ3k2"
      },
      "execution_count": 151,
      "outputs": []
    },
    {
      "cell_type": "code",
      "source": [
        "np.random.rand() # 0-1 arası 1 tane sayı döndürür"
      ],
      "metadata": {
        "colab": {
          "base_uri": "https://localhost:8080/"
        },
        "id": "DOfr9mZwZ_Oh",
        "outputId": "8867ec42-42a5-4daf-b82b-7397835ce4b0"
      },
      "execution_count": 153,
      "outputs": [
        {
          "output_type": "execute_result",
          "data": {
            "text/plain": [
              "0.057728439229184136"
            ]
          },
          "metadata": {},
          "execution_count": 153
        }
      ]
    },
    {
      "cell_type": "code",
      "source": [
        "np.random.randn(5) # Normal dağılımdan random 5 tane veri çek"
      ],
      "metadata": {
        "colab": {
          "base_uri": "https://localhost:8080/"
        },
        "id": "HyUBgLuKaO3y",
        "outputId": "f0288724-f9bb-4d0a-a5eb-557e5f834696"
      },
      "execution_count": 154,
      "outputs": [
        {
          "output_type": "execute_result",
          "data": {
            "text/plain": [
              "array([ 0.27138892, -0.78894347, -1.65346792,  0.38273185,  2.75811026])"
            ]
          },
          "metadata": {},
          "execution_count": 154
        }
      ]
    },
    {
      "cell_type": "code",
      "source": [
        "np.random.randint(low = 10 , high = 30 , size = 5)"
      ],
      "metadata": {
        "colab": {
          "base_uri": "https://localhost:8080/"
        },
        "id": "kKrv_H9paTNy",
        "outputId": "9c60dcc3-ee8e-4004-ec11-322956106904"
      },
      "execution_count": 155,
      "outputs": [
        {
          "output_type": "execute_result",
          "data": {
            "text/plain": [
              "array([17, 23, 22, 13, 20])"
            ]
          },
          "metadata": {},
          "execution_count": 155
        }
      ]
    },
    {
      "cell_type": "code",
      "source": [
        "np.random.randint(10 , 30 , 5)"
      ],
      "metadata": {
        "colab": {
          "base_uri": "https://localhost:8080/"
        },
        "id": "OYc3TBk9agkx",
        "outputId": "4be64b4c-0a61-49a7-ebbd-9cf97a2140c1"
      },
      "execution_count": 156,
      "outputs": [
        {
          "output_type": "execute_result",
          "data": {
            "text/plain": [
              "array([20, 29, 19, 13, 19])"
            ]
          },
          "metadata": {},
          "execution_count": 156
        }
      ]
    },
    {
      "cell_type": "code",
      "source": [
        "arr"
      ],
      "metadata": {
        "colab": {
          "base_uri": "https://localhost:8080/"
        },
        "id": "qOwi2JXba_SX",
        "outputId": "dbb58240-d8bd-4aa6-90d8-05f90a80ab74"
      },
      "execution_count": 157,
      "outputs": [
        {
          "output_type": "execute_result",
          "data": {
            "text/plain": [
              "array([1, 2, 5, 6, 7, 7, 9, 2, 2, 2])"
            ]
          },
          "metadata": {},
          "execution_count": 157
        }
      ]
    },
    {
      "cell_type": "code",
      "source": [
        "np.random.choice(arr)"
      ],
      "metadata": {
        "colab": {
          "base_uri": "https://localhost:8080/"
        },
        "id": "yUe142MYaoDa",
        "outputId": "5a5141e3-6ad3-420c-c6b3-6ce422344d3f"
      },
      "execution_count": 160,
      "outputs": [
        {
          "output_type": "execute_result",
          "data": {
            "text/plain": [
              "5"
            ]
          },
          "metadata": {},
          "execution_count": 160
        }
      ]
    },
    {
      "cell_type": "code",
      "source": [
        "np.random.choice([3,-1,15])"
      ],
      "metadata": {
        "colab": {
          "base_uri": "https://localhost:8080/"
        },
        "id": "d8Ho8nK7bCSp",
        "outputId": "eddc21f9-041c-479a-e214-2749c4a3e4e3"
      },
      "execution_count": 163,
      "outputs": [
        {
          "output_type": "execute_result",
          "data": {
            "text/plain": [
              "15"
            ]
          },
          "metadata": {},
          "execution_count": 163
        }
      ]
    },
    {
      "cell_type": "code",
      "source": [
        "# Done."
      ],
      "metadata": {
        "id": "FSWR5rDbbIO5"
      },
      "execution_count": null,
      "outputs": []
    }
  ]
}