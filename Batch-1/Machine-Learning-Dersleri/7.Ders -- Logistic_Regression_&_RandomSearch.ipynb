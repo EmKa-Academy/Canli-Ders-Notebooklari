{
  "nbformat": 4,
  "nbformat_minor": 0,
  "metadata": {
    "colab": {
      "provenance": []
    },
    "kernelspec": {
      "name": "python3",
      "display_name": "Python 3"
    },
    "language_info": {
      "name": "python"
    }
  },
  "cells": [
    {
      "cell_type": "markdown",
      "source": [
        "## Kütüphaneler"
      ],
      "metadata": {
        "id": "aigyo_rrD7Ww"
      }
    },
    {
      "cell_type": "code",
      "execution_count": null,
      "metadata": {
        "id": "52QOWkaYvbV-"
      },
      "outputs": [],
      "source": [
        "import pandas as pd\n",
        "import numpy as np\n",
        "\n",
        "from sklearn.datasets import make_classification\n",
        "from sklearn.model_selection import train_test_split, RandomizedSearchCV\n",
        "\n",
        "# RandomSearch ve GridSearch'ün benzer çalışma mantıkları vardır.\n",
        "\n",
        "from sklearn.linear_model import LogisticRegression\n",
        "from sklearn.metrics import classification_report"
      ]
    },
    {
      "cell_type": "markdown",
      "source": [
        "## Veri Oluşturma"
      ],
      "metadata": {
        "id": "NwTeXY8rD5-R"
      }
    },
    {
      "cell_type": "code",
      "source": [
        "X, y = make_classification(n_samples = 2000, n_features = 50, n_informative = 10,\n",
        "                           random_state = 812, n_classes = 2)\n",
        "X"
      ],
      "metadata": {
        "colab": {
          "base_uri": "https://localhost:8080/"
        },
        "id": "9lBaRVow8kKI",
        "outputId": "844f488f-6324-4fdf-ab6c-da11c1be967d"
      },
      "execution_count": null,
      "outputs": [
        {
          "output_type": "execute_result",
          "data": {
            "text/plain": [
              "array([[ 1.23173717,  1.10532801,  0.22776564, ..., -0.78356596,\n",
              "        -0.15711703, -1.65414508],\n",
              "       [ 0.48439638, -0.14303632, -2.51423517, ...,  0.60566089,\n",
              "        -0.13130922, -0.21336398],\n",
              "       [ 1.43086386, -0.13222191, -0.97300061, ..., -1.24373168,\n",
              "        -0.8441854 , -1.68326389],\n",
              "       ...,\n",
              "       [ 1.31133403,  0.03317187,  2.49820238, ..., -0.42860444,\n",
              "         1.11198425, -0.37050314],\n",
              "       [ 1.40062972, -0.98004073, -0.89407227, ...,  1.63212064,\n",
              "         0.06716772,  1.21445157],\n",
              "       [ 0.44062982, -0.17520526,  3.96299506, ...,  0.25240773,\n",
              "        -0.095253  ,  0.83673848]])"
            ]
          },
          "metadata": {},
          "execution_count": 7
        }
      ]
    },
    {
      "cell_type": "code",
      "source": [
        "X.shape"
      ],
      "metadata": {
        "colab": {
          "base_uri": "https://localhost:8080/"
        },
        "id": "NEYgUeDm9gCr",
        "outputId": "e5b3ef71-38a9-439c-f69d-7cb2d9d03d70"
      },
      "execution_count": null,
      "outputs": [
        {
          "output_type": "execute_result",
          "data": {
            "text/plain": [
              "(2000, 50)"
            ]
          },
          "metadata": {},
          "execution_count": 8
        }
      ]
    },
    {
      "cell_type": "code",
      "source": [
        "y"
      ],
      "metadata": {
        "colab": {
          "base_uri": "https://localhost:8080/"
        },
        "id": "BUX_ieKn8kHX",
        "outputId": "3d5cefbc-1bc4-436a-873b-668243672e69"
      },
      "execution_count": null,
      "outputs": [
        {
          "output_type": "execute_result",
          "data": {
            "text/plain": [
              "array([0, 0, 0, ..., 0, 1, 0])"
            ]
          },
          "metadata": {},
          "execution_count": 6
        }
      ]
    },
    {
      "cell_type": "code",
      "source": [
        "X_train, X_test, y_train, y_test = train_test_split(\n",
        "    X, y, random_state = 42, train_size = 0.8\n",
        ")"
      ],
      "metadata": {
        "id": "Px3pqRGJ8kFH"
      },
      "execution_count": null,
      "outputs": []
    },
    {
      "cell_type": "code",
      "source": [
        "X_train.shape, X_test.shape"
      ],
      "metadata": {
        "colab": {
          "base_uri": "https://localhost:8080/"
        },
        "id": "M8hpZ8KA8kAl",
        "outputId": "8c297f1b-c96f-4494-a29a-be776b6750fc"
      },
      "execution_count": null,
      "outputs": [
        {
          "output_type": "execute_result",
          "data": {
            "text/plain": [
              "((1600, 50), (400, 50))"
            ]
          },
          "metadata": {},
          "execution_count": 11
        }
      ]
    },
    {
      "cell_type": "markdown",
      "source": [
        "## Vanilla Model"
      ],
      "metadata": {
        "id": "Jk_OICc9-whb"
      }
    },
    {
      "cell_type": "code",
      "source": [
        "vanilla_lr = LogisticRegression()"
      ],
      "metadata": {
        "id": "M6JR6jYx99We"
      },
      "execution_count": null,
      "outputs": []
    },
    {
      "cell_type": "code",
      "source": [
        "vanilla_lr.fit(X_train, y_train)"
      ],
      "metadata": {
        "colab": {
          "base_uri": "https://localhost:8080/",
          "height": 74
        },
        "id": "nG1KXuRD99Uk",
        "outputId": "685f4ef5-cb91-44f2-d7c2-14a3a62915ce"
      },
      "execution_count": null,
      "outputs": [
        {
          "output_type": "execute_result",
          "data": {
            "text/plain": [
              "LogisticRegression()"
            ],
            "text/html": [
              "<style>#sk-container-id-1 {color: black;background-color: white;}#sk-container-id-1 pre{padding: 0;}#sk-container-id-1 div.sk-toggleable {background-color: white;}#sk-container-id-1 label.sk-toggleable__label {cursor: pointer;display: block;width: 100%;margin-bottom: 0;padding: 0.3em;box-sizing: border-box;text-align: center;}#sk-container-id-1 label.sk-toggleable__label-arrow:before {content: \"▸\";float: left;margin-right: 0.25em;color: #696969;}#sk-container-id-1 label.sk-toggleable__label-arrow:hover:before {color: black;}#sk-container-id-1 div.sk-estimator:hover label.sk-toggleable__label-arrow:before {color: black;}#sk-container-id-1 div.sk-toggleable__content {max-height: 0;max-width: 0;overflow: hidden;text-align: left;background-color: #f0f8ff;}#sk-container-id-1 div.sk-toggleable__content pre {margin: 0.2em;color: black;border-radius: 0.25em;background-color: #f0f8ff;}#sk-container-id-1 input.sk-toggleable__control:checked~div.sk-toggleable__content {max-height: 200px;max-width: 100%;overflow: auto;}#sk-container-id-1 input.sk-toggleable__control:checked~label.sk-toggleable__label-arrow:before {content: \"▾\";}#sk-container-id-1 div.sk-estimator input.sk-toggleable__control:checked~label.sk-toggleable__label {background-color: #d4ebff;}#sk-container-id-1 div.sk-label input.sk-toggleable__control:checked~label.sk-toggleable__label {background-color: #d4ebff;}#sk-container-id-1 input.sk-hidden--visually {border: 0;clip: rect(1px 1px 1px 1px);clip: rect(1px, 1px, 1px, 1px);height: 1px;margin: -1px;overflow: hidden;padding: 0;position: absolute;width: 1px;}#sk-container-id-1 div.sk-estimator {font-family: monospace;background-color: #f0f8ff;border: 1px dotted black;border-radius: 0.25em;box-sizing: border-box;margin-bottom: 0.5em;}#sk-container-id-1 div.sk-estimator:hover {background-color: #d4ebff;}#sk-container-id-1 div.sk-parallel-item::after {content: \"\";width: 100%;border-bottom: 1px solid gray;flex-grow: 1;}#sk-container-id-1 div.sk-label:hover label.sk-toggleable__label {background-color: #d4ebff;}#sk-container-id-1 div.sk-serial::before {content: \"\";position: absolute;border-left: 1px solid gray;box-sizing: border-box;top: 0;bottom: 0;left: 50%;z-index: 0;}#sk-container-id-1 div.sk-serial {display: flex;flex-direction: column;align-items: center;background-color: white;padding-right: 0.2em;padding-left: 0.2em;position: relative;}#sk-container-id-1 div.sk-item {position: relative;z-index: 1;}#sk-container-id-1 div.sk-parallel {display: flex;align-items: stretch;justify-content: center;background-color: white;position: relative;}#sk-container-id-1 div.sk-item::before, #sk-container-id-1 div.sk-parallel-item::before {content: \"\";position: absolute;border-left: 1px solid gray;box-sizing: border-box;top: 0;bottom: 0;left: 50%;z-index: -1;}#sk-container-id-1 div.sk-parallel-item {display: flex;flex-direction: column;z-index: 1;position: relative;background-color: white;}#sk-container-id-1 div.sk-parallel-item:first-child::after {align-self: flex-end;width: 50%;}#sk-container-id-1 div.sk-parallel-item:last-child::after {align-self: flex-start;width: 50%;}#sk-container-id-1 div.sk-parallel-item:only-child::after {width: 0;}#sk-container-id-1 div.sk-dashed-wrapped {border: 1px dashed gray;margin: 0 0.4em 0.5em 0.4em;box-sizing: border-box;padding-bottom: 0.4em;background-color: white;}#sk-container-id-1 div.sk-label label {font-family: monospace;font-weight: bold;display: inline-block;line-height: 1.2em;}#sk-container-id-1 div.sk-label-container {text-align: center;}#sk-container-id-1 div.sk-container {/* jupyter's `normalize.less` sets `[hidden] { display: none; }` but bootstrap.min.css set `[hidden] { display: none !important; }` so we also need the `!important` here to be able to override the default hidden behavior on the sphinx rendered scikit-learn.org. See: https://github.com/scikit-learn/scikit-learn/issues/21755 */display: inline-block !important;position: relative;}#sk-container-id-1 div.sk-text-repr-fallback {display: none;}</style><div id=\"sk-container-id-1\" class=\"sk-top-container\"><div class=\"sk-text-repr-fallback\"><pre>LogisticRegression()</pre><b>In a Jupyter environment, please rerun this cell to show the HTML representation or trust the notebook. <br />On GitHub, the HTML representation is unable to render, please try loading this page with nbviewer.org.</b></div><div class=\"sk-container\" hidden><div class=\"sk-item\"><div class=\"sk-estimator sk-toggleable\"><input class=\"sk-toggleable__control sk-hidden--visually\" id=\"sk-estimator-id-1\" type=\"checkbox\" checked><label for=\"sk-estimator-id-1\" class=\"sk-toggleable__label sk-toggleable__label-arrow\">LogisticRegression</label><div class=\"sk-toggleable__content\"><pre>LogisticRegression()</pre></div></div></div></div></div>"
            ]
          },
          "metadata": {},
          "execution_count": 13
        }
      ]
    },
    {
      "cell_type": "code",
      "source": [
        "vanilla_preds = vanilla_lr.predict(X_test)\n",
        "vanilla_preds"
      ],
      "metadata": {
        "colab": {
          "base_uri": "https://localhost:8080/"
        },
        "id": "RRFhUGrC99Sc",
        "outputId": "68c5e25c-6fc3-4b3f-d718-09b0c358d4f1"
      },
      "execution_count": null,
      "outputs": [
        {
          "output_type": "execute_result",
          "data": {
            "text/plain": [
              "array([1, 1, 1, 0, 1, 1, 0, 1, 1, 0, 1, 1, 1, 0, 1, 0, 0, 0, 1, 1, 0, 1,\n",
              "       0, 1, 0, 0, 0, 0, 1, 1, 0, 1, 0, 0, 1, 0, 1, 1, 0, 1, 0, 0, 1, 0,\n",
              "       1, 0, 0, 1, 1, 1, 1, 0, 0, 1, 0, 0, 0, 0, 1, 0, 1, 0, 0, 1, 0, 1,\n",
              "       0, 1, 0, 0, 0, 0, 0, 1, 0, 0, 0, 1, 0, 0, 0, 1, 1, 1, 0, 1, 0, 1,\n",
              "       0, 0, 0, 0, 0, 0, 0, 0, 0, 0, 0, 0, 1, 0, 1, 0, 0, 0, 1, 0, 1, 0,\n",
              "       0, 0, 0, 0, 1, 1, 0, 1, 0, 1, 0, 1, 1, 1, 1, 1, 1, 0, 0, 1, 0, 0,\n",
              "       1, 0, 0, 0, 0, 0, 0, 0, 0, 1, 0, 0, 1, 1, 1, 0, 0, 1, 1, 1, 0, 0,\n",
              "       0, 1, 0, 0, 0, 1, 0, 1, 0, 1, 0, 1, 1, 0, 1, 0, 0, 1, 1, 1, 1, 0,\n",
              "       1, 0, 1, 0, 1, 0, 0, 1, 1, 1, 1, 0, 1, 1, 0, 1, 1, 1, 1, 1, 0, 1,\n",
              "       0, 1, 0, 0, 1, 0, 1, 1, 1, 0, 1, 1, 0, 1, 0, 1, 0, 0, 0, 1, 0, 0,\n",
              "       0, 1, 0, 0, 1, 0, 0, 1, 0, 0, 1, 1, 1, 1, 0, 0, 0, 1, 0, 1, 0, 1,\n",
              "       0, 0, 1, 1, 0, 0, 1, 1, 0, 1, 1, 1, 1, 0, 1, 1, 0, 0, 0, 1, 0, 0,\n",
              "       0, 1, 0, 1, 1, 1, 0, 0, 1, 1, 1, 1, 0, 0, 0, 0, 0, 1, 0, 0, 1, 1,\n",
              "       1, 1, 1, 1, 0, 0, 1, 1, 1, 0, 0, 1, 0, 1, 0, 1, 0, 1, 0, 0, 0, 0,\n",
              "       0, 1, 0, 1, 1, 0, 1, 1, 1, 1, 0, 0, 0, 0, 1, 1, 1, 1, 0, 1, 1, 1,\n",
              "       1, 0, 1, 0, 1, 1, 0, 1, 1, 1, 0, 1, 1, 0, 1, 0, 1, 1, 0, 1, 0, 1,\n",
              "       0, 1, 1, 0, 0, 1, 1, 0, 0, 1, 1, 1, 0, 0, 0, 1, 0, 1, 0, 1, 0, 0,\n",
              "       1, 1, 1, 0, 1, 1, 0, 0, 0, 0, 1, 1, 0, 1, 1, 0, 0, 0, 0, 1, 1, 0,\n",
              "       1, 1, 1, 0])"
            ]
          },
          "metadata": {},
          "execution_count": 14
        }
      ]
    },
    {
      "cell_type": "code",
      "source": [
        "print(classification_report(y_train, vanilla_lr.predict(X_train), digits = 3))"
      ],
      "metadata": {
        "colab": {
          "base_uri": "https://localhost:8080/"
        },
        "id": "Myup7Euu_kfJ",
        "outputId": "0c2e45d4-fdf3-404e-9c50-482d2458f320"
      },
      "execution_count": null,
      "outputs": [
        {
          "output_type": "stream",
          "name": "stdout",
          "text": [
            "              precision    recall  f1-score   support\n",
            "\n",
            "           0      0.781     0.790     0.785       815\n",
            "           1      0.779     0.769     0.774       785\n",
            "\n",
            "    accuracy                          0.780      1600\n",
            "   macro avg      0.780     0.780     0.780      1600\n",
            "weighted avg      0.780     0.780     0.780      1600\n",
            "\n"
          ]
        }
      ]
    },
    {
      "cell_type": "code",
      "source": [
        "print(classification_report(y_test, vanilla_preds, digits = 3))"
      ],
      "metadata": {
        "colab": {
          "base_uri": "https://localhost:8080/"
        },
        "id": "wSX2_SCP99QT",
        "outputId": "b742c9f2-07c4-4c0f-b95d-2cc9b390594e"
      },
      "execution_count": null,
      "outputs": [
        {
          "output_type": "stream",
          "name": "stdout",
          "text": [
            "              precision    recall  f1-score   support\n",
            "\n",
            "           0      0.693     0.759     0.724       187\n",
            "           1      0.769     0.704     0.735       213\n",
            "\n",
            "    accuracy                          0.730       400\n",
            "   macro avg      0.731     0.732     0.730       400\n",
            "weighted avg      0.733     0.730     0.730       400\n",
            "\n"
          ]
        }
      ]
    },
    {
      "cell_type": "markdown",
      "source": [
        "--> Trainde: 0.90 accuracy aldım\n",
        "--> Testte: 0.85 accuracy aldım\n",
        "---> Güzel skorlar, açıklık çok fazla değil\n",
        "---> Olması gerektiği gibi\n",
        "\n",
        "--> Trainde: 0.95 accuracy aldım\n",
        "--> Testte: 0.80 accuracy aldım\n",
        "---> Açıklık, fazla. 0.15 istenmez.\n",
        "---> Overfitting (Ezberleme)"
      ],
      "metadata": {
        "id": "c3xfo_In_1P1"
      }
    },
    {
      "cell_type": "markdown",
      "source": [
        "## Hyperparameter Tuning"
      ],
      "metadata": {
        "id": "MVkwhVMD-ySs"
      }
    },
    {
      "cell_type": "code",
      "source": [
        "param_dist = {\n",
        "    \"C\": [0.01, 0.1, 1, 10, 100],\n",
        "    # Verisetim, gerçek hayatı ne kadar ölçüde yansıtıyor?\n",
        "    # Büyük C --> Datasetime güvenirim\n",
        "    # Küçük C --> Datasetime çok güvenmiyorum\n",
        "    \"penalty\": [\"l1\", \"l2\"],\n",
        "    \"solver\": [\"saga\", \"liblinear\"]\n",
        "}"
      ],
      "metadata": {
        "id": "tVpf4t0p-0C-"
      },
      "execution_count": null,
      "outputs": []
    },
    {
      "cell_type": "code",
      "source": [
        "tune_model = LogisticRegression()"
      ],
      "metadata": {
        "id": "f5sMChKk-z_0"
      },
      "execution_count": null,
      "outputs": []
    },
    {
      "cell_type": "code",
      "source": [
        "random_search = RandomizedSearchCV(\n",
        "    tune_model, param_distributions = param_dist, cv = 5, n_iter = 5,\n",
        "    verbose = 1\n",
        ")"
      ],
      "metadata": {
        "id": "EDWnVnO68jjy"
      },
      "execution_count": null,
      "outputs": []
    },
    {
      "cell_type": "code",
      "source": [
        "random_search.fit(X_train, y_train)"
      ],
      "metadata": {
        "colab": {
          "base_uri": "https://localhost:8080/",
          "height": 135
        },
        "id": "jAqyYxLoBmUl",
        "outputId": "af8638e3-521f-4fdf-9704-7e9b867c2424"
      },
      "execution_count": null,
      "outputs": [
        {
          "output_type": "stream",
          "name": "stdout",
          "text": [
            "Fitting 5 folds for each of 5 candidates, totalling 25 fits\n"
          ]
        },
        {
          "output_type": "execute_result",
          "data": {
            "text/plain": [
              "RandomizedSearchCV(cv=5, estimator=LogisticRegression(), n_iter=5,\n",
              "                   param_distributions={'C': [0.01, 0.1, 1, 10, 100],\n",
              "                                        'penalty': ['l1', 'l2'],\n",
              "                                        'solver': ['saga', 'liblinear']},\n",
              "                   verbose=1)"
            ],
            "text/html": [
              "<style>#sk-container-id-3 {color: black;background-color: white;}#sk-container-id-3 pre{padding: 0;}#sk-container-id-3 div.sk-toggleable {background-color: white;}#sk-container-id-3 label.sk-toggleable__label {cursor: pointer;display: block;width: 100%;margin-bottom: 0;padding: 0.3em;box-sizing: border-box;text-align: center;}#sk-container-id-3 label.sk-toggleable__label-arrow:before {content: \"▸\";float: left;margin-right: 0.25em;color: #696969;}#sk-container-id-3 label.sk-toggleable__label-arrow:hover:before {color: black;}#sk-container-id-3 div.sk-estimator:hover label.sk-toggleable__label-arrow:before {color: black;}#sk-container-id-3 div.sk-toggleable__content {max-height: 0;max-width: 0;overflow: hidden;text-align: left;background-color: #f0f8ff;}#sk-container-id-3 div.sk-toggleable__content pre {margin: 0.2em;color: black;border-radius: 0.25em;background-color: #f0f8ff;}#sk-container-id-3 input.sk-toggleable__control:checked~div.sk-toggleable__content {max-height: 200px;max-width: 100%;overflow: auto;}#sk-container-id-3 input.sk-toggleable__control:checked~label.sk-toggleable__label-arrow:before {content: \"▾\";}#sk-container-id-3 div.sk-estimator input.sk-toggleable__control:checked~label.sk-toggleable__label {background-color: #d4ebff;}#sk-container-id-3 div.sk-label input.sk-toggleable__control:checked~label.sk-toggleable__label {background-color: #d4ebff;}#sk-container-id-3 input.sk-hidden--visually {border: 0;clip: rect(1px 1px 1px 1px);clip: rect(1px, 1px, 1px, 1px);height: 1px;margin: -1px;overflow: hidden;padding: 0;position: absolute;width: 1px;}#sk-container-id-3 div.sk-estimator {font-family: monospace;background-color: #f0f8ff;border: 1px dotted black;border-radius: 0.25em;box-sizing: border-box;margin-bottom: 0.5em;}#sk-container-id-3 div.sk-estimator:hover {background-color: #d4ebff;}#sk-container-id-3 div.sk-parallel-item::after {content: \"\";width: 100%;border-bottom: 1px solid gray;flex-grow: 1;}#sk-container-id-3 div.sk-label:hover label.sk-toggleable__label {background-color: #d4ebff;}#sk-container-id-3 div.sk-serial::before {content: \"\";position: absolute;border-left: 1px solid gray;box-sizing: border-box;top: 0;bottom: 0;left: 50%;z-index: 0;}#sk-container-id-3 div.sk-serial {display: flex;flex-direction: column;align-items: center;background-color: white;padding-right: 0.2em;padding-left: 0.2em;position: relative;}#sk-container-id-3 div.sk-item {position: relative;z-index: 1;}#sk-container-id-3 div.sk-parallel {display: flex;align-items: stretch;justify-content: center;background-color: white;position: relative;}#sk-container-id-3 div.sk-item::before, #sk-container-id-3 div.sk-parallel-item::before {content: \"\";position: absolute;border-left: 1px solid gray;box-sizing: border-box;top: 0;bottom: 0;left: 50%;z-index: -1;}#sk-container-id-3 div.sk-parallel-item {display: flex;flex-direction: column;z-index: 1;position: relative;background-color: white;}#sk-container-id-3 div.sk-parallel-item:first-child::after {align-self: flex-end;width: 50%;}#sk-container-id-3 div.sk-parallel-item:last-child::after {align-self: flex-start;width: 50%;}#sk-container-id-3 div.sk-parallel-item:only-child::after {width: 0;}#sk-container-id-3 div.sk-dashed-wrapped {border: 1px dashed gray;margin: 0 0.4em 0.5em 0.4em;box-sizing: border-box;padding-bottom: 0.4em;background-color: white;}#sk-container-id-3 div.sk-label label {font-family: monospace;font-weight: bold;display: inline-block;line-height: 1.2em;}#sk-container-id-3 div.sk-label-container {text-align: center;}#sk-container-id-3 div.sk-container {/* jupyter's `normalize.less` sets `[hidden] { display: none; }` but bootstrap.min.css set `[hidden] { display: none !important; }` so we also need the `!important` here to be able to override the default hidden behavior on the sphinx rendered scikit-learn.org. See: https://github.com/scikit-learn/scikit-learn/issues/21755 */display: inline-block !important;position: relative;}#sk-container-id-3 div.sk-text-repr-fallback {display: none;}</style><div id=\"sk-container-id-3\" class=\"sk-top-container\"><div class=\"sk-text-repr-fallback\"><pre>RandomizedSearchCV(cv=5, estimator=LogisticRegression(), n_iter=5,\n",
              "                   param_distributions={&#x27;C&#x27;: [0.01, 0.1, 1, 10, 100],\n",
              "                                        &#x27;penalty&#x27;: [&#x27;l1&#x27;, &#x27;l2&#x27;],\n",
              "                                        &#x27;solver&#x27;: [&#x27;saga&#x27;, &#x27;liblinear&#x27;]},\n",
              "                   verbose=1)</pre><b>In a Jupyter environment, please rerun this cell to show the HTML representation or trust the notebook. <br />On GitHub, the HTML representation is unable to render, please try loading this page with nbviewer.org.</b></div><div class=\"sk-container\" hidden><div class=\"sk-item sk-dashed-wrapped\"><div class=\"sk-label-container\"><div class=\"sk-label sk-toggleable\"><input class=\"sk-toggleable__control sk-hidden--visually\" id=\"sk-estimator-id-5\" type=\"checkbox\" ><label for=\"sk-estimator-id-5\" class=\"sk-toggleable__label sk-toggleable__label-arrow\">RandomizedSearchCV</label><div class=\"sk-toggleable__content\"><pre>RandomizedSearchCV(cv=5, estimator=LogisticRegression(), n_iter=5,\n",
              "                   param_distributions={&#x27;C&#x27;: [0.01, 0.1, 1, 10, 100],\n",
              "                                        &#x27;penalty&#x27;: [&#x27;l1&#x27;, &#x27;l2&#x27;],\n",
              "                                        &#x27;solver&#x27;: [&#x27;saga&#x27;, &#x27;liblinear&#x27;]},\n",
              "                   verbose=1)</pre></div></div></div><div class=\"sk-parallel\"><div class=\"sk-parallel-item\"><div class=\"sk-item\"><div class=\"sk-label-container\"><div class=\"sk-label sk-toggleable\"><input class=\"sk-toggleable__control sk-hidden--visually\" id=\"sk-estimator-id-6\" type=\"checkbox\" ><label for=\"sk-estimator-id-6\" class=\"sk-toggleable__label sk-toggleable__label-arrow\">estimator: LogisticRegression</label><div class=\"sk-toggleable__content\"><pre>LogisticRegression()</pre></div></div></div><div class=\"sk-serial\"><div class=\"sk-item\"><div class=\"sk-estimator sk-toggleable\"><input class=\"sk-toggleable__control sk-hidden--visually\" id=\"sk-estimator-id-7\" type=\"checkbox\" ><label for=\"sk-estimator-id-7\" class=\"sk-toggleable__label sk-toggleable__label-arrow\">LogisticRegression</label><div class=\"sk-toggleable__content\"><pre>LogisticRegression()</pre></div></div></div></div></div></div></div></div></div></div>"
            ]
          },
          "metadata": {},
          "execution_count": 30
        }
      ]
    },
    {
      "cell_type": "code",
      "source": [
        "random_search.best_params_"
      ],
      "metadata": {
        "colab": {
          "base_uri": "https://localhost:8080/"
        },
        "id": "lZ-Osl0TBmSV",
        "outputId": "11a61998-578b-48ec-82fa-9f95af89602f"
      },
      "execution_count": null,
      "outputs": [
        {
          "output_type": "execute_result",
          "data": {
            "text/plain": [
              "{'solver': 'liblinear', 'penalty': 'l1', 'C': 1}"
            ]
          },
          "metadata": {},
          "execution_count": 31
        }
      ]
    },
    {
      "cell_type": "code",
      "source": [
        "best_model = random_search.best_estimator_"
      ],
      "metadata": {
        "id": "hK5iGBKgBlLk"
      },
      "execution_count": null,
      "outputs": []
    },
    {
      "cell_type": "code",
      "source": [
        "tuned_preds = best_model.predict(X_test)"
      ],
      "metadata": {
        "id": "j2EO5Un0CPOL"
      },
      "execution_count": null,
      "outputs": []
    },
    {
      "cell_type": "code",
      "source": [
        "print(classification_report(y_test, tuned_preds, digits = 3))"
      ],
      "metadata": {
        "colab": {
          "base_uri": "https://localhost:8080/"
        },
        "id": "qpEzHDzHCUfy",
        "outputId": "754317ad-acde-4ac3-bd5c-dc770abd697e"
      },
      "execution_count": null,
      "outputs": [
        {
          "output_type": "stream",
          "name": "stdout",
          "text": [
            "              precision    recall  f1-score   support\n",
            "\n",
            "           0      0.695     0.754     0.723       187\n",
            "           1      0.766     0.709     0.737       213\n",
            "\n",
            "    accuracy                          0.730       400\n",
            "   macro avg      0.731     0.731     0.730       400\n",
            "weighted avg      0.733     0.730     0.730       400\n",
            "\n"
          ]
        }
      ]
    },
    {
      "cell_type": "code",
      "source": [
        "tuned_probas = best_model.predict_proba(X_test)[:, 1]\n",
        "tuned_probas"
      ],
      "metadata": {
        "colab": {
          "base_uri": "https://localhost:8080/"
        },
        "id": "2k-dIkE_Cqhx",
        "outputId": "eb3d8724-29a0-43a8-fd9c-1f13ea2d2b90"
      },
      "execution_count": null,
      "outputs": [
        {
          "output_type": "execute_result",
          "data": {
            "text/plain": [
              "array([0.93803541, 0.66568809, 0.83210849, 0.42116224, 0.76028834,\n",
              "       0.74799278, 0.37349751, 0.93862702, 0.93090321, 0.29050947,\n",
              "       0.89824044, 0.7030545 , 0.61682318, 0.23543338, 0.91248393,\n",
              "       0.48943698, 0.3259892 , 0.42641054, 0.95974525, 0.63065843,\n",
              "       0.27495342, 0.6175912 , 0.04414837, 0.74360047, 0.08082391,\n",
              "       0.3212452 , 0.04991041, 0.17757425, 0.96236156, 0.80263014,\n",
              "       0.20163812, 0.6807709 , 0.22144041, 0.41982632, 0.73082875,\n",
              "       0.07873054, 0.98307615, 0.63009332, 0.31596355, 0.87207481,\n",
              "       0.23839502, 0.22867998, 0.69535162, 0.34109427, 0.57721295,\n",
              "       0.19782651, 0.33509116, 0.99342467, 0.99397342, 0.86251663,\n",
              "       0.50831425, 0.33994163, 0.21520026, 0.53228256, 0.21930383,\n",
              "       0.23980119, 0.04204586, 0.22421952, 0.69954546, 0.16185768,\n",
              "       0.78816656, 0.09190034, 0.40277723, 0.72116144, 0.43026313,\n",
              "       0.60334302, 0.34618657, 0.69975864, 0.35005391, 0.0799653 ,\n",
              "       0.04628539, 0.44669269, 0.30684306, 0.55294725, 0.09208658,\n",
              "       0.09134439, 0.26266518, 0.91147876, 0.23667542, 0.05587746,\n",
              "       0.25314946, 0.99141428, 0.77561035, 0.83038823, 0.08177198,\n",
              "       0.88485657, 0.34263694, 0.94218884, 0.26562114, 0.01602928,\n",
              "       0.48226759, 0.4840334 , 0.45915657, 0.26612958, 0.34303442,\n",
              "       0.25454499, 0.47851953, 0.02652587, 0.28961548, 0.19208855,\n",
              "       0.50986658, 0.42443258, 0.58006922, 0.10599077, 0.01569395,\n",
              "       0.31656615, 0.98450219, 0.05992831, 0.59252406, 0.11113452,\n",
              "       0.23920194, 0.45891339, 0.18654378, 0.0759861 , 0.69262106,\n",
              "       0.96977287, 0.10267816, 0.86137864, 0.07165205, 0.93977983,\n",
              "       0.42933593, 0.8747028 , 0.80550378, 0.81019596, 0.66695533,\n",
              "       0.80658278, 0.5145857 , 0.02586635, 0.21111099, 0.52996789,\n",
              "       0.22470724, 0.37750136, 0.88821003, 0.30893468, 0.32048454,\n",
              "       0.08784679, 0.07086317, 0.0985461 , 0.003471  , 0.2194964 ,\n",
              "       0.31850962, 0.57356386, 0.217009  , 0.45887973, 0.59376104,\n",
              "       0.53036083, 0.57769218, 0.23094381, 0.06391537, 0.6857902 ,\n",
              "       0.85890948, 0.77399523, 0.14852659, 0.27472068, 0.02675361,\n",
              "       0.85169599, 0.27836438, 0.10218852, 0.25120004, 0.64891388,\n",
              "       0.1684347 , 0.5391146 , 0.27678036, 0.7023014 , 0.36468722,\n",
              "       0.84823426, 0.57365314, 0.50021654, 0.97728764, 0.48460788,\n",
              "       0.08609512, 0.54362791, 0.75086756, 0.54234132, 0.54910532,\n",
              "       0.42711771, 0.99694699, 0.2842637 , 0.88925105, 0.03740897,\n",
              "       0.83868569, 0.33513448, 0.46092895, 0.90569915, 0.56272921,\n",
              "       0.64333585, 0.93430817, 0.04004181, 0.91463796, 0.55085096,\n",
              "       0.06950462, 0.86451421, 0.76464141, 0.59278124, 0.83694968,\n",
              "       0.66883325, 0.08094112, 0.99252823, 0.07110711, 0.98229585,\n",
              "       0.12901739, 0.16379196, 0.55597351, 0.37668372, 0.80548435,\n",
              "       0.90041187, 0.93958459, 0.34292393, 0.57931501, 0.76203418,\n",
              "       0.39152445, 0.9834072 , 0.16892287, 0.74729495, 0.05712789,\n",
              "       0.21231968, 0.2829584 , 0.87818837, 0.3160773 , 0.3672321 ,\n",
              "       0.16983331, 0.9583229 , 0.14699451, 0.05459497, 0.68339476,\n",
              "       0.04349716, 0.17635009, 0.69405666, 0.17147841, 0.08561577,\n",
              "       0.51688661, 0.5040065 , 0.57925623, 0.62400405, 0.16741104,\n",
              "       0.02765968, 0.37567038, 0.75898569, 0.30135578, 0.63819323,\n",
              "       0.03807703, 0.95749   , 0.12839044, 0.09027898, 0.97209851,\n",
              "       0.95404179, 0.39256521, 0.39589715, 0.51064002, 0.88964759,\n",
              "       0.25294254, 0.71476629, 0.96139197, 0.59216303, 0.80482688,\n",
              "       0.15991134, 0.74779031, 0.5139123 , 0.29317874, 0.45159897,\n",
              "       0.19645968, 0.86085088, 0.19240139, 0.08962239, 0.30302397,\n",
              "       0.85361008, 0.20967245, 0.57164327, 0.52377934, 0.82758741,\n",
              "       0.04355699, 0.4378009 , 0.84473284, 0.69834561, 0.9516805 ,\n",
              "       0.79538814, 0.50422117, 0.46468573, 0.07193586, 0.30257315,\n",
              "       0.37899714, 0.54112867, 0.07219554, 0.32228757, 0.86893332,\n",
              "       0.71737268, 0.94336575, 0.62169399, 0.50309799, 0.94545885,\n",
              "       0.41028895, 0.15681607, 0.79905531, 0.93173408, 0.79454509,\n",
              "       0.49064739, 0.23726693, 0.76556686, 0.45630167, 0.85633257,\n",
              "       0.38899387, 0.69369979, 0.04712273, 0.82522456, 0.18654431,\n",
              "       0.44338887, 0.24243983, 0.13643573, 0.13571977, 0.90776738,\n",
              "       0.20467238, 0.60690549, 0.71540862, 0.10183089, 0.64604678,\n",
              "       0.80570662, 0.84234773, 0.58107124, 0.16202957, 0.10551793,\n",
              "       0.27285634, 0.03481159, 0.66034632, 0.51563353, 0.86005708,\n",
              "       0.92061041, 0.04637654, 0.845755  , 0.64570221, 0.60025483,\n",
              "       0.52493465, 0.15634847, 0.94175399, 0.02849428, 0.88119259,\n",
              "       0.73508465, 0.19831018, 0.60937242, 0.93132503, 0.93263286,\n",
              "       0.13207355, 0.65944594, 0.95327249, 0.22329447, 0.84405216,\n",
              "       0.22826147, 0.91157171, 0.78278347, 0.15271882, 0.67635024,\n",
              "       0.20832997, 0.78770864, 0.00188589, 0.96033843, 0.50776822,\n",
              "       0.47654097, 0.46565719, 0.94126602, 0.90121602, 0.21694777,\n",
              "       0.17427248, 0.89386674, 0.71349498, 0.9905474 , 0.07282966,\n",
              "       0.4179307 , 0.27377801, 0.81865993, 0.01334262, 0.92726726,\n",
              "       0.39178547, 0.92893468, 0.29792623, 0.0198167 , 0.95729396,\n",
              "       0.92419654, 0.99299677, 0.45177563, 0.57894538, 0.67732262,\n",
              "       0.48061236, 0.49107085, 0.49311844, 0.04278743, 0.52475252,\n",
              "       0.64942116, 0.23030331, 0.8529427 , 0.81629454, 0.01362865,\n",
              "       0.21076232, 0.07415242, 0.03463469, 0.89418968, 0.60412344,\n",
              "       0.07233421, 0.76621805, 0.90797356, 0.92050697, 0.03906506])"
            ]
          },
          "metadata": {},
          "execution_count": 37
        }
      ]
    },
    {
      "cell_type": "code",
      "source": [
        "np.where(tuned_probas > 0.5, 1, 0)"
      ],
      "metadata": {
        "colab": {
          "base_uri": "https://localhost:8080/"
        },
        "id": "5lChuKVTDsY2",
        "outputId": "df7020f3-9e58-4bb7-a931-a5315fba0fda"
      },
      "execution_count": null,
      "outputs": [
        {
          "output_type": "execute_result",
          "data": {
            "text/plain": [
              "array([1, 1, 1, 0, 1, 1, 0, 1, 1, 0, 1, 1, 1, 0, 1, 0, 0, 0, 1, 1, 0, 1,\n",
              "       0, 1, 0, 0, 0, 0, 1, 1, 0, 1, 0, 0, 1, 0, 1, 1, 0, 1, 0, 0, 1, 0,\n",
              "       1, 0, 0, 1, 1, 1, 1, 0, 0, 1, 0, 0, 0, 0, 1, 0, 1, 0, 0, 1, 0, 1,\n",
              "       0, 1, 0, 0, 0, 0, 0, 1, 0, 0, 0, 1, 0, 0, 0, 1, 1, 1, 0, 1, 0, 1,\n",
              "       0, 0, 0, 0, 0, 0, 0, 0, 0, 0, 0, 0, 1, 0, 1, 0, 0, 0, 1, 0, 1, 0,\n",
              "       0, 0, 0, 0, 1, 1, 0, 1, 0, 1, 0, 1, 1, 1, 1, 1, 1, 0, 0, 1, 0, 0,\n",
              "       1, 0, 0, 0, 0, 0, 0, 0, 0, 1, 0, 0, 1, 1, 1, 0, 0, 1, 1, 1, 0, 0,\n",
              "       0, 1, 0, 0, 0, 1, 0, 1, 0, 1, 0, 1, 1, 1, 1, 0, 0, 1, 1, 1, 1, 0,\n",
              "       1, 0, 1, 0, 1, 0, 0, 1, 1, 1, 1, 0, 1, 1, 0, 1, 1, 1, 1, 1, 0, 1,\n",
              "       0, 1, 0, 0, 1, 0, 1, 1, 1, 0, 1, 1, 0, 1, 0, 1, 0, 0, 0, 1, 0, 0,\n",
              "       0, 1, 0, 0, 1, 0, 0, 1, 0, 0, 1, 1, 1, 1, 0, 0, 0, 1, 0, 1, 0, 1,\n",
              "       0, 0, 1, 1, 0, 0, 1, 1, 0, 1, 1, 1, 1, 0, 1, 1, 0, 0, 0, 1, 0, 0,\n",
              "       0, 1, 0, 1, 1, 1, 0, 0, 1, 1, 1, 1, 1, 0, 0, 0, 0, 1, 0, 0, 1, 1,\n",
              "       1, 1, 1, 1, 0, 0, 1, 1, 1, 0, 0, 1, 0, 1, 0, 1, 0, 1, 0, 0, 0, 0,\n",
              "       0, 1, 0, 1, 1, 0, 1, 1, 1, 1, 0, 0, 0, 0, 1, 1, 1, 1, 0, 1, 1, 1,\n",
              "       1, 0, 1, 0, 1, 1, 0, 1, 1, 1, 0, 1, 1, 0, 1, 0, 1, 1, 0, 1, 0, 1,\n",
              "       0, 1, 1, 0, 0, 1, 1, 0, 0, 1, 1, 1, 0, 0, 0, 1, 0, 1, 0, 1, 0, 0,\n",
              "       1, 1, 1, 0, 1, 1, 0, 0, 0, 0, 1, 1, 0, 1, 1, 0, 0, 0, 0, 1, 1, 0,\n",
              "       1, 1, 1, 0])"
            ]
          },
          "metadata": {},
          "execution_count": 38
        }
      ]
    },
    {
      "cell_type": "code",
      "source": [],
      "metadata": {
        "id": "Z_YG-dzvDsW2"
      },
      "execution_count": null,
      "outputs": []
    },
    {
      "cell_type": "code",
      "source": [],
      "metadata": {
        "id": "e0bFXSTPDsUd"
      },
      "execution_count": null,
      "outputs": []
    }
  ]
}