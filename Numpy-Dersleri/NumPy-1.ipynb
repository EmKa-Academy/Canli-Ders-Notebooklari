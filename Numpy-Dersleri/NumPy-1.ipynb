{
  "nbformat": 4,
  "nbformat_minor": 0,
  "metadata": {
    "colab": {
      "provenance": []
    },
    "kernelspec": {
      "name": "python3",
      "display_name": "Python 3"
    },
    "language_info": {
      "name": "python"
    }
  },
  "cells": [
    {
      "cell_type": "markdown",
      "source": [
        "# NumPy Nedir ?"
      ],
      "metadata": {
        "id": "Ls8pi_K1iqOz"
      }
    },
    {
      "cell_type": "code",
      "execution_count": 2,
      "metadata": {
        "id": "Bc9Sjhr3h1ru"
      },
      "outputs": [],
      "source": [
        "# NumPy açık kaynaklı kodlu ücretsiz ve özgür bir Python kütüphanesidir.\n",
        "# NumPy --> Numerical Python anlamına gelir. Sayılarla daha hızlı matematik işlemler yapmamızı sağlar\n",
        "# NumPy kütüphanesinin en temel elemanı array(dizi)'dir.\n",
        "# Arrayleri Python dizilerinin çok boyutlu olanı gibi düşünebilirsiniz.\n",
        "# Arrayler Listelerden yaklaşık 50 kat daha hızlı çalışır.\n",
        "# NumPy arraylerinin hızlı çalışmasının sebebi bu kütüphanenin çok büyük oranda C ve C++ ile yazılmış olması."
      ]
    },
    {
      "cell_type": "markdown",
      "source": [
        "# NumPy Yüklenmesi"
      ],
      "metadata": {
        "id": "dFe2TT9JjzCc"
      }
    },
    {
      "cell_type": "code",
      "source": [
        "# !pip install numpy"
      ],
      "metadata": {
        "colab": {
          "base_uri": "https://localhost:8080/"
        },
        "id": "np6iSq2xirWy",
        "outputId": "b2f5257d-c57d-4e9a-afea-e98dda7dc737"
      },
      "execution_count": 3,
      "outputs": [
        {
          "output_type": "stream",
          "name": "stdout",
          "text": [
            "Looking in indexes: https://pypi.org/simple, https://us-python.pkg.dev/colab-wheels/public/simple/\n",
            "Requirement already satisfied: numpy in /usr/local/lib/python3.9/dist-packages (1.22.4)\n"
          ]
        }
      ]
    },
    {
      "cell_type": "markdown",
      "source": [
        "# NumPy'ı projeye dahil etme"
      ],
      "metadata": {
        "id": "rL2ikjyBkA3a"
      }
    },
    {
      "cell_type": "code",
      "source": [
        "# import numpy\n",
        "import numpy as np"
      ],
      "metadata": {
        "id": "KbkDzCMTj9u2"
      },
      "execution_count": 4,
      "outputs": []
    },
    {
      "cell_type": "markdown",
      "source": [
        "# NumPy array'leri oluşturma"
      ],
      "metadata": {
        "id": "jcK6uuY6kXoK"
      }
    },
    {
      "cell_type": "code",
      "source": [
        "# Arrayler çok boyutlu diziler gibi düşünebilir.\n",
        "# Arraylerin boyutları(dimension) vardır. 0d , 1d , 2d ,3d ,4d ....\n",
        "\n",
        "# Arrayleri oluşturmanın 3 farklı yolu vardır.\n",
        "# 1) Liste ya da tuple benzeri nesneleri array'e döndürebiliriz.                 np.array([1,2,3])\n",
        "# 2) Built-in hazır fonksiyonlar yardımıyla arrayler oluşturabiliriz.            np.arange() , np.linspace() , np.logspace() vb.\n",
        "# 3) Rastgele data üreterek                                                      np.random modülünün içindeki fonksiyonlar yardımıyla."
      ],
      "metadata": {
        "id": "yMrY-ttzkXIj"
      },
      "execution_count": null,
      "outputs": []
    },
    {
      "cell_type": "code",
      "source": [
        "arr0d = np.array(53)\n",
        "arr0d"
      ],
      "metadata": {
        "colab": {
          "base_uri": "https://localhost:8080/"
        },
        "id": "8wmGr04Kl_Ai",
        "outputId": "5445ac4a-6a19-47d9-9f3e-98a1a1bf2697"
      },
      "execution_count": 7,
      "outputs": [
        {
          "output_type": "execute_result",
          "data": {
            "text/plain": [
              "array(53)"
            ]
          },
          "metadata": {},
          "execution_count": 7
        }
      ]
    },
    {
      "cell_type": "code",
      "source": [
        "arr1d = np.array([1,2,3,4])\n",
        "arr1d"
      ],
      "metadata": {
        "colab": {
          "base_uri": "https://localhost:8080/"
        },
        "id": "gCF--EanmCGI",
        "outputId": "1afce10c-3003-4529-d982-2887713ac82a"
      },
      "execution_count": 8,
      "outputs": [
        {
          "output_type": "execute_result",
          "data": {
            "text/plain": [
              "array([1, 2, 3, 4])"
            ]
          },
          "metadata": {},
          "execution_count": 8
        }
      ]
    },
    {
      "cell_type": "code",
      "source": [
        "arr2d = np.array([[1,2,3] , [4,5,6]])\n",
        "arr2d"
      ],
      "metadata": {
        "colab": {
          "base_uri": "https://localhost:8080/"
        },
        "id": "FkRNMivqmWJR",
        "outputId": "ddac55b0-ccc9-4f00-f158-31bd9d753a5a"
      },
      "execution_count": 9,
      "outputs": [
        {
          "output_type": "execute_result",
          "data": {
            "text/plain": [
              "array([[1, 2, 3],\n",
              "       [4, 5, 6]])"
            ]
          },
          "metadata": {},
          "execution_count": 9
        }
      ]
    },
    {
      "cell_type": "code",
      "source": [
        "arr3d = np.array([[[1,2,3] , [4,5,6]] , [[7,8,9] , [100,200,300]]])\n",
        "arr3d"
      ],
      "metadata": {
        "colab": {
          "base_uri": "https://localhost:8080/"
        },
        "id": "8wPvbAM9mwNh",
        "outputId": "b9a78660-1d85-459a-e670-afbae2abb21d"
      },
      "execution_count": 11,
      "outputs": [
        {
          "output_type": "execute_result",
          "data": {
            "text/plain": [
              "array([[[  1,   2,   3],\n",
              "        [  4,   5,   6]],\n",
              "\n",
              "       [[  7,   8,   9],\n",
              "        [100, 200, 300]]])"
            ]
          },
          "metadata": {},
          "execution_count": 11
        }
      ]
    },
    {
      "cell_type": "code",
      "source": [
        "# Soru : İstediğiniz elemanlardan oluşan 2d bir array oluşturun"
      ],
      "metadata": {
        "id": "ToMmJJa0muBx"
      },
      "execution_count": 15,
      "outputs": []
    },
    {
      "cell_type": "markdown",
      "source": [
        "# Built-in Functionlarla Hızlıca NumPy Arrayleri Oluşturma"
      ],
      "metadata": {
        "id": "XG0NrOmTofOR"
      }
    },
    {
      "cell_type": "code",
      "source": [
        "# np.arange() fonksiyonu ile hızlıca arrayler oluşturabiliriz. İstediğimiz sayı aralığında ardışık artan arrayler oluştururuz.\n",
        "# Kullanımı aynen range() gibi. Start point dahil, End point dahil değil.\n",
        "# Gene aynı range() fonksiyonunda olduğu gibi (start-stop-step parametrelerini alır.)"
      ],
      "metadata": {
        "id": "JgBHLIxgnKNZ"
      },
      "execution_count": null,
      "outputs": []
    },
    {
      "cell_type": "code",
      "source": [
        "np.array([1,2,3,4,5,6,7,8,9])"
      ],
      "metadata": {
        "colab": {
          "base_uri": "https://localhost:8080/"
        },
        "id": "KIr_sIyIo5-D",
        "outputId": "9b44213a-f7ee-46a9-dbef-53bb6b03ba93"
      },
      "execution_count": 18,
      "outputs": [
        {
          "output_type": "execute_result",
          "data": {
            "text/plain": [
              "array([1, 2, 3, 4, 5, 6, 7, 8, 9])"
            ]
          },
          "metadata": {},
          "execution_count": 18
        }
      ]
    },
    {
      "cell_type": "code",
      "source": [
        "np.arange(1,10)"
      ],
      "metadata": {
        "colab": {
          "base_uri": "https://localhost:8080/"
        },
        "id": "pPIGG0BlpEJ6",
        "outputId": "b6bcd086-eb16-43a7-f004-9c9a4ade6b5e"
      },
      "execution_count": 19,
      "outputs": [
        {
          "output_type": "execute_result",
          "data": {
            "text/plain": [
              "array([1, 2, 3, 4, 5, 6, 7, 8, 9])"
            ]
          },
          "metadata": {},
          "execution_count": 19
        }
      ]
    },
    {
      "cell_type": "code",
      "source": [
        "np.arange(30,101,2)"
      ],
      "metadata": {
        "colab": {
          "base_uri": "https://localhost:8080/"
        },
        "id": "qAe6D0s_pglQ",
        "outputId": "cb3494c4-ee32-423f-81e0-181df5779232"
      },
      "execution_count": 21,
      "outputs": [
        {
          "output_type": "execute_result",
          "data": {
            "text/plain": [
              "array([ 30,  32,  34,  36,  38,  40,  42,  44,  46,  48,  50,  52,  54,\n",
              "        56,  58,  60,  62,  64,  66,  68,  70,  72,  74,  76,  78,  80,\n",
              "        82,  84,  86,  88,  90,  92,  94,  96,  98, 100])"
            ]
          },
          "metadata": {},
          "execution_count": 21
        }
      ]
    },
    {
      "cell_type": "code",
      "source": [
        "# np.linspace() fonksiyonuyla da hızlıca arrayler oluşturulabilir."
      ],
      "metadata": {
        "id": "JBF9WFEvpdku"
      },
      "execution_count": null,
      "outputs": []
    },
    {
      "cell_type": "code",
      "source": [
        "np.linspace(30,50,6 , dtype=int) # Endpoint bunda dahil."
      ],
      "metadata": {
        "colab": {
          "base_uri": "https://localhost:8080/"
        },
        "id": "QKMFxy4mpwE7",
        "outputId": "8ec226d9-68fc-4e42-adc6-a65f48e23da5"
      },
      "execution_count": 26,
      "outputs": [
        {
          "output_type": "execute_result",
          "data": {
            "text/plain": [
              "array([30, 34, 38, 42, 46, 50])"
            ]
          },
          "metadata": {},
          "execution_count": 26
        }
      ]
    },
    {
      "cell_type": "code",
      "source": [
        "np.logspace(1,3 , 5) # 10**1 ile 10**3 arasında logaritmik artış yapan 5 tane veriden oluşan bir array oluştur."
      ],
      "metadata": {
        "colab": {
          "base_uri": "https://localhost:8080/"
        },
        "id": "IlxOcHcDp0IJ",
        "outputId": "834d39fc-9345-4254-d93b-42d8cdb3451c"
      },
      "execution_count": 25,
      "outputs": [
        {
          "output_type": "execute_result",
          "data": {
            "text/plain": [
              "array([  10.        ,   31.6227766 ,  100.        ,  316.22776602,\n",
              "       1000.        ])"
            ]
          },
          "metadata": {},
          "execution_count": 25
        }
      ]
    },
    {
      "cell_type": "code",
      "source": [
        "# Soru : 10,15,20,25....100 şeklindeki arrayi oluşturunuz."
      ],
      "metadata": {
        "id": "_fr7Eak2qFl4"
      },
      "execution_count": null,
      "outputs": []
    },
    {
      "cell_type": "code",
      "source": [
        "np.arange(10,101,5)"
      ],
      "metadata": {
        "colab": {
          "base_uri": "https://localhost:8080/"
        },
        "id": "1tsNK91Mq0P_",
        "outputId": "c29453b8-90d6-4bce-85ca-ef0745e76255"
      },
      "execution_count": 27,
      "outputs": [
        {
          "output_type": "execute_result",
          "data": {
            "text/plain": [
              "array([ 10,  15,  20,  25,  30,  35,  40,  45,  50,  55,  60,  65,  70,\n",
              "        75,  80,  85,  90,  95, 100])"
            ]
          },
          "metadata": {},
          "execution_count": 27
        }
      ]
    },
    {
      "cell_type": "code",
      "source": [
        "# Soru : 0-1000 arasında eşit aralıklarla ilerleyen 26 tane sayı oluşturun."
      ],
      "metadata": {
        "id": "euoYlFF7q0Su"
      },
      "execution_count": null,
      "outputs": []
    },
    {
      "cell_type": "code",
      "source": [
        "np.linspace(0,1000,26)"
      ],
      "metadata": {
        "colab": {
          "base_uri": "https://localhost:8080/"
        },
        "id": "3irhHyL7q0VK",
        "outputId": "796fb102-1f89-4b11-daf2-811ce50864d0"
      },
      "execution_count": 28,
      "outputs": [
        {
          "output_type": "execute_result",
          "data": {
            "text/plain": [
              "array([   0.,   40.,   80.,  120.,  160.,  200.,  240.,  280.,  320.,\n",
              "        360.,  400.,  440.,  480.,  520.,  560.,  600.,  640.,  680.,\n",
              "        720.,  760.,  800.,  840.,  880.,  920.,  960., 1000.])"
            ]
          },
          "metadata": {},
          "execution_count": 28
        }
      ]
    },
    {
      "cell_type": "code",
      "source": [
        "np.zeros(5 , dtype= 'int')"
      ],
      "metadata": {
        "colab": {
          "base_uri": "https://localhost:8080/"
        },
        "id": "5pUhQz8yq0Xm",
        "outputId": "1ea4fb65-0f96-43cd-ae3a-16c2234ed2be"
      },
      "execution_count": 30,
      "outputs": [
        {
          "output_type": "execute_result",
          "data": {
            "text/plain": [
              "array([0, 0, 0, 0, 0])"
            ]
          },
          "metadata": {},
          "execution_count": 30
        }
      ]
    },
    {
      "cell_type": "code",
      "source": [
        "np.zeros((2,3) , dtype= int)"
      ],
      "metadata": {
        "colab": {
          "base_uri": "https://localhost:8080/"
        },
        "id": "dhePJ9bBq0Z6",
        "outputId": "7a68cb95-cb63-4af9-e687-9f31b1b05f1b"
      },
      "execution_count": 32,
      "outputs": [
        {
          "output_type": "execute_result",
          "data": {
            "text/plain": [
              "array([[0, 0, 0],\n",
              "       [0, 0, 0]])"
            ]
          },
          "metadata": {},
          "execution_count": 32
        }
      ]
    },
    {
      "cell_type": "code",
      "source": [
        "np.ones(10 , dtype = int)"
      ],
      "metadata": {
        "colab": {
          "base_uri": "https://localhost:8080/"
        },
        "id": "XiOg50mNsQyx",
        "outputId": "cdc0e5c5-bf3e-4ba8-d084-67741a590f79"
      },
      "execution_count": 34,
      "outputs": [
        {
          "output_type": "execute_result",
          "data": {
            "text/plain": [
              "array([1, 1, 1, 1, 1, 1, 1, 1, 1, 1])"
            ]
          },
          "metadata": {},
          "execution_count": 34
        }
      ]
    },
    {
      "cell_type": "code",
      "source": [
        "np.ones((3,5) , dtype = int)"
      ],
      "metadata": {
        "colab": {
          "base_uri": "https://localhost:8080/"
        },
        "id": "54JFAqkKwL23",
        "outputId": "a7f40b5f-52a0-47d5-cc1e-d5d4617225f9"
      },
      "execution_count": 35,
      "outputs": [
        {
          "output_type": "execute_result",
          "data": {
            "text/plain": [
              "array([[1, 1, 1, 1, 1],\n",
              "       [1, 1, 1, 1, 1],\n",
              "       [1, 1, 1, 1, 1]])"
            ]
          },
          "metadata": {},
          "execution_count": 35
        }
      ]
    },
    {
      "cell_type": "code",
      "source": [
        "np.ones((2,3,5) , dtype = int)"
      ],
      "metadata": {
        "colab": {
          "base_uri": "https://localhost:8080/"
        },
        "id": "SZgyoAv_wTe3",
        "outputId": "6473b89c-ceb7-405b-a875-54caa6b9b282"
      },
      "execution_count": 36,
      "outputs": [
        {
          "output_type": "execute_result",
          "data": {
            "text/plain": [
              "array([[[1, 1, 1, 1, 1],\n",
              "        [1, 1, 1, 1, 1],\n",
              "        [1, 1, 1, 1, 1]],\n",
              "\n",
              "       [[1, 1, 1, 1, 1],\n",
              "        [1, 1, 1, 1, 1],\n",
              "        [1, 1, 1, 1, 1]]])"
            ]
          },
          "metadata": {},
          "execution_count": 36
        }
      ]
    },
    {
      "cell_type": "code",
      "source": [
        "np.eye(5 , dtype = 'int') # 5x5 birim matris"
      ],
      "metadata": {
        "colab": {
          "base_uri": "https://localhost:8080/"
        },
        "id": "rbfJS9BFwc9I",
        "outputId": "5bd83fec-443d-4704-e895-fff7d2ade852"
      },
      "execution_count": 38,
      "outputs": [
        {
          "output_type": "execute_result",
          "data": {
            "text/plain": [
              "array([[1, 0, 0, 0, 0],\n",
              "       [0, 1, 0, 0, 0],\n",
              "       [0, 0, 1, 0, 0],\n",
              "       [0, 0, 0, 1, 0],\n",
              "       [0, 0, 0, 0, 1]])"
            ]
          },
          "metadata": {},
          "execution_count": 38
        }
      ]
    },
    {
      "cell_type": "code",
      "source": [
        "# Soru : Sadece 0 değerlerinden oluşan (2,6) formatında array oluşturun."
      ],
      "metadata": {
        "id": "Uvy50oojwr5V"
      },
      "execution_count": null,
      "outputs": []
    },
    {
      "cell_type": "code",
      "source": [
        "np.zeros((2,6) , dtype = int)"
      ],
      "metadata": {
        "colab": {
          "base_uri": "https://localhost:8080/"
        },
        "id": "UtRmAzhQxL9J",
        "outputId": "e17cfc3b-d558-43ce-cf0a-be561c775c8f"
      },
      "execution_count": 39,
      "outputs": [
        {
          "output_type": "execute_result",
          "data": {
            "text/plain": [
              "array([[0, 0, 0, 0, 0, 0],\n",
              "       [0, 0, 0, 0, 0, 0]])"
            ]
          },
          "metadata": {},
          "execution_count": 39
        }
      ]
    },
    {
      "cell_type": "code",
      "source": [
        "# np.random modülünü kullanarak rastgele verilerle arrayler oluşturmak"
      ],
      "metadata": {
        "id": "FEkNgXM6xPR3"
      },
      "execution_count": 40,
      "outputs": []
    },
    {
      "cell_type": "code",
      "source": [
        "np.random.rand(3) # 3 tane 0-1 aralığında değerden oluşan bir array oluşturur."
      ],
      "metadata": {
        "colab": {
          "base_uri": "https://localhost:8080/"
        },
        "id": "5hzMHFZ6xVgH",
        "outputId": "ac2304d6-0453-4587-bdb5-741471b9d86c"
      },
      "execution_count": 41,
      "outputs": [
        {
          "output_type": "execute_result",
          "data": {
            "text/plain": [
              "array([0.34925949, 0.80368685, 0.79119433])"
            ]
          },
          "metadata": {},
          "execution_count": 41
        }
      ]
    },
    {
      "cell_type": "code",
      "source": [
        "np.random.rand(2,5)"
      ],
      "metadata": {
        "colab": {
          "base_uri": "https://localhost:8080/"
        },
        "id": "imaYfWKUxtX1",
        "outputId": "9a6b7612-a6d6-4145-c7ed-7f4666c1c0af"
      },
      "execution_count": 45,
      "outputs": [
        {
          "output_type": "execute_result",
          "data": {
            "text/plain": [
              "array([[0.73712704, 0.85467983, 0.55584668, 0.18983823, 0.08293358],\n",
              "       [0.76572522, 0.28385987, 0.48880215, 0.97040128, 0.90842668]])"
            ]
          },
          "metadata": {},
          "execution_count": 45
        }
      ]
    },
    {
      "cell_type": "code",
      "source": [
        "np.random.rand(3) * 10 # 3 tane 0-10 aralığında değerden oluşan bir array oluşturdu."
      ],
      "metadata": {
        "colab": {
          "base_uri": "https://localhost:8080/"
        },
        "id": "fpAZn4Ptx7Kl",
        "outputId": "0eb9bd5b-1e81-4abd-af9f-8394b45686fc"
      },
      "execution_count": 47,
      "outputs": [
        {
          "output_type": "execute_result",
          "data": {
            "text/plain": [
              "array([9.18557463, 3.6752947 , 5.00442262])"
            ]
          },
          "metadata": {},
          "execution_count": 47
        }
      ]
    },
    {
      "cell_type": "code",
      "source": [
        "np.random.randint(15,50,5)"
      ],
      "metadata": {
        "colab": {
          "base_uri": "https://localhost:8080/"
        },
        "id": "gKXGGr8AyNGI",
        "outputId": "82064c56-4d7a-46f4-97b2-bd8665505dac"
      },
      "execution_count": 48,
      "outputs": [
        {
          "output_type": "execute_result",
          "data": {
            "text/plain": [
              "array([33, 20, 31, 40, 26])"
            ]
          },
          "metadata": {},
          "execution_count": 48
        }
      ]
    },
    {
      "cell_type": "code",
      "source": [
        "np.random.randint(0,100, (3,6))"
      ],
      "metadata": {
        "colab": {
          "base_uri": "https://localhost:8080/"
        },
        "id": "a1Qt6_c6yhiY",
        "outputId": "65eba11b-216f-43b8-eb2e-34bd99557a22"
      },
      "execution_count": 49,
      "outputs": [
        {
          "output_type": "execute_result",
          "data": {
            "text/plain": [
              "array([[70, 88, 21, 68, 12, 62],\n",
              "       [36, 92, 38, 63, 17, 11],\n",
              "       [27, 34, 67, 18, 33, 23]])"
            ]
          },
          "metadata": {},
          "execution_count": 49
        }
      ]
    },
    {
      "cell_type": "code",
      "source": [
        "# Soru : 0-50 arasında rastgele tam sayılardan oluşan 4-6 formatında 24 tane tam sayıdan oluşan bir array oluşturun."
      ],
      "metadata": {
        "id": "lniI7QjKyxm3"
      },
      "execution_count": null,
      "outputs": []
    },
    {
      "cell_type": "code",
      "source": [
        "np.random.randint(0,50, (4,6))"
      ],
      "metadata": {
        "colab": {
          "base_uri": "https://localhost:8080/"
        },
        "id": "WIObAENTzSs3",
        "outputId": "f955f12e-4f08-42bc-8306-9fead6527b55"
      },
      "execution_count": 50,
      "outputs": [
        {
          "output_type": "execute_result",
          "data": {
            "text/plain": [
              "array([[ 0, 26,  5, 43, 29,  0],\n",
              "       [13, 18, 17, 36, 17, 22],\n",
              "       [34, 17, 47, 40, 32, 30],\n",
              "       [ 5, 18,  7, 31, 49, 34]])"
            ]
          },
          "metadata": {},
          "execution_count": 50
        }
      ]
    },
    {
      "cell_type": "markdown",
      "source": [
        "# Arrayin Boyut Sayısını ve Shape'ini Kontrol Etmek"
      ],
      "metadata": {
        "id": "fqTy8LGSzY6x"
      }
    },
    {
      "cell_type": "code",
      "source": [
        "arr0d"
      ],
      "metadata": {
        "colab": {
          "base_uri": "https://localhost:8080/"
        },
        "id": "7U3713XmzW9v",
        "outputId": "b2fd109a-5ed8-4205-a451-671cb9e5c78b"
      },
      "execution_count": 51,
      "outputs": [
        {
          "output_type": "execute_result",
          "data": {
            "text/plain": [
              "array(53)"
            ]
          },
          "metadata": {},
          "execution_count": 51
        }
      ]
    },
    {
      "cell_type": "code",
      "source": [
        "arr1d"
      ],
      "metadata": {
        "colab": {
          "base_uri": "https://localhost:8080/"
        },
        "id": "og3hst38zmgX",
        "outputId": "778fd517-a5a1-4a9d-b057-8f9b64b21068"
      },
      "execution_count": 52,
      "outputs": [
        {
          "output_type": "execute_result",
          "data": {
            "text/plain": [
              "array([1, 2, 3, 4])"
            ]
          },
          "metadata": {},
          "execution_count": 52
        }
      ]
    },
    {
      "cell_type": "code",
      "source": [
        "arr2d"
      ],
      "metadata": {
        "colab": {
          "base_uri": "https://localhost:8080/"
        },
        "id": "Ku2kXfMNznqm",
        "outputId": "03f2683c-110b-49b6-8dfa-03c07b03122e"
      },
      "execution_count": 53,
      "outputs": [
        {
          "output_type": "execute_result",
          "data": {
            "text/plain": [
              "array([[  1,   2,   3],\n",
              "       [  4,   5,   6],\n",
              "       [100, 200, 300],\n",
              "       [ 50,  60,  80],\n",
              "       [ 10,  20,  25]])"
            ]
          },
          "metadata": {},
          "execution_count": 53
        }
      ]
    },
    {
      "cell_type": "code",
      "source": [
        "arr3d"
      ],
      "metadata": {
        "colab": {
          "base_uri": "https://localhost:8080/"
        },
        "id": "fQP7uNBDzozA",
        "outputId": "a00e7e6c-8d80-43ec-c53b-1d54949e434b"
      },
      "execution_count": 54,
      "outputs": [
        {
          "output_type": "execute_result",
          "data": {
            "text/plain": [
              "array([[[  1,   2,   3],\n",
              "        [  4,   5,   6]],\n",
              "\n",
              "       [[  7,   8,   9],\n",
              "        [100, 200, 300]]])"
            ]
          },
          "metadata": {},
          "execution_count": 54
        }
      ]
    },
    {
      "cell_type": "code",
      "source": [
        "# .ndim attribute'ı ile arrayimizin kaç boyutlu olduğuna bakabiliriz."
      ],
      "metadata": {
        "id": "lsTk6cjjzpr_"
      },
      "execution_count": null,
      "outputs": []
    },
    {
      "cell_type": "code",
      "source": [
        "arr0d.ndim"
      ],
      "metadata": {
        "colab": {
          "base_uri": "https://localhost:8080/"
        },
        "id": "yqJ6Isfhz3OF",
        "outputId": "a91af0f0-7501-41fd-bcce-3aa1695ba6fa"
      },
      "execution_count": 55,
      "outputs": [
        {
          "output_type": "execute_result",
          "data": {
            "text/plain": [
              "0"
            ]
          },
          "metadata": {},
          "execution_count": 55
        }
      ]
    },
    {
      "cell_type": "code",
      "source": [
        "arr1d.ndim"
      ],
      "metadata": {
        "colab": {
          "base_uri": "https://localhost:8080/"
        },
        "id": "oDGqxfECz4FX",
        "outputId": "2723e172-e08f-412e-978b-fd718ce069dc"
      },
      "execution_count": 56,
      "outputs": [
        {
          "output_type": "execute_result",
          "data": {
            "text/plain": [
              "1"
            ]
          },
          "metadata": {},
          "execution_count": 56
        }
      ]
    },
    {
      "cell_type": "code",
      "source": [
        "arr2d.ndim"
      ],
      "metadata": {
        "colab": {
          "base_uri": "https://localhost:8080/"
        },
        "id": "3CRSp5ibz5Hv",
        "outputId": "4fbeeba2-cd49-4aee-8a9a-3a5574d92fde"
      },
      "execution_count": 57,
      "outputs": [
        {
          "output_type": "execute_result",
          "data": {
            "text/plain": [
              "2"
            ]
          },
          "metadata": {},
          "execution_count": 57
        }
      ]
    },
    {
      "cell_type": "code",
      "source": [
        "arr3d.ndim"
      ],
      "metadata": {
        "colab": {
          "base_uri": "https://localhost:8080/"
        },
        "id": "yDhoS2fFz6LH",
        "outputId": "53bf2417-d246-4131-a89f-16c26c85711e"
      },
      "execution_count": 58,
      "outputs": [
        {
          "output_type": "execute_result",
          "data": {
            "text/plain": [
              "3"
            ]
          },
          "metadata": {},
          "execution_count": 58
        }
      ]
    },
    {
      "cell_type": "code",
      "source": [
        "arr2d"
      ],
      "metadata": {
        "colab": {
          "base_uri": "https://localhost:8080/"
        },
        "id": "0x6s3w6Bz6__",
        "outputId": "c4ca18f7-8324-46f1-a5a3-81bbe7391f58"
      },
      "execution_count": 60,
      "outputs": [
        {
          "output_type": "execute_result",
          "data": {
            "text/plain": [
              "array([[  1,   2,   3],\n",
              "       [  4,   5,   6],\n",
              "       [100, 200, 300],\n",
              "       [ 50,  60,  80],\n",
              "       [ 10,  20,  25]])"
            ]
          },
          "metadata": {},
          "execution_count": 60
        }
      ]
    },
    {
      "cell_type": "code",
      "source": [
        "# .shape attribute'ı ile arrayin shapeine bakılabilir"
      ],
      "metadata": {
        "id": "-D7AmsOBz_Mn"
      },
      "execution_count": 61,
      "outputs": []
    },
    {
      "cell_type": "code",
      "source": [
        "arr2d.shape"
      ],
      "metadata": {
        "colab": {
          "base_uri": "https://localhost:8080/"
        },
        "id": "LdI07YQz0OYQ",
        "outputId": "4c1033ca-ce87-48b4-fe74-be7aee4f7c46"
      },
      "execution_count": 62,
      "outputs": [
        {
          "output_type": "execute_result",
          "data": {
            "text/plain": [
              "(5, 3)"
            ]
          },
          "metadata": {},
          "execution_count": 62
        }
      ]
    },
    {
      "cell_type": "code",
      "source": [
        "arr3d"
      ],
      "metadata": {
        "colab": {
          "base_uri": "https://localhost:8080/"
        },
        "id": "YX6ewnl90PBv",
        "outputId": "17a78a59-8f63-4275-a165-b5cc1ac51775"
      },
      "execution_count": 63,
      "outputs": [
        {
          "output_type": "execute_result",
          "data": {
            "text/plain": [
              "array([[[  1,   2,   3],\n",
              "        [  4,   5,   6]],\n",
              "\n",
              "       [[  7,   8,   9],\n",
              "        [100, 200, 300]]])"
            ]
          },
          "metadata": {},
          "execution_count": 63
        }
      ]
    },
    {
      "cell_type": "code",
      "source": [
        "arr3d.shape"
      ],
      "metadata": {
        "colab": {
          "base_uri": "https://localhost:8080/"
        },
        "id": "0TlpAAV_0SG3",
        "outputId": "e48f44a2-3d95-4f41-9ea7-5cbf220928f1"
      },
      "execution_count": 64,
      "outputs": [
        {
          "output_type": "execute_result",
          "data": {
            "text/plain": [
              "(2, 2, 3)"
            ]
          },
          "metadata": {},
          "execution_count": 64
        }
      ]
    },
    {
      "cell_type": "markdown",
      "source": [
        "# NumPy Arraylerini İndeksleme ve Öğelerime Erişme"
      ],
      "metadata": {
        "id": "SLMOiTOm0ltr"
      }
    },
    {
      "cell_type": "code",
      "source": [
        "arr1d # 1 boyutlu arrayler aynı listeler gibi düşünülebilir."
      ],
      "metadata": {
        "colab": {
          "base_uri": "https://localhost:8080/"
        },
        "id": "PGj6-Vfq0Y2v",
        "outputId": "fc674cd8-fd08-421a-a46e-3aeeb3d4c118"
      },
      "execution_count": 65,
      "outputs": [
        {
          "output_type": "execute_result",
          "data": {
            "text/plain": [
              "array([1, 2, 3, 4])"
            ]
          },
          "metadata": {},
          "execution_count": 65
        }
      ]
    },
    {
      "cell_type": "code",
      "source": [
        "arr1d[3]"
      ],
      "metadata": {
        "colab": {
          "base_uri": "https://localhost:8080/"
        },
        "id": "Yln2ca9w03_3",
        "outputId": "b03d529f-72d4-4e62-adf0-537d7d409873"
      },
      "execution_count": 67,
      "outputs": [
        {
          "output_type": "execute_result",
          "data": {
            "text/plain": [
              "4"
            ]
          },
          "metadata": {},
          "execution_count": 67
        }
      ]
    },
    {
      "cell_type": "code",
      "source": [
        "arr2d"
      ],
      "metadata": {
        "colab": {
          "base_uri": "https://localhost:8080/"
        },
        "id": "ley4AvAW1A_e",
        "outputId": "10476d31-b528-40e4-b74f-269e85e661fd"
      },
      "execution_count": 68,
      "outputs": [
        {
          "output_type": "execute_result",
          "data": {
            "text/plain": [
              "array([[  1,   2,   3],\n",
              "       [  4,   5,   6],\n",
              "       [100, 200, 300],\n",
              "       [ 50,  60,  80],\n",
              "       [ 10,  20,  25]])"
            ]
          },
          "metadata": {},
          "execution_count": 68
        }
      ]
    },
    {
      "cell_type": "code",
      "source": [
        "arr2d[3][2] # arr2d[3,2]"
      ],
      "metadata": {
        "colab": {
          "base_uri": "https://localhost:8080/"
        },
        "id": "ldQw0cJC1Eo-",
        "outputId": "4fea73c0-31a7-4c6e-9a6d-f280bf85f130"
      },
      "execution_count": 71,
      "outputs": [
        {
          "output_type": "execute_result",
          "data": {
            "text/plain": [
              "80"
            ]
          },
          "metadata": {},
          "execution_count": 71
        }
      ]
    },
    {
      "cell_type": "code",
      "source": [
        "arr3d"
      ],
      "metadata": {
        "colab": {
          "base_uri": "https://localhost:8080/"
        },
        "id": "_7aOAIJS1L1m",
        "outputId": "d3e059d4-9815-4c17-f7bb-0d52c3079509"
      },
      "execution_count": 72,
      "outputs": [
        {
          "output_type": "execute_result",
          "data": {
            "text/plain": [
              "array([[[  1,   2,   3],\n",
              "        [  4,   5,   6]],\n",
              "\n",
              "       [[  7,   8,   9],\n",
              "        [100, 200, 300]]])"
            ]
          },
          "metadata": {},
          "execution_count": 72
        }
      ]
    },
    {
      "cell_type": "code",
      "source": [
        "arr3d[0][1][2] # arr3d[0,1,2]"
      ],
      "metadata": {
        "colab": {
          "base_uri": "https://localhost:8080/"
        },
        "id": "g7xANYif1Z_3",
        "outputId": "ed002449-f16c-43f0-de19-a1d89caa7770"
      },
      "execution_count": 73,
      "outputs": [
        {
          "output_type": "execute_result",
          "data": {
            "text/plain": [
              "6"
            ]
          },
          "metadata": {},
          "execution_count": 73
        }
      ]
    },
    {
      "cell_type": "code",
      "source": [
        "arr3d[1][0][-1] # Negatif indexleme burda da var."
      ],
      "metadata": {
        "colab": {
          "base_uri": "https://localhost:8080/"
        },
        "id": "919zWXVs1ntn",
        "outputId": "7ae05e8d-e2e6-482e-e662-2934f46494dd"
      },
      "execution_count": 74,
      "outputs": [
        {
          "output_type": "execute_result",
          "data": {
            "text/plain": [
              "9"
            ]
          },
          "metadata": {},
          "execution_count": 74
        }
      ]
    },
    {
      "cell_type": "code",
      "source": [
        "# Soru : 53'den 61'e kadar(53 ve 61 dahil) olan tam sayıları içeren bir boyutlu bir array oluşturun. Ardından bu array'in 4.indexindeki sayıyı ekrana bastırın."
      ],
      "metadata": {
        "id": "c3uzPQQq12f3"
      },
      "execution_count": null,
      "outputs": []
    },
    {
      "cell_type": "code",
      "source": [
        "arr = np.arange(53,62)\n",
        "arr[4]"
      ],
      "metadata": {
        "colab": {
          "base_uri": "https://localhost:8080/"
        },
        "id": "IyKOQ6uq2p_4",
        "outputId": "b85dbb2e-52d6-48bb-bf79-520a5a8b44f7"
      },
      "execution_count": 79,
      "outputs": [
        {
          "output_type": "execute_result",
          "data": {
            "text/plain": [
              "57"
            ]
          },
          "metadata": {},
          "execution_count": 79
        }
      ]
    },
    {
      "cell_type": "markdown",
      "source": [
        "# NumPy Dizilerinin Maximum-Minimum Elemanlarına ve bu Elemanların İndexlerine Erişme"
      ],
      "metadata": {
        "id": "HZd5xf9E232D"
      }
    },
    {
      "cell_type": "code",
      "source": [
        "arr = np.random.randint(1,100,10)\n",
        "arr"
      ],
      "metadata": {
        "colab": {
          "base_uri": "https://localhost:8080/"
        },
        "id": "fUjTIltC2tV_",
        "outputId": "118a7e2d-2c29-4742-f6e2-a06446651a4e"
      },
      "execution_count": 80,
      "outputs": [
        {
          "output_type": "execute_result",
          "data": {
            "text/plain": [
              "array([54, 20, 67, 30, 76, 80, 89,  6, 35,  4])"
            ]
          },
          "metadata": {},
          "execution_count": 80
        }
      ]
    },
    {
      "cell_type": "code",
      "source": [
        "arr.max()"
      ],
      "metadata": {
        "colab": {
          "base_uri": "https://localhost:8080/"
        },
        "id": "F_vf65nF3GOn",
        "outputId": "db8d4bfd-d74f-41dc-fac8-7baad761eaf5"
      },
      "execution_count": 81,
      "outputs": [
        {
          "output_type": "execute_result",
          "data": {
            "text/plain": [
              "89"
            ]
          },
          "metadata": {},
          "execution_count": 81
        }
      ]
    },
    {
      "cell_type": "code",
      "source": [
        "arr.argmax()"
      ],
      "metadata": {
        "colab": {
          "base_uri": "https://localhost:8080/"
        },
        "id": "gBbrrkrR3OTo",
        "outputId": "aa18333f-cb10-4915-f892-27106b0776bf"
      },
      "execution_count": 82,
      "outputs": [
        {
          "output_type": "execute_result",
          "data": {
            "text/plain": [
              "6"
            ]
          },
          "metadata": {},
          "execution_count": 82
        }
      ]
    },
    {
      "cell_type": "code",
      "source": [
        "arr.min()"
      ],
      "metadata": {
        "colab": {
          "base_uri": "https://localhost:8080/"
        },
        "id": "ozKaaOI43WHv",
        "outputId": "35c07f75-985c-441e-df98-519ce26aefd4"
      },
      "execution_count": 83,
      "outputs": [
        {
          "output_type": "execute_result",
          "data": {
            "text/plain": [
              "4"
            ]
          },
          "metadata": {},
          "execution_count": 83
        }
      ]
    },
    {
      "cell_type": "code",
      "source": [
        "arr.argmin()"
      ],
      "metadata": {
        "colab": {
          "base_uri": "https://localhost:8080/"
        },
        "id": "vleQTPwv3eoX",
        "outputId": "3e6d23d0-dd9f-4969-cd42-ea434b98199d"
      },
      "execution_count": 84,
      "outputs": [
        {
          "output_type": "execute_result",
          "data": {
            "text/plain": [
              "9"
            ]
          },
          "metadata": {},
          "execution_count": 84
        }
      ]
    },
    {
      "cell_type": "markdown",
      "source": [
        "# NumPy Arraylerinde Slicing(Dilimleme) Yapılabilir"
      ],
      "metadata": {
        "id": "ScNlenjX3r1-"
      }
    },
    {
      "cell_type": "code",
      "source": [
        "arr = np.arange(50,65)\n",
        "arr"
      ],
      "metadata": {
        "colab": {
          "base_uri": "https://localhost:8080/"
        },
        "id": "FY7_NLoO3gw-",
        "outputId": "e8b57a70-b9c8-4594-8d78-5d2b49c7d15d"
      },
      "execution_count": 86,
      "outputs": [
        {
          "output_type": "execute_result",
          "data": {
            "text/plain": [
              "array([50, 51, 52, 53, 54, 55, 56, 57, 58, 59, 60, 61, 62, 63, 64])"
            ]
          },
          "metadata": {},
          "execution_count": 86
        }
      ]
    },
    {
      "cell_type": "code",
      "source": [
        "arr[5:11]"
      ],
      "metadata": {
        "colab": {
          "base_uri": "https://localhost:8080/"
        },
        "id": "M0qPYbmp35vn",
        "outputId": "ca8b634c-348c-4875-d33c-009d1f9ffb3d"
      },
      "execution_count": 88,
      "outputs": [
        {
          "output_type": "execute_result",
          "data": {
            "text/plain": [
              "array([55, 56, 57, 58, 59, 60])"
            ]
          },
          "metadata": {},
          "execution_count": 88
        }
      ]
    },
    {
      "cell_type": "code",
      "source": [
        "arr[-5:]"
      ],
      "metadata": {
        "colab": {
          "base_uri": "https://localhost:8080/"
        },
        "id": "q3YB9FDY4I9X",
        "outputId": "0557674e-865f-497e-9756-ca6fbc268cbe"
      },
      "execution_count": 92,
      "outputs": [
        {
          "output_type": "execute_result",
          "data": {
            "text/plain": [
              "array([60, 61, 62, 63, 64])"
            ]
          },
          "metadata": {},
          "execution_count": 92
        }
      ]
    },
    {
      "cell_type": "code",
      "source": [
        "arr[2:10:2]"
      ],
      "metadata": {
        "colab": {
          "base_uri": "https://localhost:8080/"
        },
        "id": "fZ4MYWqG4Zvk",
        "outputId": "6b961fd3-7587-46aa-d2b8-aef97f8e9782"
      },
      "execution_count": 93,
      "outputs": [
        {
          "output_type": "execute_result",
          "data": {
            "text/plain": [
              "array([52, 54, 56, 58])"
            ]
          },
          "metadata": {},
          "execution_count": 93
        }
      ]
    },
    {
      "cell_type": "code",
      "source": [
        "arr[5:11] = 999 # Broadcasting"
      ],
      "metadata": {
        "id": "2lWUzaep4yks"
      },
      "execution_count": 94,
      "outputs": []
    },
    {
      "cell_type": "code",
      "source": [
        "arr"
      ],
      "metadata": {
        "colab": {
          "base_uri": "https://localhost:8080/"
        },
        "id": "sMhtk-vS5gGE",
        "outputId": "07acc3d5-5675-4f59-bb1e-07c9b89b1042"
      },
      "execution_count": 95,
      "outputs": [
        {
          "output_type": "execute_result",
          "data": {
            "text/plain": [
              "array([ 50,  51,  52,  53,  54, 999, 999, 999, 999, 999, 999,  61,  62,\n",
              "        63,  64])"
            ]
          },
          "metadata": {},
          "execution_count": 95
        }
      ]
    },
    {
      "cell_type": "code",
      "source": [
        "# Soru\n",
        "# -30 ile 10(İkisi de dahil) arasındaki tam sayılardan bir array oluşturun. Ardından slicing yaparak 5. ve 18. indexler arasındaki sayılardan(ikisi de dahil) oluşan bir array oluşturun."
      ],
      "metadata": {
        "id": "EIJw1u025iAO"
      },
      "execution_count": null,
      "outputs": []
    },
    {
      "cell_type": "code",
      "source": [
        "arr = np.arange(-30 , 11)\n",
        "arr[5:19]"
      ],
      "metadata": {
        "colab": {
          "base_uri": "https://localhost:8080/"
        },
        "id": "5anafgM46ezb",
        "outputId": "8761c272-42be-48d7-e94e-adae13081fb7"
      },
      "execution_count": 100,
      "outputs": [
        {
          "output_type": "execute_result",
          "data": {
            "text/plain": [
              "array([-25, -24, -23, -22, -21, -20, -19, -18, -17, -16, -15, -14, -13,\n",
              "       -12])"
            ]
          },
          "metadata": {},
          "execution_count": 100
        }
      ]
    },
    {
      "cell_type": "markdown",
      "source": [
        "# Bir Arrayin Veri Türünü(Data Type'ını) Kontrol Etme"
      ],
      "metadata": {
        "id": "Jf2va4zd6riH"
      }
    },
    {
      "cell_type": "code",
      "source": [
        "# .dtype attribute'ı ile arrayimizin data type'ı kontrol edilebilir."
      ],
      "metadata": {
        "id": "co403JvN6i8P"
      },
      "execution_count": null,
      "outputs": []
    },
    {
      "cell_type": "code",
      "source": [
        "arr = np.arange(10)\n",
        "arr"
      ],
      "metadata": {
        "colab": {
          "base_uri": "https://localhost:8080/"
        },
        "id": "hGc2lm5_7J6C",
        "outputId": "106782cf-8718-45ba-b2c6-da3c213f8a86"
      },
      "execution_count": 101,
      "outputs": [
        {
          "output_type": "execute_result",
          "data": {
            "text/plain": [
              "array([0, 1, 2, 3, 4, 5, 6, 7, 8, 9])"
            ]
          },
          "metadata": {},
          "execution_count": 101
        }
      ]
    },
    {
      "cell_type": "code",
      "source": [
        "arr.dtype"
      ],
      "metadata": {
        "colab": {
          "base_uri": "https://localhost:8080/"
        },
        "id": "vAhqXCXV7LKG",
        "outputId": "375d096a-f300-4033-e307-500f3ba647a9"
      },
      "execution_count": 104,
      "outputs": [
        {
          "output_type": "execute_result",
          "data": {
            "text/plain": [
              "dtype('int64')"
            ]
          },
          "metadata": {},
          "execution_count": 104
        }
      ]
    },
    {
      "cell_type": "code",
      "source": [
        "arr2 = np.arange(100, dtype = 'float')\n",
        "arr2"
      ],
      "metadata": {
        "colab": {
          "base_uri": "https://localhost:8080/"
        },
        "id": "ITbJIXMA7RiW",
        "outputId": "ded856ff-160e-4d81-dff2-382d29a38cc3"
      },
      "execution_count": 105,
      "outputs": [
        {
          "output_type": "execute_result",
          "data": {
            "text/plain": [
              "array([ 0.,  1.,  2.,  3.,  4.,  5.,  6.,  7.,  8.,  9., 10., 11., 12.,\n",
              "       13., 14., 15., 16., 17., 18., 19., 20., 21., 22., 23., 24., 25.,\n",
              "       26., 27., 28., 29., 30., 31., 32., 33., 34., 35., 36., 37., 38.,\n",
              "       39., 40., 41., 42., 43., 44., 45., 46., 47., 48., 49., 50., 51.,\n",
              "       52., 53., 54., 55., 56., 57., 58., 59., 60., 61., 62., 63., 64.,\n",
              "       65., 66., 67., 68., 69., 70., 71., 72., 73., 74., 75., 76., 77.,\n",
              "       78., 79., 80., 81., 82., 83., 84., 85., 86., 87., 88., 89., 90.,\n",
              "       91., 92., 93., 94., 95., 96., 97., 98., 99.])"
            ]
          },
          "metadata": {},
          "execution_count": 105
        }
      ]
    },
    {
      "cell_type": "code",
      "source": [
        "arr2.dtype"
      ],
      "metadata": {
        "colab": {
          "base_uri": "https://localhost:8080/"
        },
        "id": "XeFbPr0g7cUG",
        "outputId": "eb49f937-57ae-48f7-dae1-a3d419fd5bd6"
      },
      "execution_count": 106,
      "outputs": [
        {
          "output_type": "execute_result",
          "data": {
            "text/plain": [
              "dtype('float64')"
            ]
          },
          "metadata": {},
          "execution_count": 106
        }
      ]
    },
    {
      "cell_type": "code",
      "source": [
        "arr3 = np.array(['a','b','c'])\n",
        "arr3"
      ],
      "metadata": {
        "colab": {
          "base_uri": "https://localhost:8080/"
        },
        "id": "IbJvz39W7eqO",
        "outputId": "c25dc67e-322a-4867-ad27-2bde3634df71"
      },
      "execution_count": 107,
      "outputs": [
        {
          "output_type": "execute_result",
          "data": {
            "text/plain": [
              "array(['a', 'b', 'c'], dtype='<U1')"
            ]
          },
          "metadata": {},
          "execution_count": 107
        }
      ]
    },
    {
      "cell_type": "code",
      "source": [
        "arr3.dtype"
      ],
      "metadata": {
        "colab": {
          "base_uri": "https://localhost:8080/"
        },
        "id": "y6Q99AF97lPG",
        "outputId": "23c19689-cb60-4652-f5b0-2abd03854572"
      },
      "execution_count": 108,
      "outputs": [
        {
          "output_type": "execute_result",
          "data": {
            "text/plain": [
              "dtype('<U1')"
            ]
          },
          "metadata": {},
          "execution_count": 108
        }
      ]
    },
    {
      "cell_type": "markdown",
      "source": [
        "# Bir Arrayin Dtype'ını Değiştirme"
      ],
      "metadata": {
        "id": "abQx20l77soF"
      }
    },
    {
      "cell_type": "code",
      "source": [
        "arr = np.array([1.2 , 3.5 , 5.8])\n",
        "arr"
      ],
      "metadata": {
        "colab": {
          "base_uri": "https://localhost:8080/"
        },
        "id": "hwqzVIhb7nd-",
        "outputId": "ee1229dd-e0c7-4c1a-914f-ee9f49f769d0"
      },
      "execution_count": 109,
      "outputs": [
        {
          "output_type": "execute_result",
          "data": {
            "text/plain": [
              "array([1.2, 3.5, 5.8])"
            ]
          },
          "metadata": {},
          "execution_count": 109
        }
      ]
    },
    {
      "cell_type": "code",
      "source": [
        "arr.dtype"
      ],
      "metadata": {
        "colab": {
          "base_uri": "https://localhost:8080/"
        },
        "id": "VzdT62is7zCe",
        "outputId": "ba85edad-0b94-4c79-b0cd-0248279c7376"
      },
      "execution_count": 111,
      "outputs": [
        {
          "output_type": "execute_result",
          "data": {
            "text/plain": [
              "dtype('float64')"
            ]
          },
          "metadata": {},
          "execution_count": 111
        }
      ]
    },
    {
      "cell_type": "code",
      "source": [
        "# .astype() methodu ile arraylerin dtype'ı değiştirebilir."
      ],
      "metadata": {
        "id": "Y45DNCoz71H_"
      },
      "execution_count": null,
      "outputs": []
    },
    {
      "cell_type": "code",
      "source": [
        "arr = arr.astype('int')\n",
        "arr"
      ],
      "metadata": {
        "colab": {
          "base_uri": "https://localhost:8080/"
        },
        "id": "9OWEM_3C8A7i",
        "outputId": "1e4c014b-53d5-4f1d-b3f2-f81a5637d550"
      },
      "execution_count": 114,
      "outputs": [
        {
          "output_type": "execute_result",
          "data": {
            "text/plain": [
              "array([ 5,  7, 19,  1, 22, 99,  4])"
            ]
          },
          "metadata": {},
          "execution_count": 114
        }
      ]
    },
    {
      "cell_type": "code",
      "source": [
        "# Soru :\n",
        "# arr = np.array(['5', '7', '19', '1', '22', '99', '4']) şeklindeki array'in type'ını int'e döndürün ardından dtype'ını kontrol edin."
      ],
      "metadata": {
        "id": "JFurcuRE8EhG"
      },
      "execution_count": null,
      "outputs": []
    },
    {
      "cell_type": "code",
      "source": [
        "arr = np.array(['5', '7', '19', '1', '22', '99', '4'])"
      ],
      "metadata": {
        "id": "AoqlGXnH8Nif"
      },
      "execution_count": 117,
      "outputs": []
    },
    {
      "cell_type": "code",
      "source": [
        "arr"
      ],
      "metadata": {
        "colab": {
          "base_uri": "https://localhost:8080/"
        },
        "id": "oQz-o36q82GP",
        "outputId": "2db9e12b-e8a6-43d4-c145-23cb2501de67"
      },
      "execution_count": 118,
      "outputs": [
        {
          "output_type": "execute_result",
          "data": {
            "text/plain": [
              "array(['5', '7', '19', '1', '22', '99', '4'], dtype='<U2')"
            ]
          },
          "metadata": {},
          "execution_count": 118
        }
      ]
    },
    {
      "cell_type": "code",
      "source": [
        "arr = arr.astype(int)"
      ],
      "metadata": {
        "id": "slrRQ5s38OPv"
      },
      "execution_count": 121,
      "outputs": []
    },
    {
      "cell_type": "code",
      "source": [
        "arr"
      ],
      "metadata": {
        "colab": {
          "base_uri": "https://localhost:8080/"
        },
        "id": "5N9GNNZL8w5e",
        "outputId": "b040ac99-90b1-4170-974a-baa62655d046"
      },
      "execution_count": 122,
      "outputs": [
        {
          "output_type": "execute_result",
          "data": {
            "text/plain": [
              "array([ 5,  7, 19,  1, 22, 99,  4])"
            ]
          },
          "metadata": {},
          "execution_count": 122
        }
      ]
    },
    {
      "cell_type": "code",
      "source": [
        "# 1.Ders Sonu"
      ],
      "metadata": {
        "id": "cgaA5qyh8yyW"
      },
      "execution_count": null,
      "outputs": []
    }
  ]
}