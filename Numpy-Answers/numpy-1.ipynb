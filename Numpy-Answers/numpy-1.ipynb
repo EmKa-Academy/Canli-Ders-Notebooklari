{
 "cells": [
  {
   "attachments": {},
   "cell_type": "markdown",
   "metadata": {},
   "source": [
    "Sorular: \n",
    "\n",
    "# https://github.com/EmincanY\n",
    "\n",
    "\n",
    "1) Manuel değerleri el ile girerek 3 boyutlu bir array oluşturup bir değişkene atayın. Ardından 3 boyutlu olup olmadığına bakmak için dimension'ını kontrol edin\n",
    "2) 34, 40, 46, 52... 112 şeklinde devam eden 1 boyutlu bir array oluşturun.\n",
    "3) 50-500 arasında lineer artış gösteren 91 tane tam sayıdan oluşan bir array oluşturun.(dtype'ı int olsun)\n",
    "4) 100(10**2) ile 10000(10**5) arasında logaritmik artış gösteren 8 sayıdan oluşan bir array oluşturun.\n",
    "5) 0-8 tam arasındaki ardışık tam sayılardan oluşan(0 ve 8 dahil toplam 9 değer) 3x3 shape'inde bir matris oluşturun.\n",
    "6) 6x6 formatında bir sıfır matrisi oluşturun. (dtype'ı int olsun)\n",
    "7) 4x4 formatında bir bir matrisi oluşturun. (dtype'ı int olsun)\n",
    "8) 8x8 formatında bir birim matris oluşturun. (Sadece sol köşegeni 1 geri kalan değerleri 0 olan matris'e birim matris deniyor.) (dtype'ı int olsun)\n",
    "9) 5x5 formatında bir köşegen matrisi oluşturun (Sadece sol üstten sağ alta doğru olan köşegendeki değerleri 3 olsun diğer bütün değerleri 0) (Bunu henüz görmediniz ama birim matrise benziyor, sadece köşegen değerleri 1 değil 3 olacak. Bir şeyler düşünün)\n",
    "10) np.random modülünden uygun fonksiyonu kullanarak 0-1 arasında toplam 6 tane değerden oluşan 1 boyutlu bir array oluşturun.\n",
    "11) np.random modülünden uygun fonksiyonu kullanarak 50-100 arasındaki(50 ve 100 dahil) tam sayılardan 10 tanesiyle oluşan (5,2) shape'inde bir array oluşturun. Ardından bu arrayin shape'ini kontrol edin.\n",
    "12) np.random modülünden uygun fonksiyonu kullanarak 100-1000(1000 dahil değil) arasındaki tam sayılardan rastgele 50 tanesinden oluşan (2,5,5) shape'inde 3 boyutlu bir array oluşturun. Ardından bu array'in dimension'ını(boyutunu) ve shape'ini kontrol edin.\n",
    "13) np.random modülünden uygun fonksiyonu kullanarak 0-100(0 ve 100 dahil) arasındaki tam sayılardan 10 tane seçerek bir array oluşturun. Bu array'in maximum, mininmum değerlerine ve bu değerlerin indexlerine bakın.\n",
    "14) np.random modülünden uygun fonksiyonu kullanarak 300-500(300 ve 500 dahil) arasındaki tam sayılardan 20 tane seçerek (2,2,5) shape'inde 3 boyutlu bir array oluşturun. Ardından bu array'in içindeki 20 tam sayı arasından maximum ve minimum değerleri manuel olarak tespit edin ve indexleme yaparak çekmeye çalışın.\n",
    "15) 0-50(50 dahil) arasındaki ardışık tam sayılardan oluşan bir array oluşturun. Ardından bu arrayin 20. ve 35. indexleri arasındaki değerleri 500'e eşitleyin ve yeni oluşan array'i ekrana yazdırarak broadcasting işleminin yapılıp yapılmadığını test edin."
   ]
  },
  {
   "cell_type": "code",
   "execution_count": 1,
   "metadata": {},
   "outputs": [
    {
     "name": "stdout",
     "output_type": "stream",
     "text": [
      "Dimension 3\n"
     ]
    }
   ],
   "source": [
    "# Q-1 \n",
    "# Manuel değerleri el ile girerek 3 boyutlu bir array oluşturup bir değişkene atayın. Ardından 3 boyutlu olup olmadığına bakmak için dimension'ını kontrol edin\n",
    "import numpy as np\n",
    "array_3d = np.array([[[1,2,3],[4,5,6],[7,8,9]]])\n",
    "print(\"Dimension\", array_3d.ndim)"
   ]
  },
  {
   "cell_type": "code",
   "execution_count": 2,
   "metadata": {},
   "outputs": [
    {
     "name": "stdout",
     "output_type": "stream",
     "text": [
      "1D Array [ 34  40  46  52  58  64  70  76  82  88  94 100 106 112]\n"
     ]
    }
   ],
   "source": [
    "# Q-2\n",
    "# 34, 40, 46, 52... 112 şeklinde devam eden 1 boyutlu bir array oluşturun.\n",
    "array_1d = np.arange(34,113,6)\n",
    "print(\"1D Array\", array_1d)"
   ]
  },
  {
   "cell_type": "code",
   "execution_count": 3,
   "metadata": {},
   "outputs": [
    {
     "name": "stdout",
     "output_type": "stream",
     "text": [
      "Linear Array [ 50  55  60  65  70  75  80  85  90  95 100 105 110 115 120 125 130 135\n",
      " 140 145 150 155 160 165 170 175 180 185 190 195 200 205 210 215 220 225\n",
      " 230 235 240 245 250 255 260 265 270 275 280 285 290 295 300 305 310 315\n",
      " 320 325 330 335 340 345 350 355 360 365 370 375 380 385 390 395 400 405\n",
      " 410 415 420 425 430 435 440 445 450 455 460 465 470 475 480 485 490 495\n",
      " 500]\n"
     ]
    }
   ],
   "source": [
    "# Q-3\n",
    "# 50-500 arasında lineer artış gösteren 91 tane tam sayıdan oluşan bir array oluşturun.(dtype'ı int olsun) \n",
    "linear_array = np.linspace(50,500,91,dtype=int)\n",
    "print(\"Linear Array\", linear_array)\n"
   ]
  },
  {
   "cell_type": "code",
   "execution_count": 4,
   "metadata": {},
   "outputs": [
    {
     "name": "stdout",
     "output_type": "stream",
     "text": [
      "Log Array [   100.            268.26957953    719.685673     1930.69772888\n",
      "   5179.47467923  13894.95494373  37275.93720315 100000.        ]\n"
     ]
    }
   ],
   "source": [
    "# Q-4\n",
    "# 100(10**2) ile 10000(10**5) arasında logaritmik artış gösteren 8 sayıdan oluşan bir array oluşturun.\n",
    "log_array = np.logspace(2,5,8)\n",
    "print(\"Log Array\", log_array)\n"
   ]
  },
  {
   "cell_type": "code",
   "execution_count": 6,
   "metadata": {},
   "outputs": [
    {
     "name": "stdout",
     "output_type": "stream",
     "text": [
      "Matrix \n",
      " [[0 1 2]\n",
      " [3 4 5]\n",
      " [6 7 8]]\n"
     ]
    }
   ],
   "source": [
    "# Q-5\n",
    "# 0-8 tam arasındaki ardışık tam sayılardan oluşan(0 ve 8 dahil toplam 9 değer) 3x3 shape'inde bir matris oluşturun.\n",
    "\n",
    "matrix = np.arange(9).reshape(3,3)\n",
    "print(\"Matrix \\n\", matrix)\n"
   ]
  },
  {
   "cell_type": "code",
   "execution_count": 7,
   "metadata": {},
   "outputs": [
    {
     "name": "stdout",
     "output_type": "stream",
     "text": [
      "Zero Matrix \n",
      " [[0 0 0 0 0 0]\n",
      " [0 0 0 0 0 0]\n",
      " [0 0 0 0 0 0]\n",
      " [0 0 0 0 0 0]\n",
      " [0 0 0 0 0 0]\n",
      " [0 0 0 0 0 0]]\n"
     ]
    }
   ],
   "source": [
    "# Q-6\n",
    "# 6x6 formatında bir sıfır matrisi oluşturun. (dtype'ı int olsun)\n",
    "zero_matrix = np.zeros((6,6),dtype=int)\n",
    "print(\"Zero Matrix \\n\", zero_matrix)"
   ]
  },
  {
   "cell_type": "code",
   "execution_count": 8,
   "metadata": {},
   "outputs": [
    {
     "name": "stdout",
     "output_type": "stream",
     "text": [
      "One Matrix \n",
      " [[1 1 1 1]\n",
      " [1 1 1 1]\n",
      " [1 1 1 1]\n",
      " [1 1 1 1]]\n"
     ]
    }
   ],
   "source": [
    "# Q-7\n",
    "# 4x4 formatında bir bir matrisi oluşturun. (dtype'ı int olsun)\n",
    "one_matrix = np.ones((4,4),dtype=int)\n",
    "print(\"One Matrix \\n\", one_matrix)"
   ]
  },
  {
   "cell_type": "code",
   "execution_count": 9,
   "metadata": {},
   "outputs": [
    {
     "name": "stdout",
     "output_type": "stream",
     "text": [
      "Identity Matrix \n",
      " [[1 0 0 0 0 0 0 0]\n",
      " [0 1 0 0 0 0 0 0]\n",
      " [0 0 1 0 0 0 0 0]\n",
      " [0 0 0 1 0 0 0 0]\n",
      " [0 0 0 0 1 0 0 0]\n",
      " [0 0 0 0 0 1 0 0]\n",
      " [0 0 0 0 0 0 1 0]\n",
      " [0 0 0 0 0 0 0 1]]\n"
     ]
    }
   ],
   "source": [
    "# Q-8\n",
    "# 8x8 formatında bir birim matris oluşturun. (Sadece sol köşegeni 1 geri kalan değerleri 0 olan matris'e birim matris deniyor.) (dtype'ı int olsun)\n",
    "\n",
    "identity_matrix = np.eye(8,dtype=int)\n",
    "print(\"Identity Matrix \\n\", identity_matrix)"
   ]
  },
  {
   "cell_type": "code",
   "execution_count": 10,
   "metadata": {},
   "outputs": [
    {
     "name": "stdout",
     "output_type": "stream",
     "text": [
      "Diagonal Matrix \n",
      " [[3 0 0 0 0]\n",
      " [0 3 0 0 0]\n",
      " [0 0 3 0 0]\n",
      " [0 0 0 3 0]\n",
      " [0 0 0 0 3]]\n"
     ]
    }
   ],
   "source": [
    "# Q-9\n",
    "# 5x5 formatında bir köşegen matrisi oluşturun (Sadece sol üstten sağ alta doğru olan köşegendeki değerleri 3 olsun diğer bütün değerleri 0) \n",
    "# (Bunu henüz görmediniz ama birim matrise benziyor, sadece köşegen değerleri 1 değil 3 olacak. Bir şeyler düşünün)\n",
    "\n",
    "diagonal_matrix = np.eye(5,5,k=0,dtype=int)*3\n",
    "print(\"Diagonal Matrix \\n\", diagonal_matrix)"
   ]
  },
  {
   "cell_type": "code",
   "execution_count": 11,
   "metadata": {},
   "outputs": [
    {
     "name": "stdout",
     "output_type": "stream",
     "text": [
      "Random Array [0.32092347 0.33847097 0.66274738 0.5652764  0.3099164  0.78734159]\n"
     ]
    }
   ],
   "source": [
    "# Q-10\n",
    "# np.random modülünden uygun fonksiyonu kullanarak 0-1 arasında toplam 6 tane değerden oluşan 1 boyutlu bir array oluşturun.\n",
    "\n",
    "random_array = np.random.rand(6)\n",
    "print(\"Random Array\", random_array)"
   ]
  },
  {
   "cell_type": "code",
   "execution_count": 13,
   "metadata": {},
   "outputs": [
    {
     "name": "stdout",
     "output_type": "stream",
     "text": [
      "Random Array 2 \n",
      " [[85 82]\n",
      " [67 68]\n",
      " [68 58]\n",
      " [73 71]\n",
      " [53 77]]\n",
      "Shape of Random Array 2 (5, 2)\n"
     ]
    }
   ],
   "source": [
    "# Q-11\n",
    "# np.random modülünden uygun fonksiyonu kullanarak 50-100 arasındaki(50 ve 100 dahil) tam sayılardan 10 tanesiyle oluşan (5,2) shape'inde bir array oluşturun.\n",
    "# Ardından bu arrayin shape'ini kontrol edin.\n",
    "\n",
    "random_array_2 = np.random.randint(50,101,(5,2))\n",
    "print(\"Random Array 2 \\n\", random_array_2)\n",
    "print(\"Shape of Random Array 2\", random_array_2.shape)\n"
   ]
  },
  {
   "cell_type": "code",
   "execution_count": 14,
   "metadata": {},
   "outputs": [
    {
     "name": "stdout",
     "output_type": "stream",
     "text": [
      "Random Array 3 \n",
      " [[[488 825 427 883 215]\n",
      "  [268 995 460 167 308]\n",
      "  [328 445 295 823 698]\n",
      "  [499 690 538 597 461]\n",
      "  [607 990 846 912 903]]\n",
      "\n",
      " [[805 839 419 751 734]\n",
      "  [371 674 571 787 266]\n",
      "  [953 704 831 369 271]\n",
      "  [814 940 478 338 480]\n",
      "  [844 320 362 138 474]]]\n",
      "Dimension of Random Array 3 3\n"
     ]
    }
   ],
   "source": [
    "# Q-12\n",
    "# np.random modülünden uygun fonksiyonu kullanarak 100-1000(1000 dahil değil) arasındaki \n",
    "# tam sayılardan rastgele 50 tanesinden oluşan (2,5,5) shape'inde 3 boyutlu bir array oluşturun. Ardından bu array'in dimension'ını(boyutunu) ve shape'ini kontrol edin.\n",
    "\n",
    "random_array_3 = np.random.randint(100,1000,(2,5,5))\n",
    "print(\"Random Array 3 \\n\", random_array_3)\n",
    "print(\"Dimension of Random Array 3\", random_array_3.ndim)"
   ]
  },
  {
   "cell_type": "code",
   "execution_count": 16,
   "metadata": {},
   "outputs": [
    {
     "name": "stdout",
     "output_type": "stream",
     "text": [
      "Random Array 4: [ 7 47 15 79 80 20 67 66 31 16]\n",
      "Max Value 80\n",
      "Min Value 7\n",
      "Max Index 4\n",
      "Min Index 0\n"
     ]
    }
   ],
   "source": [
    "# Q-13\n",
    "# np.random modülünden uygun fonksiyonu kullanarak 0-100(0 ve 100 dahil) arasındaki tam sayılardan 10 tane seçerek bir array oluşturun. \n",
    "# Bu array'in maximum, mininmum değerlerine ve bu değerlerin indexlerine bakın.\n",
    "\n",
    "random_array_4 = np.random.randint(0,101,10)\n",
    "print(\"Random Array 4:\", random_array_4)\n",
    "max_value = random_array_4.max()\n",
    "min_value = random_array_4.min()\n",
    "max_index = random_array_4.argmax()\n",
    "min_index = random_array_4.argmin()\n",
    "print(\"Max Value\", max_value)\n",
    "print(\"Min Value\", min_value)\n",
    "print(\"Max Index\", max_index)\n",
    "print(\"Min Index\", min_index)"
   ]
  },
  {
   "cell_type": "code",
   "execution_count": 19,
   "metadata": {},
   "outputs": [
    {
     "name": "stdout",
     "output_type": "stream",
     "text": [
      "Random Array 5 \n",
      " [[[360 399 333 332 435]\n",
      "  [394 371 352 442 352]]\n",
      "\n",
      " [[492 400 433 465 325]\n",
      "  [318 338 409 348 423]]]\n",
      "Max Value 492\n",
      "Max Index 1 0 0\n",
      "Min Value 318\n",
      "Min Index 1 1 0\n"
     ]
    }
   ],
   "source": [
    "# Q-14\n",
    "# np.random modülünden uygun fonksiyonu kullanarak 300-500(300 ve 500 dahil) arasındaki tam sayılardan 20 tane seçerek (2,2,5) shape'inde 3 boyutlu bir array oluşturun. \n",
    "# Ardından bu array'in içindeki 20 tam sayı arasından maximum ve minimum değerleri manuel olarak tespit edin ve indexleme yaparak çekmeye çalışın.\n",
    "\n",
    "random_array_5 = np.random.randint(300,501,(2,2,5)) \n",
    "print(\"Random Array 5 \\n\", random_array_5)\n",
    "\n",
    "for i in range(2):\n",
    "    for j in range(2):\n",
    "        for k in range(5):\n",
    "            if random_array_5[i][j][k] == random_array_5.max():\n",
    "                print(\"Max Value\", random_array_5.max())\n",
    "                print(\"Max Index\", i,j,k)\n",
    "            if random_array_5[i][j][k] == random_array_5.min():\n",
    "                print(\"Min Value\", random_array_5.min())\n",
    "                print(\"Min Index\", i,j,k)\n",
    "        \n",
    "\n"
   ]
  },
  {
   "cell_type": "code",
   "execution_count": 21,
   "metadata": {},
   "outputs": [
    {
     "name": "stdout",
     "output_type": "stream",
     "text": [
      "Integer Array \n",
      " [  0   1   2   3   4   5   6   7   8   9  10  11  12  13  14  15  16  17\n",
      "  18  19 500 500 500 500 500 500 500 500 500 500 500 500 500 500 500 500\n",
      "  36  37  38  39  40  41  42  43  44  45  46  47  48  49  50]\n",
      "Broadcasting is done \n",
      " [500 500 500 500 500 500 500 500 500 500 500 500 500 500 500 500]\n"
     ]
    }
   ],
   "source": [
    "# Q-15\n",
    "# 0-50(50 dahil) arasındaki ardışık tam sayılardan oluşan bir array oluşturun. \n",
    "# Ardından bu arrayin 20. ve 35. indexleri arasındaki değerleri 500'e eşitleyin ve yeni oluşan array'i ekrana yazdırarak broadcasting işleminin yapılıp yapılmadığını test edin.\n",
    "\n",
    "int_array = np.arange(51) \n",
    "int_array[20:36] = 500\n",
    "print(\"Integer Array \\n\", int_array)\n",
    "print(\"Broadcasting is done \\n\", int_array[20:36])\n"
   ]
  },
  {
   "cell_type": "code",
   "execution_count": null,
   "metadata": {},
   "outputs": [],
   "source": []
  }
 ],
 "metadata": {
  "kernelspec": {
   "display_name": "Python 3",
   "language": "python",
   "name": "python3"
  },
  "language_info": {
   "codemirror_mode": {
    "name": "ipython",
    "version": 3
   },
   "file_extension": ".py",
   "mimetype": "text/x-python",
   "name": "python",
   "nbconvert_exporter": "python",
   "pygments_lexer": "ipython3",
   "version": "3.10.4"
  },
  "orig_nbformat": 4
 },
 "nbformat": 4,
 "nbformat_minor": 2
}
